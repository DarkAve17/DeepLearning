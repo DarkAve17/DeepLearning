{
  "nbformat": 4,
  "nbformat_minor": 0,
  "metadata": {
    "colab": {
      "provenance": []
    },
    "kernelspec": {
      "name": "python3",
      "display_name": "Python 3"
    },
    "language_info": {
      "name": "python"
    },
    "accelerator": "GPU",
    "gpuClass": "standard"
  },
  "cells": [
    {
      "cell_type": "code",
      "execution_count": 1,
      "metadata": {
        "id": "_y9Ut2pQ2T8A"
      },
      "outputs": [],
      "source": [
        "import numpy as np\n",
        "import pandas as pd\n",
        "import matplotlib.pyplot as plt\n",
        "import tensorflow as tf\n",
        "from tensorflow import keras\n",
        "import os\n",
        "for dirname, _, filenames in os.walk('/kaggle/input/cifar100'):\n",
        "    for filename in filenames:\n",
        "        print(os.path.join(dirname, filename))\n",
        "from tensorflow.keras import regularizers\n",
        "#import tensorflow.keras.regularizers\n",
        "import warnings\n",
        "warnings.filterwarnings('ignore') \n",
        "import warnings\n",
        "warnings.filterwarnings('ignore')\n",
        "import matplotlib.pyplot as plt\n",
        "import keras\n",
        "from keras.datasets import mnist\n",
        "from keras.models import Sequential,model_from_json\n",
        "from keras.layers import Dense\n",
        "from tensorflow.keras.optimizers import RMSprop\n",
        "from keras.utils import np_utils\n",
        "import pylab as plt\n",
        "from keras.regularizers import l1,l2\n",
        "from keras.layers import Dense, Dropout "
      ]
    },
    {
      "cell_type": "code",
      "source": [
        "from IPython.core.interactiveshell import InteractiveShell\n",
        "InteractiveShell.ast_node_interactivity = \"all\""
      ],
      "metadata": {
        "id": "5MBpBUkE2jbA"
      },
      "execution_count": 2,
      "outputs": []
    },
    {
      "cell_type": "code",
      "source": [
        "cifar100 = tf.keras.datasets.cifar100\n",
        "\n",
        "(train_images, train_labels), (test_images, test_labels) = cifar100.load_data()"
      ],
      "metadata": {
        "colab": {
          "base_uri": "https://localhost:8080/"
        },
        "id": "n2OQ4X3z3ClX",
        "outputId": "5ac41f6a-934e-43b3-ffc6-881fb216d199"
      },
      "execution_count": 3,
      "outputs": [
        {
          "output_type": "stream",
          "name": "stdout",
          "text": [
            "Downloading data from https://www.cs.toronto.edu/~kriz/cifar-100-python.tar.gz\n",
            "169001437/169001437 [==============================] - 6s 0us/step\n"
          ]
        }
      ]
    },
    {
      "cell_type": "code",
      "source": [
        "cifar100"
      ],
      "metadata": {
        "colab": {
          "base_uri": "https://localhost:8080/"
        },
        "id": "7r58KUzd3TXj",
        "outputId": "f54d20bf-25f2-46dc-c156-d8b914c67759"
      },
      "execution_count": 4,
      "outputs": [
        {
          "output_type": "execute_result",
          "data": {
            "text/plain": [
              "<module 'keras.api._v2.keras.datasets.cifar100' from '/usr/local/lib/python3.8/dist-packages/keras/api/_v2/keras/datasets/cifar100/__init__.py'>"
            ]
          },
          "metadata": {},
          "execution_count": 4
        }
      ]
    },
    {
      "cell_type": "code",
      "source": [
        "train_images.shape"
      ],
      "metadata": {
        "colab": {
          "base_uri": "https://localhost:8080/"
        },
        "id": "ApwyP9L-3UAL",
        "outputId": "375a9389-3841-415c-b9f2-951fe1f1d830"
      },
      "execution_count": 5,
      "outputs": [
        {
          "output_type": "execute_result",
          "data": {
            "text/plain": [
              "(50000, 32, 32, 3)"
            ]
          },
          "metadata": {},
          "execution_count": 5
        }
      ]
    },
    {
      "cell_type": "code",
      "source": [
        "train_labels.shape"
      ],
      "metadata": {
        "colab": {
          "base_uri": "https://localhost:8080/"
        },
        "id": "dh6brKIF3Xem",
        "outputId": "edc2ea84-03af-4cf4-f11e-329edd26b014"
      },
      "execution_count": 6,
      "outputs": [
        {
          "output_type": "execute_result",
          "data": {
            "text/plain": [
              "(50000, 1)"
            ]
          },
          "metadata": {},
          "execution_count": 6
        }
      ]
    },
    {
      "cell_type": "code",
      "source": [
        "modelnr = keras.Sequential([\n",
        "           keras.layers.Flatten(input_shape=(32,32,3)),\n",
        "           keras.layers.Dense(512, activation = 'relu'),\n",
        "           keras.layers.Dense(256, activation = 'relu'),\n",
        "           keras.layers.Dense(128, activation = 'relu'),\n",
        "           keras.layers.Dense(64, activation = 'relu'),\n",
        "           keras.layers.Dense(10,activation= 'softmax')\n",
        "                            ])\n",
        "modelnr.compile(optimizer='adam',\n",
        "              loss='sparse_categorical_crossentropy',\n",
        "              metrics=['accuracy'])"
      ],
      "metadata": {
        "id": "Q8kgdoJb3dNG"
      },
      "execution_count": 7,
      "outputs": []
    },
    {
      "cell_type": "code",
      "source": [
        "modelnr.summary"
      ],
      "metadata": {
        "colab": {
          "base_uri": "https://localhost:8080/"
        },
        "id": "D-8IkwOp3fnO",
        "outputId": "86447076-c613-48ef-f82b-ffa4bba96c95"
      },
      "execution_count": 8,
      "outputs": [
        {
          "output_type": "execute_result",
          "data": {
            "text/plain": [
              "<bound method Model.summary of <keras.engine.sequential.Sequential object at 0x7fa5fc1040a0>>"
            ]
          },
          "metadata": {},
          "execution_count": 8
        }
      ]
    },
    {
      "cell_type": "code",
      "source": [
        "modelnr.fit(train_images, train_labels, epochs=10,validation_data=(test_images,test_labels))"
      ],
      "metadata": {
        "colab": {
          "base_uri": "https://localhost:8080/"
        },
        "id": "IRO4RDdr3hKd",
        "outputId": "aa304ce5-4236-4dd0-f8d9-be5a5d4c9135"
      },
      "execution_count": 9,
      "outputs": [
        {
          "output_type": "stream",
          "name": "stdout",
          "text": [
            "Epoch 1/10\n",
            "1563/1563 [==============================] - 13s 5ms/step - loss: nan - accuracy: 0.0100 - val_loss: nan - val_accuracy: 0.0100\n",
            "Epoch 2/10\n",
            "1563/1563 [==============================] - 6s 4ms/step - loss: nan - accuracy: 0.0100 - val_loss: nan - val_accuracy: 0.0100\n",
            "Epoch 3/10\n",
            "1563/1563 [==============================] - 8s 5ms/step - loss: nan - accuracy: 0.0100 - val_loss: nan - val_accuracy: 0.0100\n",
            "Epoch 4/10\n",
            "1563/1563 [==============================] - 6s 4ms/step - loss: nan - accuracy: 0.0100 - val_loss: nan - val_accuracy: 0.0100\n",
            "Epoch 5/10\n",
            "1563/1563 [==============================] - 7s 5ms/step - loss: nan - accuracy: 0.0100 - val_loss: nan - val_accuracy: 0.0100\n",
            "Epoch 6/10\n",
            "1563/1563 [==============================] - 6s 4ms/step - loss: nan - accuracy: 0.0100 - val_loss: nan - val_accuracy: 0.0100\n",
            "Epoch 7/10\n",
            "1563/1563 [==============================] - 7s 4ms/step - loss: nan - accuracy: 0.0100 - val_loss: nan - val_accuracy: 0.0100\n",
            "Epoch 8/10\n",
            "1563/1563 [==============================] - 7s 5ms/step - loss: nan - accuracy: 0.0100 - val_loss: nan - val_accuracy: 0.0100\n",
            "Epoch 9/10\n",
            "1563/1563 [==============================] - 6s 4ms/step - loss: nan - accuracy: 0.0100 - val_loss: nan - val_accuracy: 0.0100\n",
            "Epoch 10/10\n",
            "1563/1563 [==============================] - 7s 4ms/step - loss: nan - accuracy: 0.0100 - val_loss: nan - val_accuracy: 0.0100\n"
          ]
        },
        {
          "output_type": "execute_result",
          "data": {
            "text/plain": [
              "<keras.callbacks.History at 0x7fa5760bad60>"
            ]
          },
          "metadata": {},
          "execution_count": 9
        }
      ]
    },
    {
      "cell_type": "code",
      "source": [
        "nrval = modelnr.evaluate(test_images,test_labels)\n",
        "print(nrval[0])"
      ],
      "metadata": {
        "colab": {
          "base_uri": "https://localhost:8080/"
        },
        "id": "uGy_oerm362_",
        "outputId": "503c7467-bc89-48cb-e758-62694ce2b886"
      },
      "execution_count": 10,
      "outputs": [
        {
          "output_type": "stream",
          "name": "stdout",
          "text": [
            "313/313 [==============================] - 1s 3ms/step - loss: nan - accuracy: 0.0100\n",
            "nan\n"
          ]
        }
      ]
    },
    {
      "cell_type": "code",
      "source": [
        "modelL1 = keras.Sequential([\n",
        "           keras.layers.Flatten(input_shape=(32,32,3)),\n",
        "           keras.layers.Dense(512, activation = 'relu', kernel_regularizer=regularizers.L1(l1=0.01)),\n",
        "           keras.layers.Dense(256, activation = 'relu', kernel_regularizer=regularizers.L1(l1=0.01)),\n",
        "           keras.layers.Dense(128, activation = 'relu', kernel_regularizer=regularizers.L1(l1=0.01)),\n",
        "           keras.layers.Dense(64, activation = 'relu', kernel_regularizer=regularizers.L1(l1=0.01)),\n",
        "           keras.layers.Dense(10,activation= 'softmax')\n",
        "                            ])\n",
        "modelL1.compile(optimizer='adam',\n",
        "              loss='sparse_categorical_crossentropy',\n",
        "              metrics=['accuracy'])"
      ],
      "metadata": {
        "id": "GAR-Bt-R38XD"
      },
      "execution_count": 11,
      "outputs": []
    },
    {
      "cell_type": "code",
      "source": [
        "modelL1.summary"
      ],
      "metadata": {
        "colab": {
          "base_uri": "https://localhost:8080/"
        },
        "id": "5qMeqyhq3-jy",
        "outputId": "474c7269-09f9-41ba-ae16-411bacfb2147"
      },
      "execution_count": 12,
      "outputs": [
        {
          "output_type": "execute_result",
          "data": {
            "text/plain": [
              "<bound method Model.summary of <keras.engine.sequential.Sequential object at 0x7fa5502412e0>>"
            ]
          },
          "metadata": {},
          "execution_count": 12
        }
      ]
    },
    {
      "cell_type": "code",
      "source": [
        "modelL1.fit(train_images, train_labels, epochs=10,validation_data=(test_images,test_labels))"
      ],
      "metadata": {
        "colab": {
          "base_uri": "https://localhost:8080/"
        },
        "id": "-5U67N8o4NAv",
        "outputId": "a2dd468f-ca63-4535-adeb-b8100b0a5a41"
      },
      "execution_count": 13,
      "outputs": [
        {
          "output_type": "stream",
          "name": "stdout",
          "text": [
            "Epoch 1/10\n",
            "1563/1563 [==============================] - 9s 4ms/step - loss: nan - accuracy: 0.0100 - val_loss: nan - val_accuracy: 0.0100\n",
            "Epoch 2/10\n",
            "1563/1563 [==============================] - 8s 5ms/step - loss: nan - accuracy: 0.0100 - val_loss: nan - val_accuracy: 0.0100\n",
            "Epoch 3/10\n",
            "1563/1563 [==============================] - 8s 5ms/step - loss: nan - accuracy: 0.0100 - val_loss: nan - val_accuracy: 0.0100\n",
            "Epoch 4/10\n",
            "1563/1563 [==============================] - 8s 5ms/step - loss: nan - accuracy: 0.0100 - val_loss: nan - val_accuracy: 0.0100\n",
            "Epoch 5/10\n",
            "1563/1563 [==============================] - 8s 5ms/step - loss: nan - accuracy: 0.0100 - val_loss: nan - val_accuracy: 0.0100\n",
            "Epoch 6/10\n",
            "1563/1563 [==============================] - 7s 4ms/step - loss: nan - accuracy: 0.0100 - val_loss: nan - val_accuracy: 0.0100\n",
            "Epoch 7/10\n",
            "1563/1563 [==============================] - 8s 5ms/step - loss: nan - accuracy: 0.0100 - val_loss: nan - val_accuracy: 0.0100\n",
            "Epoch 8/10\n",
            "1563/1563 [==============================] - 7s 5ms/step - loss: nan - accuracy: 0.0100 - val_loss: nan - val_accuracy: 0.0100\n",
            "Epoch 9/10\n",
            "1563/1563 [==============================] - 7s 4ms/step - loss: nan - accuracy: 0.0100 - val_loss: nan - val_accuracy: 0.0100\n",
            "Epoch 10/10\n",
            "1563/1563 [==============================] - 8s 5ms/step - loss: nan - accuracy: 0.0100 - val_loss: nan - val_accuracy: 0.0100\n"
          ]
        },
        {
          "output_type": "execute_result",
          "data": {
            "text/plain": [
              "<keras.callbacks.History at 0x7fa5502953d0>"
            ]
          },
          "metadata": {},
          "execution_count": 13
        }
      ]
    },
    {
      "cell_type": "code",
      "source": [
        "L1val = modelL1.evaluate(test_images,test_labels)\n",
        "print(L1val[0])"
      ],
      "metadata": {
        "colab": {
          "base_uri": "https://localhost:8080/"
        },
        "id": "SgVQhUQd4Pxr",
        "outputId": "0eddbce2-129a-4c58-9772-b10917d1be25"
      },
      "execution_count": 14,
      "outputs": [
        {
          "output_type": "stream",
          "name": "stdout",
          "text": [
            "313/313 [==============================] - 1s 3ms/step - loss: nan - accuracy: 0.0100\n",
            "nan\n"
          ]
        }
      ]
    },
    {
      "cell_type": "code",
      "source": [
        "modelL2 = keras.Sequential([\n",
        "           keras.layers.Flatten(input_shape=(32,32,3)),\n",
        "           keras.layers.Dense(512, activation = 'relu', kernel_regularizer=regularizers.L2(l2=0.05)),\n",
        "           keras.layers.Dense(256, activation = 'relu', kernel_regularizer=regularizers.L2(l2=0.05)),\n",
        "           keras.layers.Dense(128, activation = 'relu', kernel_regularizer=regularizers.L2(l2=0.05)),\n",
        "           keras.layers.Dense(64, activation = 'relu', kernel_regularizer=regularizers.L2(l2=0.05)),\n",
        "           keras.layers.Dense(10,activation= 'softmax')\n",
        "                            ])\n",
        "modelL2.compile(optimizer='adam',\n",
        "              loss='sparse_categorical_crossentropy',\n",
        "              metrics=['accuracy'])"
      ],
      "metadata": {
        "id": "wMSFJuUH4Rve"
      },
      "execution_count": 15,
      "outputs": []
    },
    {
      "cell_type": "code",
      "source": [
        "modelL2.summary"
      ],
      "metadata": {
        "colab": {
          "base_uri": "https://localhost:8080/"
        },
        "id": "Fjf5pGOZ4amm",
        "outputId": "a5b6ec41-0847-43a8-c04a-ec4ad682ffe7"
      },
      "execution_count": 16,
      "outputs": [
        {
          "output_type": "execute_result",
          "data": {
            "text/plain": [
              "<bound method Model.summary of <keras.engine.sequential.Sequential object at 0x7fa552376a00>>"
            ]
          },
          "metadata": {},
          "execution_count": 16
        }
      ]
    },
    {
      "cell_type": "code",
      "source": [
        "modelL2.fit(train_images,train_labels, epochs=10,validation_data=(test_images,test_labels))"
      ],
      "metadata": {
        "colab": {
          "base_uri": "https://localhost:8080/"
        },
        "id": "GL_xiRld4cGw",
        "outputId": "900df20f-fd56-4145-9029-f5a6c1d8bee7"
      },
      "execution_count": 17,
      "outputs": [
        {
          "output_type": "stream",
          "name": "stdout",
          "text": [
            "Epoch 1/10\n",
            "1563/1563 [==============================] - 9s 4ms/step - loss: nan - accuracy: 0.0100 - val_loss: nan - val_accuracy: 0.0100\n",
            "Epoch 2/10\n",
            "1563/1563 [==============================] - 7s 5ms/step - loss: nan - accuracy: 0.0100 - val_loss: nan - val_accuracy: 0.0100\n",
            "Epoch 3/10\n",
            "1563/1563 [==============================] - 7s 4ms/step - loss: nan - accuracy: 0.0100 - val_loss: nan - val_accuracy: 0.0100\n",
            "Epoch 4/10\n",
            "1563/1563 [==============================] - 8s 5ms/step - loss: nan - accuracy: 0.0100 - val_loss: nan - val_accuracy: 0.0100\n",
            "Epoch 5/10\n",
            "1563/1563 [==============================] - 7s 4ms/step - loss: nan - accuracy: 0.0100 - val_loss: nan - val_accuracy: 0.0100\n",
            "Epoch 6/10\n",
            "1563/1563 [==============================] - 7s 5ms/step - loss: nan - accuracy: 0.0100 - val_loss: nan - val_accuracy: 0.0100\n",
            "Epoch 7/10\n",
            "1563/1563 [==============================] - 7s 5ms/step - loss: nan - accuracy: 0.0100 - val_loss: nan - val_accuracy: 0.0100\n",
            "Epoch 8/10\n",
            "1563/1563 [==============================] - 7s 5ms/step - loss: nan - accuracy: 0.0100 - val_loss: nan - val_accuracy: 0.0100\n",
            "Epoch 9/10\n",
            "1563/1563 [==============================] - 8s 5ms/step - loss: nan - accuracy: 0.0100 - val_loss: nan - val_accuracy: 0.0100\n",
            "Epoch 10/10\n",
            "1563/1563 [==============================] - 7s 4ms/step - loss: nan - accuracy: 0.0100 - val_loss: nan - val_accuracy: 0.0100\n"
          ]
        },
        {
          "output_type": "execute_result",
          "data": {
            "text/plain": [
              "<keras.callbacks.History at 0x7fa55232b6d0>"
            ]
          },
          "metadata": {},
          "execution_count": 17
        }
      ]
    },
    {
      "cell_type": "code",
      "source": [
        "L2val = modelL2.evaluate(test_images,test_labels)\n",
        "print(L2val[0])"
      ],
      "metadata": {
        "id": "wCpAmhNe4d0G",
        "colab": {
          "base_uri": "https://localhost:8080/"
        },
        "outputId": "1af184ce-5f60-4067-93ec-a316458f33c6"
      },
      "execution_count": 18,
      "outputs": [
        {
          "output_type": "stream",
          "name": "stdout",
          "text": [
            "313/313 [==============================] - 1s 3ms/step - loss: nan - accuracy: 0.0100\n",
            "nan\n"
          ]
        }
      ]
    },
    {
      "cell_type": "code",
      "source": [
        "modeldropout = keras.Sequential([\n",
        "           keras.layers.Flatten(input_shape=(32,32,3)),\n",
        "           keras.layers.Dropout(0.4),\n",
        "           keras.layers.Dense(512, activation = 'relu'),\n",
        "           keras.layers.Dropout(0.4),\n",
        "           keras.layers.Dense(256, activation = 'relu'),\n",
        "           keras.layers.Dropout(0.4),\n",
        "           keras.layers.Dense(128, activation = 'relu'),\n",
        "           keras.layers.Dropout(0.4),\n",
        "           keras.layers.Dense(64, activation = 'relu'),\n",
        "           keras.layers.Dropout(0.4),\n",
        "           keras.layers.Dense(10,activation= 'softmax')\n",
        "                            ])\n",
        "modeldropout.compile(optimizer='adam',\n",
        "              loss='sparse_categorical_crossentropy',\n",
        "              metrics=['accuracy'])"
      ],
      "metadata": {
        "id": "gO10aS_m4fiA"
      },
      "execution_count": 19,
      "outputs": []
    },
    {
      "cell_type": "code",
      "source": [
        "modeldropout.summary"
      ],
      "metadata": {
        "id": "EMePpsvM4hlR",
        "colab": {
          "base_uri": "https://localhost:8080/"
        },
        "outputId": "4332f918-07f0-4fa3-f438-ca9192dea61d"
      },
      "execution_count": 20,
      "outputs": [
        {
          "output_type": "execute_result",
          "data": {
            "text/plain": [
              "<bound method Model.summary of <keras.engine.sequential.Sequential object at 0x7fa55213ddf0>>"
            ]
          },
          "metadata": {},
          "execution_count": 20
        }
      ]
    },
    {
      "cell_type": "code",
      "source": [
        "modeldropout.fit(train_images, train_labels, epochs=10,validation_data=(test_images,test_labels))"
      ],
      "metadata": {
        "id": "U3zLkiZu4jJZ",
        "colab": {
          "base_uri": "https://localhost:8080/"
        },
        "outputId": "1388eb3f-c130-4c88-e722-d3e954de5a23"
      },
      "execution_count": 21,
      "outputs": [
        {
          "output_type": "stream",
          "name": "stdout",
          "text": [
            "Epoch 1/10\n",
            "1563/1563 [==============================] - 9s 5ms/step - loss: nan - accuracy: 0.0100 - val_loss: nan - val_accuracy: 0.0100\n",
            "Epoch 2/10\n",
            "1563/1563 [==============================] - 7s 5ms/step - loss: nan - accuracy: 0.0100 - val_loss: nan - val_accuracy: 0.0100\n",
            "Epoch 3/10\n",
            "1563/1563 [==============================] - 8s 5ms/step - loss: nan - accuracy: 0.0100 - val_loss: nan - val_accuracy: 0.0100\n",
            "Epoch 4/10\n",
            "1563/1563 [==============================] - 8s 5ms/step - loss: nan - accuracy: 0.0100 - val_loss: nan - val_accuracy: 0.0100\n",
            "Epoch 5/10\n",
            "1563/1563 [==============================] - 7s 4ms/step - loss: nan - accuracy: 0.0100 - val_loss: nan - val_accuracy: 0.0100\n",
            "Epoch 6/10\n",
            "1563/1563 [==============================] - 9s 6ms/step - loss: nan - accuracy: 0.0100 - val_loss: nan - val_accuracy: 0.0100\n",
            "Epoch 7/10\n",
            "1563/1563 [==============================] - 7s 4ms/step - loss: nan - accuracy: 0.0100 - val_loss: nan - val_accuracy: 0.0100\n",
            "Epoch 8/10\n",
            "1563/1563 [==============================] - 8s 5ms/step - loss: nan - accuracy: 0.0100 - val_loss: nan - val_accuracy: 0.0100\n",
            "Epoch 9/10\n",
            "1563/1563 [==============================] - 7s 5ms/step - loss: nan - accuracy: 0.0100 - val_loss: nan - val_accuracy: 0.0100\n",
            "Epoch 10/10\n",
            "1563/1563 [==============================] - 7s 4ms/step - loss: nan - accuracy: 0.0100 - val_loss: nan - val_accuracy: 0.0100\n"
          ]
        },
        {
          "output_type": "execute_result",
          "data": {
            "text/plain": [
              "<keras.callbacks.History at 0x7fa5521496a0>"
            ]
          },
          "metadata": {},
          "execution_count": 21
        }
      ]
    },
    {
      "cell_type": "code",
      "source": [
        "dropoutval = modeldropout.evaluate(train_images,train_labels) \n",
        "print(dropoutval[0])"
      ],
      "metadata": {
        "id": "puQ2QqhM4lIL",
        "colab": {
          "base_uri": "https://localhost:8080/"
        },
        "outputId": "16a451f7-13c9-4526-b824-03fea19bebd7"
      },
      "execution_count": 22,
      "outputs": [
        {
          "output_type": "stream",
          "name": "stdout",
          "text": [
            "1563/1563 [==============================] - 4s 3ms/step - loss: nan - accuracy: 0.0100\n",
            "nan\n"
          ]
        }
      ]
    },
    {
      "cell_type": "code",
      "source": [
        "modeldropoutL1 = keras.Sequential([\n",
        "           keras.layers.Flatten(input_shape=(32,32,3)),\n",
        "           keras.layers.Dropout(0.4),\n",
        "           keras.layers.Dense(512, activation = 'relu', kernel_regularizer=regularizers.L1(l1=0.003)),\n",
        "           keras.layers.Dropout(0.4),\n",
        "           keras.layers.Dense(256, activation = 'relu', kernel_regularizer=regularizers.L1(l1=0.003)),\n",
        "           keras.layers.Dropout(0.4),\n",
        "           keras.layers.Dense(128, activation = 'relu', kernel_regularizer=regularizers.L1(l1=0.003)),\n",
        "           keras.layers.Dropout(0.4),\n",
        "           keras.layers.Dense(64, activation = 'relu', kernel_regularizer=regularizers.L1(l1=0.003)),\n",
        "           keras.layers.Dropout(0.4),\n",
        "           keras.layers.Dense(10,activation= 'softmax')\n",
        "                            ])\n",
        "modeldropoutL1.compile(optimizer='adam',\n",
        "              loss='sparse_categorical_crossentropy',\n",
        "              metrics=['accuracy'])"
      ],
      "metadata": {
        "id": "zfEMlryH4mui"
      },
      "execution_count": 23,
      "outputs": []
    },
    {
      "cell_type": "code",
      "source": [
        "modeldropoutL1.summary"
      ],
      "metadata": {
        "id": "AuagmbC14qK3",
        "colab": {
          "base_uri": "https://localhost:8080/"
        },
        "outputId": "f3547959-36ee-48e0-a0fe-ce2e5b5799be"
      },
      "execution_count": 24,
      "outputs": [
        {
          "output_type": "execute_result",
          "data": {
            "text/plain": [
              "<bound method Model.summary of <keras.engine.sequential.Sequential object at 0x7fa55120f910>>"
            ]
          },
          "metadata": {},
          "execution_count": 24
        }
      ]
    },
    {
      "cell_type": "code",
      "source": [
        "modeldropoutL1.fit(train_images, train_labels, epochs=10,validation_data=(test_images,test_labels))"
      ],
      "metadata": {
        "id": "195UzkJd4sNz",
        "colab": {
          "base_uri": "https://localhost:8080/"
        },
        "outputId": "1c0d44fd-c33a-403f-ac00-0c5f1d9d9eb5"
      },
      "execution_count": 25,
      "outputs": [
        {
          "output_type": "stream",
          "name": "stdout",
          "text": [
            "Epoch 1/10\n",
            "1563/1563 [==============================] - 10s 5ms/step - loss: nan - accuracy: 0.0100 - val_loss: nan - val_accuracy: 0.0100\n",
            "Epoch 2/10\n",
            "1563/1563 [==============================] - 8s 5ms/step - loss: nan - accuracy: 0.0100 - val_loss: nan - val_accuracy: 0.0100\n",
            "Epoch 3/10\n",
            "1563/1563 [==============================] - 7s 5ms/step - loss: nan - accuracy: 0.0100 - val_loss: nan - val_accuracy: 0.0100\n",
            "Epoch 4/10\n",
            "1563/1563 [==============================] - 8s 5ms/step - loss: nan - accuracy: 0.0100 - val_loss: nan - val_accuracy: 0.0100\n",
            "Epoch 5/10\n",
            "1563/1563 [==============================] - 8s 5ms/step - loss: nan - accuracy: 0.0100 - val_loss: nan - val_accuracy: 0.0100\n",
            "Epoch 6/10\n",
            "1563/1563 [==============================] - 7s 5ms/step - loss: nan - accuracy: 0.0100 - val_loss: nan - val_accuracy: 0.0100\n",
            "Epoch 7/10\n",
            "1563/1563 [==============================] - 8s 5ms/step - loss: nan - accuracy: 0.0100 - val_loss: nan - val_accuracy: 0.0100\n",
            "Epoch 8/10\n",
            "1563/1563 [==============================] - 7s 4ms/step - loss: nan - accuracy: 0.0100 - val_loss: nan - val_accuracy: 0.0100\n",
            "Epoch 9/10\n",
            "1563/1563 [==============================] - 9s 6ms/step - loss: nan - accuracy: 0.0100 - val_loss: nan - val_accuracy: 0.0100\n",
            "Epoch 10/10\n",
            "1563/1563 [==============================] - 8s 5ms/step - loss: nan - accuracy: 0.0100 - val_loss: nan - val_accuracy: 0.0100\n"
          ]
        },
        {
          "output_type": "execute_result",
          "data": {
            "text/plain": [
              "<keras.callbacks.History at 0x7fa551f3e2b0>"
            ]
          },
          "metadata": {},
          "execution_count": 25
        }
      ]
    },
    {
      "cell_type": "code",
      "source": [
        "dropoutL1val = modeldropoutL1.evaluate(test_images,test_labels)\n",
        "print(dropoutL1val[0])"
      ],
      "metadata": {
        "id": "SVpdF_Uv4ufx",
        "colab": {
          "base_uri": "https://localhost:8080/"
        },
        "outputId": "0540ad52-f974-498b-c866-8b137268be00"
      },
      "execution_count": 26,
      "outputs": [
        {
          "output_type": "stream",
          "name": "stdout",
          "text": [
            "313/313 [==============================] - 1s 3ms/step - loss: nan - accuracy: 0.0100\n",
            "nan\n"
          ]
        }
      ]
    },
    {
      "cell_type": "code",
      "source": [
        "modeldropoutL2 = keras.Sequential([\n",
        "           keras.layers.Flatten(input_shape=(32,32,3)),\n",
        "           keras.layers.Dropout(0.4),\n",
        "           keras.layers.Dense(512, activation = 'relu', kernel_regularizer=regularizers.L2(l2=0.05)),\n",
        "           keras.layers.Dropout(0.4),\n",
        "           keras.layers.Dense(256, activation = 'relu', kernel_regularizer=regularizers.L2(l2=0.05)),\n",
        "           keras.layers.Dropout(0.4),\n",
        "           keras.layers.Dense(128, activation = 'relu', kernel_regularizer=regularizers.L2(l2=0.05)),\n",
        "           keras.layers.Dropout(0.4),\n",
        "           keras.layers.Dense(64, activation = 'relu', kernel_regularizer=regularizers.L2(l2=0.05)),\n",
        "           keras.layers.Dropout(0.4),\n",
        "           keras.layers.Dense(10,activation= 'softmax')\n",
        "                            ])\n",
        "modeldropoutL2.compile(optimizer='adam',\n",
        "              loss='sparse_categorical_crossentropy',\n",
        "              metrics=['accuracy'])"
      ],
      "metadata": {
        "id": "HpY9M_G84yZ8"
      },
      "execution_count": 27,
      "outputs": []
    },
    {
      "cell_type": "code",
      "source": [
        "modeldropoutL2.fit(train_images,train_labels,epochs=10,validation_data=(test_images,test_labels))"
      ],
      "metadata": {
        "id": "Q878URrj40Lj",
        "colab": {
          "base_uri": "https://localhost:8080/"
        },
        "outputId": "0c4a882b-99a0-4cbb-fd64-622deec19000"
      },
      "execution_count": 28,
      "outputs": [
        {
          "output_type": "stream",
          "name": "stdout",
          "text": [
            "Epoch 1/10\n",
            "1563/1563 [==============================] - 10s 5ms/step - loss: nan - accuracy: 0.0100 - val_loss: nan - val_accuracy: 0.0100\n",
            "Epoch 2/10\n",
            "1563/1563 [==============================] - 8s 5ms/step - loss: nan - accuracy: 0.0100 - val_loss: nan - val_accuracy: 0.0100\n",
            "Epoch 3/10\n",
            "1563/1563 [==============================] - 8s 5ms/step - loss: nan - accuracy: 0.0100 - val_loss: nan - val_accuracy: 0.0100\n",
            "Epoch 4/10\n",
            "1563/1563 [==============================] - 8s 5ms/step - loss: nan - accuracy: 0.0100 - val_loss: nan - val_accuracy: 0.0100\n",
            "Epoch 5/10\n",
            "1563/1563 [==============================] - 7s 5ms/step - loss: nan - accuracy: 0.0100 - val_loss: nan - val_accuracy: 0.0100\n",
            "Epoch 6/10\n",
            "1563/1563 [==============================] - 8s 5ms/step - loss: nan - accuracy: 0.0100 - val_loss: nan - val_accuracy: 0.0100\n",
            "Epoch 7/10\n",
            "1563/1563 [==============================] - 8s 5ms/step - loss: nan - accuracy: 0.0100 - val_loss: nan - val_accuracy: 0.0100\n",
            "Epoch 8/10\n",
            "1563/1563 [==============================] - 9s 6ms/step - loss: nan - accuracy: 0.0100 - val_loss: nan - val_accuracy: 0.0100\n",
            "Epoch 9/10\n",
            "1563/1563 [==============================] - 8s 5ms/step - loss: nan - accuracy: 0.0100 - val_loss: nan - val_accuracy: 0.0100\n",
            "Epoch 10/10\n",
            "1563/1563 [==============================] - 7s 4ms/step - loss: nan - accuracy: 0.0100 - val_loss: nan - val_accuracy: 0.0100\n"
          ]
        },
        {
          "output_type": "execute_result",
          "data": {
            "text/plain": [
              "<keras.callbacks.History at 0x7fa551d039a0>"
            ]
          },
          "metadata": {},
          "execution_count": 28
        }
      ]
    },
    {
      "cell_type": "code",
      "source": [
        "dropoutL2val=modeldropoutL2.evaluate(test_images,test_labels)\n",
        "print(dropoutL2val[0])"
      ],
      "metadata": {
        "id": "C8s0e43M43mH",
        "colab": {
          "base_uri": "https://localhost:8080/"
        },
        "outputId": "e9daa3cd-e103-44a1-a8d0-1548f5f89a21"
      },
      "execution_count": 29,
      "outputs": [
        {
          "output_type": "stream",
          "name": "stdout",
          "text": [
            "313/313 [==============================] - 1s 3ms/step - loss: nan - accuracy: 0.0100\n",
            "nan\n"
          ]
        }
      ]
    },
    {
      "cell_type": "code",
      "source": [],
      "metadata": {
        "id": "nLdKxhD144_j"
      },
      "execution_count": 29,
      "outputs": []
    }
  ]
}