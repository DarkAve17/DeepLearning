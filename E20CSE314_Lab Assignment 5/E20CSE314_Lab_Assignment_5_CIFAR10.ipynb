{
  "nbformat": 4,
  "nbformat_minor": 0,
  "metadata": {
    "colab": {
      "provenance": []
    },
    "kernelspec": {
      "name": "python3",
      "display_name": "Python 3"
    },
    "language_info": {
      "name": "python"
    },
    "accelerator": "GPU",
    "gpuClass": "standard"
  },
  "cells": [
    {
      "cell_type": "code",
      "execution_count": 1,
      "metadata": {
        "id": "8Pl9Z_gkklsN"
      },
      "outputs": [],
      "source": [
        "import numpy as np\n",
        "import pandas as pd\n",
        "import matplotlib.pyplot as plt\n",
        "import tensorflow as tf\n",
        "from tensorflow import keras\n",
        "import os\n",
        "for dirname, _, filenames in os.walk('/kaggle/input/fashionmnist'):\n",
        "    for filename in filenames:\n",
        "        print(os.path.join(dirname, filename))\n",
        "from tensorflow.keras import regularizers\n",
        "#import tensorflow.keras.regularizers\n",
        "import warnings\n",
        "warnings.filterwarnings('ignore') \n",
        "import warnings\n",
        "warnings.filterwarnings('ignore')\n",
        "import matplotlib.pyplot as plt\n",
        "import keras\n",
        "from keras.datasets import mnist\n",
        "from keras.models import Sequential,model_from_json\n",
        "from keras.layers import Dense\n",
        "from tensorflow.keras.optimizers import RMSprop\n",
        "from keras.utils import np_utils\n",
        "import pylab as plt\n",
        "from keras.regularizers import l1,l2\n",
        "from keras.layers import Dense, Dropout "
      ]
    },
    {
      "cell_type": "code",
      "source": [
        "from IPython.core.interactiveshell import InteractiveShell\n",
        "InteractiveShell.ast_node_interactivity = \"all\""
      ],
      "metadata": {
        "id": "0DwTO_TblBGZ"
      },
      "execution_count": 2,
      "outputs": []
    },
    {
      "cell_type": "code",
      "source": [
        "cifar10 = tf.keras.datasets.cifar10\n",
        "\n",
        "(train_images, train_labels), (test_images, test_labels) = cifar10.load_data()"
      ],
      "metadata": {
        "id": "qCLMULAzlDCc",
        "outputId": "d157613b-93e8-489e-a04b-277ca211ff1e",
        "colab": {
          "base_uri": "https://localhost:8080/"
        }
      },
      "execution_count": 3,
      "outputs": [
        {
          "output_type": "stream",
          "name": "stdout",
          "text": [
            "Downloading data from https://www.cs.toronto.edu/~kriz/cifar-10-python.tar.gz\n",
            "170498071/170498071 [==============================] - 6s 0us/step\n"
          ]
        }
      ]
    },
    {
      "cell_type": "code",
      "source": [
        "cifar10\n"
      ],
      "metadata": {
        "id": "hPpD2n9SlFhU",
        "colab": {
          "base_uri": "https://localhost:8080/"
        },
        "outputId": "db61e4ea-cfe5-43f8-a612-acc8e530b87a"
      },
      "execution_count": 4,
      "outputs": [
        {
          "output_type": "execute_result",
          "data": {
            "text/plain": [
              "<module 'keras.api._v2.keras.datasets.cifar10' from '/usr/local/lib/python3.8/dist-packages/keras/api/_v2/keras/datasets/cifar10/__init__.py'>"
            ]
          },
          "metadata": {},
          "execution_count": 4
        }
      ]
    },
    {
      "cell_type": "code",
      "source": [
        "train_images.shape\n"
      ],
      "metadata": {
        "colab": {
          "base_uri": "https://localhost:8080/"
        },
        "id": "oRwQ_30bnl-M",
        "outputId": "523f083d-8ce7-42e6-c8d8-f6b652b03974"
      },
      "execution_count": 5,
      "outputs": [
        {
          "output_type": "execute_result",
          "data": {
            "text/plain": [
              "(50000, 32, 32, 3)"
            ]
          },
          "metadata": {},
          "execution_count": 5
        }
      ]
    },
    {
      "cell_type": "code",
      "source": [
        "train_labels.shape"
      ],
      "metadata": {
        "colab": {
          "base_uri": "https://localhost:8080/"
        },
        "id": "rS-69oC1n0Nt",
        "outputId": "4cd4917a-a48a-4302-856b-ee4646bf7427"
      },
      "execution_count": 6,
      "outputs": [
        {
          "output_type": "execute_result",
          "data": {
            "text/plain": [
              "(50000, 1)"
            ]
          },
          "metadata": {},
          "execution_count": 6
        }
      ]
    },
    {
      "cell_type": "code",
      "source": [
        "modelnr = keras.Sequential([\n",
        "           keras.layers.Flatten(input_shape=(32,32,3)),\n",
        "           keras.layers.Dense(512, activation = 'relu'),\n",
        "           keras.layers.Dense(256, activation = 'relu'),\n",
        "           keras.layers.Dense(128, activation = 'relu'),\n",
        "           keras.layers.Dense(64, activation = 'relu'),\n",
        "           keras.layers.Dense(10,activation= 'softmax')\n",
        "                            ])\n",
        "modelnr.compile(optimizer='adam',\n",
        "              loss='sparse_categorical_crossentropy',\n",
        "              metrics=['accuracy'])"
      ],
      "metadata": {
        "id": "qfyIDPJ6n5y4"
      },
      "execution_count": 7,
      "outputs": []
    },
    {
      "cell_type": "code",
      "source": [
        "modelnr.summary"
      ],
      "metadata": {
        "colab": {
          "base_uri": "https://localhost:8080/"
        },
        "id": "jzAgCUPzowPm",
        "outputId": "1abd8428-e129-4095-b478-1e58f5f92696"
      },
      "execution_count": 8,
      "outputs": [
        {
          "output_type": "execute_result",
          "data": {
            "text/plain": [
              "<bound method Model.summary of <keras.engine.sequential.Sequential object at 0x7fd73f924880>>"
            ]
          },
          "metadata": {},
          "execution_count": 8
        }
      ]
    },
    {
      "cell_type": "code",
      "source": [
        "Hist0=modelnr.fit(train_images, train_labels, epochs=10,validation_data=(test_images,test_labels))"
      ],
      "metadata": {
        "colab": {
          "base_uri": "https://localhost:8080/"
        },
        "id": "n379zPDRowz6",
        "outputId": "a5d38458-7da1-4ed3-bee6-8bb03134aaf0"
      },
      "execution_count": 9,
      "outputs": [
        {
          "output_type": "stream",
          "name": "stdout",
          "text": [
            "Epoch 1/10\n",
            "1563/1563 [==============================] - 15s 6ms/step - loss: 9.5934 - accuracy: 0.2449 - val_loss: 2.2721 - val_accuracy: 0.2387\n",
            "Epoch 2/10\n",
            "1563/1563 [==============================] - 12s 7ms/step - loss: 1.9920 - accuracy: 0.2981 - val_loss: 1.9460 - val_accuracy: 0.3029\n",
            "Epoch 3/10\n",
            "1563/1563 [==============================] - 13s 8ms/step - loss: 1.9780 - accuracy: 0.2806 - val_loss: 1.9328 - val_accuracy: 0.2822\n",
            "Epoch 4/10\n",
            "1563/1563 [==============================] - 8s 5ms/step - loss: 1.9495 - accuracy: 0.2849 - val_loss: 1.9357 - val_accuracy: 0.2819\n",
            "Epoch 5/10\n",
            "1563/1563 [==============================] - 8s 5ms/step - loss: 1.9334 - accuracy: 0.2848 - val_loss: 1.9140 - val_accuracy: 0.3027\n",
            "Epoch 6/10\n",
            "1563/1563 [==============================] - 7s 5ms/step - loss: 1.9083 - accuracy: 0.2926 - val_loss: 1.9008 - val_accuracy: 0.3006\n",
            "Epoch 7/10\n",
            "1563/1563 [==============================] - 8s 5ms/step - loss: 1.8922 - accuracy: 0.3056 - val_loss: 1.8583 - val_accuracy: 0.3178\n",
            "Epoch 8/10\n",
            "1563/1563 [==============================] - 8s 5ms/step - loss: 1.8583 - accuracy: 0.3222 - val_loss: 1.8138 - val_accuracy: 0.3452\n",
            "Epoch 9/10\n",
            "1563/1563 [==============================] - 7s 5ms/step - loss: 1.8292 - accuracy: 0.3335 - val_loss: 1.8365 - val_accuracy: 0.3239\n",
            "Epoch 10/10\n",
            "1563/1563 [==============================] - 8s 5ms/step - loss: 1.8103 - accuracy: 0.3419 - val_loss: 1.7975 - val_accuracy: 0.3530\n"
          ]
        }
      ]
    },
    {
      "cell_type": "code",
      "source": [
        "histnrval = modelnr.evaluate(test_images,test_labels)\n",
        "print(histnrval[0])"
      ],
      "metadata": {
        "colab": {
          "base_uri": "https://localhost:8080/"
        },
        "id": "whcJjLr7pJjL",
        "outputId": "2fd47ec3-9a92-4351-c69a-0737f1f6d42a"
      },
      "execution_count": 10,
      "outputs": [
        {
          "output_type": "stream",
          "name": "stdout",
          "text": [
            "313/313 [==============================] - 1s 3ms/step - loss: 1.7975 - accuracy: 0.3530\n",
            "1.7974621057510376\n"
          ]
        }
      ]
    },
    {
      "cell_type": "code",
      "source": [
        "modelL1 = keras.Sequential([\n",
        "           keras.layers.Flatten(input_shape=(32,32,3)),\n",
        "           keras.layers.Dense(512, activation = 'relu', kernel_regularizer=regularizers.L1(l1=0.01)),\n",
        "           keras.layers.Dense(256, activation = 'relu', kernel_regularizer=regularizers.L1(l1=0.01)),\n",
        "           keras.layers.Dense(128, activation = 'relu', kernel_regularizer=regularizers.L1(l1=0.01)),\n",
        "           keras.layers.Dense(64, activation = 'relu', kernel_regularizer=regularizers.L1(l1=0.01)),\n",
        "           keras.layers.Dense(10,activation= 'softmax')\n",
        "                            ])\n",
        "modelL1.compile(optimizer='adam',\n",
        "              loss='sparse_categorical_crossentropy',\n",
        "              metrics=['accuracy'])"
      ],
      "metadata": {
        "id": "thEe_fIIpKHI"
      },
      "execution_count": 11,
      "outputs": []
    },
    {
      "cell_type": "code",
      "source": [
        "modelL1.summary"
      ],
      "metadata": {
        "colab": {
          "base_uri": "https://localhost:8080/"
        },
        "id": "bicyZGvapYpB",
        "outputId": "00d3b41a-29c4-4069-9697-84a10a3a079f"
      },
      "execution_count": 12,
      "outputs": [
        {
          "output_type": "execute_result",
          "data": {
            "text/plain": [
              "<bound method Model.summary of <keras.engine.sequential.Sequential object at 0x7fd6b80bd670>>"
            ]
          },
          "metadata": {},
          "execution_count": 12
        }
      ]
    },
    {
      "cell_type": "code",
      "source": [
        "modelL1.fit(train_images, train_labels, epochs=10,validation_data=(test_images,test_labels))"
      ],
      "metadata": {
        "colab": {
          "base_uri": "https://localhost:8080/"
        },
        "id": "vtjFoEv1pZCB",
        "outputId": "fbcacb52-7b2b-4512-9be6-6e2a7f16f3e6"
      },
      "execution_count": 13,
      "outputs": [
        {
          "output_type": "stream",
          "name": "stdout",
          "text": [
            "Epoch 1/10\n",
            "1563/1563 [==============================] - 10s 5ms/step - loss: 81.1434 - accuracy: 0.1069 - val_loss: 16.3923 - val_accuracy: 0.1000\n",
            "Epoch 2/10\n",
            "1563/1563 [==============================] - 8s 5ms/step - loss: 12.9881 - accuracy: 0.0967 - val_loss: 9.8414 - val_accuracy: 0.1015\n",
            "Epoch 3/10\n",
            "1563/1563 [==============================] - 7s 5ms/step - loss: 7.8035 - accuracy: 0.1018 - val_loss: 6.4979 - val_accuracy: 0.1000\n",
            "Epoch 4/10\n",
            "1563/1563 [==============================] - 9s 6ms/step - loss: 5.4385 - accuracy: 0.1534 - val_loss: 4.6276 - val_accuracy: 0.1765\n",
            "Epoch 5/10\n",
            "1563/1563 [==============================] - 10s 6ms/step - loss: 4.3077 - accuracy: 0.1719 - val_loss: 4.0807 - val_accuracy: 0.1849\n",
            "Epoch 6/10\n",
            "1563/1563 [==============================] - 13s 8ms/step - loss: 4.0584 - accuracy: 0.1747 - val_loss: 4.0307 - val_accuracy: 0.1740\n",
            "Epoch 7/10\n",
            "1563/1563 [==============================] - 10s 6ms/step - loss: 4.0325 - accuracy: 0.1750 - val_loss: 4.0371 - val_accuracy: 0.1688\n",
            "Epoch 8/10\n",
            "1563/1563 [==============================] - 9s 6ms/step - loss: 4.0452 - accuracy: 0.1770 - val_loss: 4.0782 - val_accuracy: 0.1834\n",
            "Epoch 9/10\n",
            "1563/1563 [==============================] - 10s 6ms/step - loss: 4.0470 - accuracy: 0.1809 - val_loss: 4.0398 - val_accuracy: 0.1832\n",
            "Epoch 10/10\n",
            "1563/1563 [==============================] - 9s 6ms/step - loss: 4.0668 - accuracy: 0.1800 - val_loss: 4.1601 - val_accuracy: 0.1663\n"
          ]
        },
        {
          "output_type": "execute_result",
          "data": {
            "text/plain": [
              "<keras.callbacks.History at 0x7fd6b05574c0>"
            ]
          },
          "metadata": {},
          "execution_count": 13
        }
      ]
    },
    {
      "cell_type": "code",
      "source": [
        "L1val = modelL1.evaluate(test_images,test_labels)\n",
        "print(L1val[0])"
      ],
      "metadata": {
        "colab": {
          "base_uri": "https://localhost:8080/"
        },
        "id": "rVNlhUrPpfoG",
        "outputId": "f6d3f150-fa1f-42a9-b522-fa877e29344f"
      },
      "execution_count": 14,
      "outputs": [
        {
          "output_type": "stream",
          "name": "stdout",
          "text": [
            "313/313 [==============================] - 1s 3ms/step - loss: 4.1601 - accuracy: 0.1663\n",
            "4.1601057052612305\n"
          ]
        }
      ]
    },
    {
      "cell_type": "code",
      "source": [
        "modelL2 = keras.Sequential([\n",
        "           keras.layers.Flatten(input_shape=(32,32,3)),\n",
        "           keras.layers.Dense(512, activation = 'relu', kernel_regularizer=regularizers.L2(l2=0.05)),\n",
        "           keras.layers.Dense(256, activation = 'relu', kernel_regularizer=regularizers.L2(l2=0.05)),\n",
        "           keras.layers.Dense(128, activation = 'relu', kernel_regularizer=regularizers.L2(l2=0.05)),\n",
        "           keras.layers.Dense(64, activation = 'relu', kernel_regularizer=regularizers.L2(l2=0.05)),\n",
        "           keras.layers.Dense(10,activation= 'softmax')\n",
        "                            ])\n",
        "modelL2.compile(optimizer='adam',\n",
        "              loss='sparse_categorical_crossentropy',\n",
        "              metrics=['accuracy'])"
      ],
      "metadata": {
        "id": "kNt2vy9Ipi3P"
      },
      "execution_count": 15,
      "outputs": []
    },
    {
      "cell_type": "code",
      "source": [
        "modelL2.summary"
      ],
      "metadata": {
        "colab": {
          "base_uri": "https://localhost:8080/"
        },
        "id": "0VCUer94plIy",
        "outputId": "c41c7a1f-8621-438f-979f-c87dabdbd037"
      },
      "execution_count": 16,
      "outputs": [
        {
          "output_type": "execute_result",
          "data": {
            "text/plain": [
              "<bound method Model.summary of <keras.engine.sequential.Sequential object at 0x7fd6b0331b50>>"
            ]
          },
          "metadata": {},
          "execution_count": 16
        }
      ]
    },
    {
      "cell_type": "code",
      "source": [
        "modelL2.fit(train_images,train_labels, epochs=10,validation_data=(test_images,test_labels))"
      ],
      "metadata": {
        "colab": {
          "base_uri": "https://localhost:8080/"
        },
        "id": "TE4GjXzKpp4Q",
        "outputId": "d3593c14-7f47-4e98-b4a1-6e8cd1dbb9e0"
      },
      "execution_count": 19,
      "outputs": [
        {
          "output_type": "stream",
          "name": "stdout",
          "text": [
            "Epoch 1/10\n",
            "1563/1563 [==============================] - 8s 5ms/step - loss: 9.3896 - accuracy: 0.3021 - val_loss: 6.2786 - val_accuracy: 0.2950\n",
            "Epoch 2/10\n",
            "1563/1563 [==============================] - 8s 5ms/step - loss: 5.0952 - accuracy: 0.3029 - val_loss: 4.1731 - val_accuracy: 0.2938\n",
            "Epoch 3/10\n",
            "1563/1563 [==============================] - 9s 5ms/step - loss: 3.6112 - accuracy: 0.2854 - val_loss: 3.0458 - val_accuracy: 0.3140\n",
            "Epoch 4/10\n",
            "1563/1563 [==============================] - 9s 6ms/step - loss: 2.7438 - accuracy: 0.2937 - val_loss: 2.4603 - val_accuracy: 0.2881\n",
            "Epoch 5/10\n",
            "1563/1563 [==============================] - 11s 7ms/step - loss: 2.2853 - accuracy: 0.2968 - val_loss: 2.2402 - val_accuracy: 0.2691\n",
            "Epoch 6/10\n",
            "1563/1563 [==============================] - 9s 6ms/step - loss: 2.0934 - accuracy: 0.2975 - val_loss: 2.0285 - val_accuracy: 0.2954\n",
            "Epoch 7/10\n",
            "1563/1563 [==============================] - 10s 6ms/step - loss: 2.0458 - accuracy: 0.2995 - val_loss: 1.9914 - val_accuracy: 0.3251\n",
            "Epoch 8/10\n",
            "1563/1563 [==============================] - 9s 6ms/step - loss: 2.0457 - accuracy: 0.2849 - val_loss: 2.0899 - val_accuracy: 0.2427\n",
            "Epoch 9/10\n",
            "1563/1563 [==============================] - 7s 5ms/step - loss: 2.0297 - accuracy: 0.2856 - val_loss: 1.9727 - val_accuracy: 0.2948\n",
            "Epoch 10/10\n",
            "1563/1563 [==============================] - 8s 5ms/step - loss: 2.0287 - accuracy: 0.2825 - val_loss: 2.0680 - val_accuracy: 0.2619\n"
          ]
        },
        {
          "output_type": "execute_result",
          "data": {
            "text/plain": [
              "<keras.callbacks.History at 0x7fd6b05c77c0>"
            ]
          },
          "metadata": {},
          "execution_count": 19
        }
      ]
    },
    {
      "cell_type": "code",
      "source": [
        "L2val = modelL2.evaluate(test_images,test_labels)\n",
        "print(L2val[0])"
      ],
      "metadata": {
        "colab": {
          "base_uri": "https://localhost:8080/"
        },
        "id": "iJtbjQakp2MR",
        "outputId": "9febb6f4-d143-4e5f-97bb-ddc5b1874891"
      },
      "execution_count": 20,
      "outputs": [
        {
          "output_type": "stream",
          "name": "stdout",
          "text": [
            "313/313 [==============================] - 1s 3ms/step - loss: 2.0680 - accuracy: 0.2619\n",
            "2.0679736137390137\n"
          ]
        }
      ]
    },
    {
      "cell_type": "code",
      "source": [
        "modeldropout = keras.Sequential([\n",
        "           keras.layers.Flatten(input_shape=(32,32,3)),\n",
        "           keras.layers.Dropout(0.4),\n",
        "           keras.layers.Dense(512, activation = 'relu'),\n",
        "           keras.layers.Dropout(0.4),\n",
        "           keras.layers.Dense(256, activation = 'relu'),\n",
        "           keras.layers.Dropout(0.4),\n",
        "           keras.layers.Dense(128, activation = 'relu'),\n",
        "           keras.layers.Dropout(0.4),\n",
        "           keras.layers.Dense(64, activation = 'relu'),\n",
        "           keras.layers.Dropout(0.4),\n",
        "           keras.layers.Dense(10,activation= 'softmax')\n",
        "                            ])\n",
        "modeldropout.compile(optimizer='adam',\n",
        "              loss='sparse_categorical_crossentropy',\n",
        "              metrics=['accuracy'])"
      ],
      "metadata": {
        "id": "YGRmgDXbqR9Z"
      },
      "execution_count": 21,
      "outputs": []
    },
    {
      "cell_type": "code",
      "source": [
        "modeldropout.summary"
      ],
      "metadata": {
        "colab": {
          "base_uri": "https://localhost:8080/"
        },
        "id": "MCyvi-IYqYAo",
        "outputId": "68f1a71f-0021-4f25-9d4e-c4c1b32267d8"
      },
      "execution_count": 22,
      "outputs": [
        {
          "output_type": "execute_result",
          "data": {
            "text/plain": [
              "<bound method Model.summary of <keras.engine.sequential.Sequential object at 0x7fd682f44a90>>"
            ]
          },
          "metadata": {},
          "execution_count": 22
        }
      ]
    },
    {
      "cell_type": "code",
      "source": [
        "modeldropout.fit(train_images, train_labels, epochs=10,validation_data=(test_images,test_labels))"
      ],
      "metadata": {
        "colab": {
          "base_uri": "https://localhost:8080/"
        },
        "id": "2UVPVG5Dqa29",
        "outputId": "22ac1e1a-2f9c-4dd2-e3f4-d0c086c7a64f"
      },
      "execution_count": 23,
      "outputs": [
        {
          "output_type": "stream",
          "name": "stdout",
          "text": [
            "Epoch 1/10\n",
            "1563/1563 [==============================] - 11s 6ms/step - loss: 10.1517 - accuracy: 0.0984 - val_loss: 2.3027 - val_accuracy: 0.1000\n",
            "Epoch 2/10\n",
            "1563/1563 [==============================] - 9s 6ms/step - loss: 2.3059 - accuracy: 0.1001 - val_loss: 2.3026 - val_accuracy: 0.1000\n",
            "Epoch 3/10\n",
            "1563/1563 [==============================] - 8s 5ms/step - loss: 2.3055 - accuracy: 0.0982 - val_loss: 2.3026 - val_accuracy: 0.1000\n",
            "Epoch 4/10\n",
            "1563/1563 [==============================] - 12s 8ms/step - loss: 2.3048 - accuracy: 0.0994 - val_loss: 2.3027 - val_accuracy: 0.1000\n",
            "Epoch 5/10\n",
            "1563/1563 [==============================] - 9s 6ms/step - loss: 2.3039 - accuracy: 0.0984 - val_loss: 2.3027 - val_accuracy: 0.1000\n",
            "Epoch 6/10\n",
            "1563/1563 [==============================] - 8s 5ms/step - loss: 2.3043 - accuracy: 0.0983 - val_loss: 2.3026 - val_accuracy: 0.1000\n",
            "Epoch 7/10\n",
            "1563/1563 [==============================] - 8s 5ms/step - loss: 2.3046 - accuracy: 0.0986 - val_loss: 2.3026 - val_accuracy: 0.1000\n",
            "Epoch 8/10\n",
            "1563/1563 [==============================] - 9s 6ms/step - loss: 2.3039 - accuracy: 0.0977 - val_loss: 2.3026 - val_accuracy: 0.1000\n",
            "Epoch 9/10\n",
            "1563/1563 [==============================] - 8s 5ms/step - loss: 2.3098 - accuracy: 0.1009 - val_loss: 2.3026 - val_accuracy: 0.1000\n",
            "Epoch 10/10\n",
            "1563/1563 [==============================] - 8s 5ms/step - loss: 2.3031 - accuracy: 0.0961 - val_loss: 2.3026 - val_accuracy: 0.1000\n"
          ]
        },
        {
          "output_type": "execute_result",
          "data": {
            "text/plain": [
              "<keras.callbacks.History at 0x7fd682f77310>"
            ]
          },
          "metadata": {},
          "execution_count": 23
        }
      ]
    },
    {
      "cell_type": "code",
      "source": [
        "dropoutval = modeldropout.evaluate(train_images,train_labels) \n",
        "print(dropoutval[0])"
      ],
      "metadata": {
        "colab": {
          "base_uri": "https://localhost:8080/"
        },
        "id": "jP84KMONqejO",
        "outputId": "4e6c9041-716d-477b-fb8f-77aba5fdc861"
      },
      "execution_count": 24,
      "outputs": [
        {
          "output_type": "stream",
          "name": "stdout",
          "text": [
            "1563/1563 [==============================] - 5s 3ms/step - loss: 2.3026 - accuracy: 0.1000\n",
            "2.302640676498413\n"
          ]
        }
      ]
    },
    {
      "cell_type": "code",
      "source": [
        "modeldropoutL1 = keras.Sequential([\n",
        "           keras.layers.Flatten(input_shape=(32,32,3)),\n",
        "           keras.layers.Dropout(0.4),\n",
        "           keras.layers.Dense(512, activation = 'relu', kernel_regularizer=regularizers.L1(l1=0.003)),\n",
        "           keras.layers.Dropout(0.4),\n",
        "           keras.layers.Dense(256, activation = 'relu', kernel_regularizer=regularizers.L1(l1=0.003)),\n",
        "           keras.layers.Dropout(0.4),\n",
        "           keras.layers.Dense(128, activation = 'relu', kernel_regularizer=regularizers.L1(l1=0.003)),\n",
        "           keras.layers.Dropout(0.4),\n",
        "           keras.layers.Dense(64, activation = 'relu', kernel_regularizer=regularizers.L1(l1=0.003)),\n",
        "           keras.layers.Dropout(0.4),\n",
        "           keras.layers.Dense(10,activation= 'softmax')\n",
        "                            ])\n",
        "modeldropoutL1.compile(optimizer='adam',\n",
        "              loss='sparse_categorical_crossentropy',\n",
        "              metrics=['accuracy'])"
      ],
      "metadata": {
        "id": "2r3R7ufSq8fR"
      },
      "execution_count": 25,
      "outputs": []
    },
    {
      "cell_type": "code",
      "source": [
        "modeldropoutL1.summary"
      ],
      "metadata": {
        "colab": {
          "base_uri": "https://localhost:8080/"
        },
        "id": "6679HSvqtjIV",
        "outputId": "09b26531-5adc-47bc-f879-85b55279bde1"
      },
      "execution_count": 26,
      "outputs": [
        {
          "output_type": "execute_result",
          "data": {
            "text/plain": [
              "<bound method Model.summary of <keras.engine.sequential.Sequential object at 0x7fd682d84160>>"
            ]
          },
          "metadata": {},
          "execution_count": 26
        }
      ]
    },
    {
      "cell_type": "code",
      "source": [
        "modeldropoutL1.fit(train_images, train_labels, epochs=10,validation_data=(test_images,test_labels))"
      ],
      "metadata": {
        "colab": {
          "base_uri": "https://localhost:8080/"
        },
        "id": "vtCz-F7Qtlcq",
        "outputId": "b83a7570-a9b0-4e93-905c-e849ccc45b72"
      },
      "execution_count": 27,
      "outputs": [
        {
          "output_type": "stream",
          "name": "stdout",
          "text": [
            "Epoch 1/10\n",
            "1563/1563 [==============================] - 12s 6ms/step - loss: 83.0352 - accuracy: 0.0974 - val_loss: 36.6148 - val_accuracy: 0.0996\n",
            "Epoch 2/10\n",
            "1563/1563 [==============================] - 9s 6ms/step - loss: 22.8568 - accuracy: 0.0995 - val_loss: 12.8423 - val_accuracy: 0.1000\n",
            "Epoch 3/10\n",
            "1563/1563 [==============================] - 10s 7ms/step - loss: 9.2453 - accuracy: 0.1004 - val_loss: 6.4733 - val_accuracy: 0.1000\n",
            "Epoch 4/10\n",
            "1563/1563 [==============================] - 10s 7ms/step - loss: 4.7686 - accuracy: 0.0988 - val_loss: 3.4843 - val_accuracy: 0.1000\n",
            "Epoch 5/10\n",
            "1563/1563 [==============================] - 11s 7ms/step - loss: 2.9692 - accuracy: 0.0994 - val_loss: 2.7087 - val_accuracy: 0.1000\n",
            "Epoch 6/10\n",
            "1563/1563 [==============================] - 16s 10ms/step - loss: 2.7091 - accuracy: 0.0984 - val_loss: 2.7457 - val_accuracy: 0.1000\n",
            "Epoch 7/10\n",
            "1563/1563 [==============================] - 15s 10ms/step - loss: 2.7848 - accuracy: 0.0966 - val_loss: 2.8159 - val_accuracy: 0.1000\n",
            "Epoch 8/10\n",
            "1563/1563 [==============================] - 11s 7ms/step - loss: 2.8340 - accuracy: 0.0968 - val_loss: 2.8458 - val_accuracy: 0.1000\n",
            "Epoch 9/10\n",
            "1563/1563 [==============================] - 9s 6ms/step - loss: 2.8522 - accuracy: 0.0993 - val_loss: 2.8567 - val_accuracy: 0.1000\n",
            "Epoch 10/10\n",
            "1563/1563 [==============================] - 8s 5ms/step - loss: 2.8580 - accuracy: 0.0987 - val_loss: 2.8589 - val_accuracy: 0.1000\n"
          ]
        },
        {
          "output_type": "execute_result",
          "data": {
            "text/plain": [
              "<keras.callbacks.History at 0x7fd6b03196d0>"
            ]
          },
          "metadata": {},
          "execution_count": 27
        }
      ]
    },
    {
      "cell_type": "code",
      "source": [
        "dropoutL1val = modeldropoutL1.evaluate(test_images,test_labels)\n",
        "print(dropoutL1val[0])"
      ],
      "metadata": {
        "colab": {
          "base_uri": "https://localhost:8080/"
        },
        "id": "ocEkZ9l4t-Qz",
        "outputId": "e3c77a3a-9bc1-4c47-e5ab-a8f1676dbb68"
      },
      "execution_count": 29,
      "outputs": [
        {
          "output_type": "stream",
          "name": "stdout",
          "text": [
            "313/313 [==============================] - 1s 3ms/step - loss: 2.8589 - accuracy: 0.1000\n",
            "2.858901262283325\n"
          ]
        }
      ]
    },
    {
      "cell_type": "code",
      "source": [
        "modeldropoutL2 = keras.Sequential([\n",
        "           keras.layers.Flatten(input_shape=(32,32,3)),\n",
        "           keras.layers.Dropout(0.4),\n",
        "           keras.layers.Dense(512, activation = 'relu', kernel_regularizer=regularizers.L2(l2=0.05)),\n",
        "           keras.layers.Dropout(0.4),\n",
        "           keras.layers.Dense(256, activation = 'relu', kernel_regularizer=regularizers.L2(l2=0.05)),\n",
        "           keras.layers.Dropout(0.4),\n",
        "           keras.layers.Dense(128, activation = 'relu', kernel_regularizer=regularizers.L2(l2=0.05)),\n",
        "           keras.layers.Dropout(0.4),\n",
        "           keras.layers.Dense(64, activation = 'relu', kernel_regularizer=regularizers.L2(l2=0.05)),\n",
        "           keras.layers.Dropout(0.4),\n",
        "           keras.layers.Dense(10,activation= 'softmax')\n",
        "                            ])\n",
        "modeldropoutL2.compile(optimizer='adam',\n",
        "              loss='sparse_categorical_crossentropy',\n",
        "              metrics=['accuracy'])"
      ],
      "metadata": {
        "id": "sSm06zJguNFc"
      },
      "execution_count": 30,
      "outputs": []
    },
    {
      "cell_type": "code",
      "source": [
        "modeldropoutL2.fit(train_images,train_labels,epochs=10,validation_data=(test_images,test_labels))"
      ],
      "metadata": {
        "colab": {
          "base_uri": "https://localhost:8080/"
        },
        "id": "7XVTN--DurdV",
        "outputId": "3d823fef-cb3f-45aa-d51d-41f3396a005f"
      },
      "execution_count": 31,
      "outputs": [
        {
          "output_type": "stream",
          "name": "stdout",
          "text": [
            "Epoch 1/10\n",
            "1563/1563 [==============================] - 16s 8ms/step - loss: 49.3828 - accuracy: 0.1003 - val_loss: 20.7743 - val_accuracy: 0.1000\n",
            "Epoch 2/10\n",
            "1563/1563 [==============================] - 9s 6ms/step - loss: 11.9518 - accuracy: 0.0991 - val_loss: 6.4728 - val_accuracy: 0.1000\n",
            "Epoch 3/10\n",
            "1563/1563 [==============================] - 8s 5ms/step - loss: 4.4200 - accuracy: 0.0972 - val_loss: 3.1219 - val_accuracy: 0.1000\n",
            "Epoch 4/10\n",
            "1563/1563 [==============================] - 9s 6ms/step - loss: 2.6513 - accuracy: 0.0985 - val_loss: 2.3891 - val_accuracy: 0.1000\n",
            "Epoch 5/10\n",
            "1563/1563 [==============================] - 8s 5ms/step - loss: 2.3302 - accuracy: 0.0969 - val_loss: 2.3056 - val_accuracy: 0.1000\n",
            "Epoch 6/10\n",
            "1563/1563 [==============================] - 9s 6ms/step - loss: 2.3035 - accuracy: 0.0968 - val_loss: 2.3026 - val_accuracy: 0.1000\n",
            "Epoch 7/10\n",
            "1563/1563 [==============================] - 9s 5ms/step - loss: 2.3028 - accuracy: 0.0989 - val_loss: 2.3026 - val_accuracy: 0.1000\n",
            "Epoch 8/10\n",
            "1563/1563 [==============================] - 8s 5ms/step - loss: 2.3028 - accuracy: 0.0991 - val_loss: 2.3026 - val_accuracy: 0.1000\n",
            "Epoch 9/10\n",
            "1563/1563 [==============================] - 8s 5ms/step - loss: 2.3028 - accuracy: 0.0974 - val_loss: 2.3027 - val_accuracy: 0.1000\n",
            "Epoch 10/10\n",
            "1563/1563 [==============================] - 9s 6ms/step - loss: 2.3028 - accuracy: 0.0983 - val_loss: 2.3026 - val_accuracy: 0.1000\n"
          ]
        },
        {
          "output_type": "execute_result",
          "data": {
            "text/plain": [
              "<keras.callbacks.History at 0x7fd6a4def940>"
            ]
          },
          "metadata": {},
          "execution_count": 31
        }
      ]
    },
    {
      "cell_type": "code",
      "source": [
        "dropoutL2val=modeldropoutL2.evaluate(test_images,test_labels)\n",
        "print(dropoutL2val[0])"
      ],
      "metadata": {
        "colab": {
          "base_uri": "https://localhost:8080/"
        },
        "id": "YYpqqUo9u6tx",
        "outputId": "bb169995-d365-4c99-873e-18e57363a3dc"
      },
      "execution_count": 32,
      "outputs": [
        {
          "output_type": "stream",
          "name": "stdout",
          "text": [
            "313/313 [==============================] - 1s 3ms/step - loss: 2.3026 - accuracy: 0.1000\n"
          ]
        }
      ]
    }
  ]
}