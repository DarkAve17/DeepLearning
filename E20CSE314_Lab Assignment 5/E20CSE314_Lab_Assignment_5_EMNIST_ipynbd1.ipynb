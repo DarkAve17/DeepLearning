{
  "nbformat": 4,
  "nbformat_minor": 0,
  "metadata": {
    "colab": {
      "provenance": []
    },
    "kernelspec": {
      "name": "python3",
      "display_name": "Python 3"
    },
    "language_info": {
      "name": "python"
    },
    "accelerator": "GPU",
    "gpuClass": "standard"
  },
  "cells": [
    {
      "cell_type": "code",
      "execution_count": 2,
      "metadata": {
        "id": "vnuQZGGdV6Hv"
      },
      "outputs": [],
      "source": [
        "import numpy as np\n",
        "import pandas as pd\n",
        "import matplotlib.pyplot as plt\n",
        "import tensorflow as tf\n",
        "from tensorflow import keras\n",
        "import os\n",
        "for dirname, _, filenames in os.walk('/kaggle/input/mnist'):\n",
        "    for filename in filenames:\n",
        "        print(os.path.join(dirname, filename))\n",
        "from tensorflow.keras import regularizers\n",
        "#import tensorflow.keras.regularizers\n",
        "import warnings\n",
        "warnings.filterwarnings('ignore') \n",
        "import warnings\n",
        "warnings.filterwarnings('ignore')\n",
        "import matplotlib.pyplot as plt\n",
        "import keras\n",
        "from keras.datasets import mnist\n",
        "from keras.models import Sequential,model_from_json\n",
        "from keras.layers import Dense\n",
        "from tensorflow.keras.optimizers import RMSprop\n",
        "from keras.utils import np_utils\n",
        "import pylab as plt\n",
        "from keras.regularizers import l1,l2\n",
        "from keras.layers import Dense, Dropout "
      ]
    },
    {
      "cell_type": "code",
      "source": [
        "from IPython.core.interactiveshell import InteractiveShell\n",
        "InteractiveShell.ast_node_interactivity = \"all\""
      ],
      "metadata": {
        "id": "NDCvkbWxWBUa"
      },
      "execution_count": 3,
      "outputs": []
    },
    {
      "cell_type": "code",
      "source": [
        "emnist = tf.keras.datasets.mnist\n",
        "\n",
        "(train_images, train_labels), (test_images, test_labels) = emnist.load_data()"
      ],
      "metadata": {
        "colab": {
          "base_uri": "https://localhost:8080/"
        },
        "id": "FPLUh0_9WIS8",
        "outputId": "4445c474-c6e5-483f-b998-44991ee194a1"
      },
      "execution_count": 4,
      "outputs": [
        {
          "output_type": "stream",
          "name": "stdout",
          "text": [
            "Downloading data from https://storage.googleapis.com/tensorflow/tf-keras-datasets/mnist.npz\n",
            "11490434/11490434 [==============================] - 0s 0us/step\n"
          ]
        }
      ]
    },
    {
      "cell_type": "code",
      "source": [
        "emnist"
      ],
      "metadata": {
        "colab": {
          "base_uri": "https://localhost:8080/"
        },
        "id": "RcBYJnoCWRKV",
        "outputId": "ff188b70-d3bb-4d5e-f61f-1f0905638ce7"
      },
      "execution_count": 5,
      "outputs": [
        {
          "output_type": "execute_result",
          "data": {
            "text/plain": [
              "<module 'keras.api._v2.keras.datasets.mnist' from '/usr/local/lib/python3.8/dist-packages/keras/api/_v2/keras/datasets/mnist/__init__.py'>"
            ]
          },
          "metadata": {},
          "execution_count": 5
        }
      ]
    },
    {
      "cell_type": "code",
      "source": [
        "train_images.shape"
      ],
      "metadata": {
        "colab": {
          "base_uri": "https://localhost:8080/"
        },
        "id": "insGzxUtWTZM",
        "outputId": "af07b00a-c66c-41c6-c43d-80a7cd959e29"
      },
      "execution_count": 6,
      "outputs": [
        {
          "output_type": "execute_result",
          "data": {
            "text/plain": [
              "(60000, 28, 28)"
            ]
          },
          "metadata": {},
          "execution_count": 6
        }
      ]
    },
    {
      "cell_type": "code",
      "source": [
        "train_labels.shape"
      ],
      "metadata": {
        "colab": {
          "base_uri": "https://localhost:8080/"
        },
        "id": "_oPIL9CAWWtM",
        "outputId": "536a0bee-2c06-4f21-e75d-66915fca9cee"
      },
      "execution_count": 7,
      "outputs": [
        {
          "output_type": "execute_result",
          "data": {
            "text/plain": [
              "(60000,)"
            ]
          },
          "metadata": {},
          "execution_count": 7
        }
      ]
    },
    {
      "cell_type": "code",
      "source": [
        "modelnr = keras.Sequential([\n",
        "           keras.layers.Flatten(input_shape=(28,28)),\n",
        "           keras.layers.Dense(512, activation = 'relu'),\n",
        "           keras.layers.Dense(256, activation = 'relu'),\n",
        "           keras.layers.Dense(128, activation = 'relu'),\n",
        "           keras.layers.Dense(64, activation = 'relu'),\n",
        "           keras.layers.Dense(10,activation= 'softmax')\n",
        "                            ])\n",
        "modelnr.compile(optimizer='adam',\n",
        "              loss='sparse_categorical_crossentropy',\n",
        "              metrics=['accuracy'])"
      ],
      "metadata": {
        "id": "qFoUTYlnWYZG"
      },
      "execution_count": 8,
      "outputs": []
    },
    {
      "cell_type": "code",
      "source": [
        "modelnr.summary"
      ],
      "metadata": {
        "colab": {
          "base_uri": "https://localhost:8080/"
        },
        "id": "uPe6AljSWekR",
        "outputId": "db5b18a4-6185-420b-bb15-14c2e4fdd091"
      },
      "execution_count": 9,
      "outputs": [
        {
          "output_type": "execute_result",
          "data": {
            "text/plain": [
              "<bound method Model.summary of <keras.engine.sequential.Sequential object at 0x7fd8781d3130>>"
            ]
          },
          "metadata": {},
          "execution_count": 9
        }
      ]
    },
    {
      "cell_type": "code",
      "source": [
        "modelnr.fit(train_images, train_labels, epochs=10,validation_data=(test_images,test_labels))"
      ],
      "metadata": {
        "colab": {
          "base_uri": "https://localhost:8080/"
        },
        "id": "cvHBpHKtWguN",
        "outputId": "4fceaa77-b188-4790-ebd0-c79e1d419f1f"
      },
      "execution_count": 10,
      "outputs": [
        {
          "output_type": "stream",
          "name": "stdout",
          "text": [
            "Epoch 1/10\n",
            "1875/1875 [==============================] - 16s 4ms/step - loss: 0.6055 - accuracy: 0.8988 - val_loss: 0.1840 - val_accuracy: 0.9453\n",
            "Epoch 2/10\n",
            "1875/1875 [==============================] - 7s 4ms/step - loss: 0.1816 - accuracy: 0.9492 - val_loss: 0.1849 - val_accuracy: 0.9523\n",
            "Epoch 3/10\n",
            "1875/1875 [==============================] - 6s 3ms/step - loss: 0.1401 - accuracy: 0.9612 - val_loss: 0.1926 - val_accuracy: 0.9468\n",
            "Epoch 4/10\n",
            "1875/1875 [==============================] - 7s 4ms/step - loss: 0.1153 - accuracy: 0.9672 - val_loss: 0.1069 - val_accuracy: 0.9715\n",
            "Epoch 5/10\n",
            "1875/1875 [==============================] - 6s 3ms/step - loss: 0.1023 - accuracy: 0.9715 - val_loss: 0.1135 - val_accuracy: 0.9679\n",
            "Epoch 6/10\n",
            "1875/1875 [==============================] - 7s 4ms/step - loss: 0.0813 - accuracy: 0.9783 - val_loss: 0.1233 - val_accuracy: 0.9691\n",
            "Epoch 7/10\n",
            "1875/1875 [==============================] - 7s 4ms/step - loss: 0.0727 - accuracy: 0.9804 - val_loss: 0.1092 - val_accuracy: 0.9727\n",
            "Epoch 8/10\n",
            "1875/1875 [==============================] - 6s 3ms/step - loss: 0.0651 - accuracy: 0.9819 - val_loss: 0.1180 - val_accuracy: 0.9712\n",
            "Epoch 9/10\n",
            "1875/1875 [==============================] - 7s 4ms/step - loss: 0.0648 - accuracy: 0.9838 - val_loss: 0.1046 - val_accuracy: 0.9775\n",
            "Epoch 10/10\n",
            "1875/1875 [==============================] - 6s 3ms/step - loss: 0.0655 - accuracy: 0.9856 - val_loss: 0.1263 - val_accuracy: 0.9712\n"
          ]
        },
        {
          "output_type": "execute_result",
          "data": {
            "text/plain": [
              "<keras.callbacks.History at 0x7fd877930a90>"
            ]
          },
          "metadata": {},
          "execution_count": 10
        }
      ]
    },
    {
      "cell_type": "code",
      "source": [
        "histnrval = modelnr.evaluate(test_images,test_labels)\n",
        "print(histnrval[0])"
      ],
      "metadata": {
        "colab": {
          "base_uri": "https://localhost:8080/"
        },
        "id": "Uyy2dLn9Wj1G",
        "outputId": "f22ae268-9fd7-4e6e-aca8-e76964841176"
      },
      "execution_count": 11,
      "outputs": [
        {
          "output_type": "stream",
          "name": "stdout",
          "text": [
            "313/313 [==============================] - 1s 2ms/step - loss: 0.1263 - accuracy: 0.9712\n",
            "0.12630975246429443\n"
          ]
        }
      ]
    },
    {
      "cell_type": "code",
      "source": [
        "modelL1 = keras.Sequential([\n",
        "           keras.layers.Flatten(input_shape=(28,28)),\n",
        "           keras.layers.Dense(512, activation = 'relu', kernel_regularizer=regularizers.L1(l1=0.01)),\n",
        "           keras.layers.Dense(256, activation = 'relu', kernel_regularizer=regularizers.L1(l1=0.01)),\n",
        "           keras.layers.Dense(128, activation = 'relu', kernel_regularizer=regularizers.L1(l1=0.01)),\n",
        "           keras.layers.Dense(64, activation = 'relu', kernel_regularizer=regularizers.L1(l1=0.01)),\n",
        "           keras.layers.Dense(10,activation= 'softmax')\n",
        "                            ])\n",
        "modelL1.compile(optimizer='adam',\n",
        "              loss='sparse_categorical_crossentropy',\n",
        "              metrics=['accuracy'])"
      ],
      "metadata": {
        "id": "-9lzsmFgWl1z"
      },
      "execution_count": 12,
      "outputs": []
    },
    {
      "cell_type": "code",
      "source": [
        "modelL1.summary"
      ],
      "metadata": {
        "colab": {
          "base_uri": "https://localhost:8080/"
        },
        "id": "nR57ghVpW9Zz",
        "outputId": "d21f67e3-8dc6-40c2-aab6-f83c034b074b"
      },
      "execution_count": 13,
      "outputs": [
        {
          "output_type": "execute_result",
          "data": {
            "text/plain": [
              "<bound method Model.summary of <keras.engine.sequential.Sequential object at 0x7fd86cae4220>>"
            ]
          },
          "metadata": {},
          "execution_count": 13
        }
      ]
    },
    {
      "cell_type": "code",
      "source": [
        "modelL1.fit(train_images, train_labels, epochs=10,validation_data=(test_images,test_labels))"
      ],
      "metadata": {
        "colab": {
          "base_uri": "https://localhost:8080/"
        },
        "id": "RhbzIdtkW_wN",
        "outputId": "dd8f4c4b-49d9-4200-99eb-b7e228b0d856"
      },
      "execution_count": 14,
      "outputs": [
        {
          "output_type": "stream",
          "name": "stdout",
          "text": [
            "Epoch 1/10\n",
            "1875/1875 [==============================] - 10s 4ms/step - loss: 29.3199 - accuracy: 0.8619 - val_loss: 2.8690 - val_accuracy: 0.8931\n",
            "Epoch 2/10\n",
            "1875/1875 [==============================] - 10s 5ms/step - loss: 1.9910 - accuracy: 0.8746 - val_loss: 1.5430 - val_accuracy: 0.8955\n",
            "Epoch 3/10\n",
            "1875/1875 [==============================] - 8s 4ms/step - loss: 1.5004 - accuracy: 0.8824 - val_loss: 1.4530 - val_accuracy: 0.8898\n",
            "Epoch 4/10\n",
            "1875/1875 [==============================] - 8s 4ms/step - loss: 1.4353 - accuracy: 0.8891 - val_loss: 1.4253 - val_accuracy: 0.8870\n",
            "Epoch 5/10\n",
            "1875/1875 [==============================] - 9s 5ms/step - loss: 1.4119 - accuracy: 0.8909 - val_loss: 1.3544 - val_accuracy: 0.9130\n",
            "Epoch 6/10\n",
            "1875/1875 [==============================] - 7s 4ms/step - loss: 1.4034 - accuracy: 0.8930 - val_loss: 1.3525 - val_accuracy: 0.9085\n",
            "Epoch 7/10\n",
            "1875/1875 [==============================] - 9s 5ms/step - loss: 1.4004 - accuracy: 0.8943 - val_loss: 1.4253 - val_accuracy: 0.8884\n",
            "Epoch 8/10\n",
            "1875/1875 [==============================] - 9s 5ms/step - loss: 1.3936 - accuracy: 0.8972 - val_loss: 1.3599 - val_accuracy: 0.9017\n",
            "Epoch 9/10\n",
            "1875/1875 [==============================] - 8s 4ms/step - loss: 1.3945 - accuracy: 0.8973 - val_loss: 1.3202 - val_accuracy: 0.9187\n",
            "Epoch 10/10\n",
            "1875/1875 [==============================] - 8s 4ms/step - loss: 1.3838 - accuracy: 0.8978 - val_loss: 1.3448 - val_accuracy: 0.9048\n"
          ]
        },
        {
          "output_type": "execute_result",
          "data": {
            "text/plain": [
              "<keras.callbacks.History at 0x7fd86cb45d90>"
            ]
          },
          "metadata": {},
          "execution_count": 14
        }
      ]
    },
    {
      "cell_type": "code",
      "source": [
        "L1val = modelL1.evaluate(test_images,test_labels)\n",
        "print(L1val[0])"
      ],
      "metadata": {
        "colab": {
          "base_uri": "https://localhost:8080/"
        },
        "id": "n7en9QKnXB_U",
        "outputId": "9fc6db22-5713-4cca-df65-93c308c904d4"
      },
      "execution_count": 15,
      "outputs": [
        {
          "output_type": "stream",
          "name": "stdout",
          "text": [
            "313/313 [==============================] - 1s 2ms/step - loss: 1.3448 - accuracy: 0.9048\n",
            "1.3448305130004883\n"
          ]
        }
      ]
    },
    {
      "cell_type": "code",
      "source": [
        "modelL2 = keras.Sequential([\n",
        "           keras.layers.Flatten(input_shape=(28,28)),\n",
        "           keras.layers.Dense(512, activation = 'relu', kernel_regularizer=regularizers.L2(l2=0.05)),\n",
        "           keras.layers.Dense(256, activation = 'relu', kernel_regularizer=regularizers.L2(l2=0.05)),\n",
        "           keras.layers.Dense(128, activation = 'relu', kernel_regularizer=regularizers.L2(l2=0.05)),\n",
        "           keras.layers.Dense(64, activation = 'relu', kernel_regularizer=regularizers.L2(l2=0.05)),\n",
        "           keras.layers.Dense(10,activation= 'softmax')\n",
        "                            ])\n",
        "modelL2.compile(optimizer='adam',\n",
        "              loss='sparse_categorical_crossentropy',\n",
        "              metrics=['accuracy'])"
      ],
      "metadata": {
        "id": "RePii7UXXDo4"
      },
      "execution_count": 16,
      "outputs": []
    },
    {
      "cell_type": "code",
      "source": [
        "modelL2.summary"
      ],
      "metadata": {
        "colab": {
          "base_uri": "https://localhost:8080/"
        },
        "id": "ge030YGGXG3s",
        "outputId": "07c343c9-476b-4dc3-929a-4f0bedcc3cf0"
      },
      "execution_count": 17,
      "outputs": [
        {
          "output_type": "execute_result",
          "data": {
            "text/plain": [
              "<bound method Model.summary of <keras.engine.sequential.Sequential object at 0x7fd86c8a9b50>>"
            ]
          },
          "metadata": {},
          "execution_count": 17
        }
      ]
    },
    {
      "cell_type": "code",
      "source": [
        "modelL2.fit(train_images,train_labels, epochs=10,validation_data=(test_images,test_labels))"
      ],
      "metadata": {
        "colab": {
          "base_uri": "https://localhost:8080/"
        },
        "id": "M7u___U2XJFK",
        "outputId": "2f842cf4-625c-4f23-bee5-19060a9112cc"
      },
      "execution_count": 18,
      "outputs": [
        {
          "output_type": "stream",
          "name": "stdout",
          "text": [
            "Epoch 1/10\n",
            "1875/1875 [==============================] - 9s 4ms/step - loss: 10.7582 - accuracy: 0.9006 - val_loss: 1.1403 - val_accuracy: 0.9368\n",
            "Epoch 2/10\n",
            "1875/1875 [==============================] - 8s 4ms/step - loss: 0.7845 - accuracy: 0.9193 - val_loss: 0.6011 - val_accuracy: 0.9312\n",
            "Epoch 3/10\n",
            "1875/1875 [==============================] - 7s 4ms/step - loss: 0.5791 - accuracy: 0.9224 - val_loss: 0.4895 - val_accuracy: 0.9387\n",
            "Epoch 4/10\n",
            "1875/1875 [==============================] - 9s 5ms/step - loss: 0.5203 - accuracy: 0.9281 - val_loss: 0.4581 - val_accuracy: 0.9430\n",
            "Epoch 5/10\n",
            "1875/1875 [==============================] - 7s 4ms/step - loss: 0.5133 - accuracy: 0.9289 - val_loss: 0.5568 - val_accuracy: 0.9136\n",
            "Epoch 6/10\n",
            "1875/1875 [==============================] - 7s 4ms/step - loss: 0.4881 - accuracy: 0.9313 - val_loss: 0.4328 - val_accuracy: 0.9408\n",
            "Epoch 7/10\n",
            "1875/1875 [==============================] - 8s 4ms/step - loss: 0.4674 - accuracy: 0.9315 - val_loss: 0.4499 - val_accuracy: 0.9337\n",
            "Epoch 8/10\n",
            "1875/1875 [==============================] - 8s 4ms/step - loss: 0.4546 - accuracy: 0.9329 - val_loss: 0.4388 - val_accuracy: 0.9370\n",
            "Epoch 9/10\n",
            "1875/1875 [==============================] - 7s 4ms/step - loss: 0.4589 - accuracy: 0.9315 - val_loss: 0.4197 - val_accuracy: 0.9343\n",
            "Epoch 10/10\n",
            "1875/1875 [==============================] - 10s 5ms/step - loss: 0.4512 - accuracy: 0.9322 - val_loss: 0.4441 - val_accuracy: 0.9338\n"
          ]
        },
        {
          "output_type": "execute_result",
          "data": {
            "text/plain": [
              "<keras.callbacks.History at 0x7fd86c8d1520>"
            ]
          },
          "metadata": {},
          "execution_count": 18
        }
      ]
    },
    {
      "cell_type": "code",
      "source": [
        "L2val = modelL2.evaluate(test_images,test_labels)\n",
        "print(L2val[0])"
      ],
      "metadata": {
        "colab": {
          "base_uri": "https://localhost:8080/"
        },
        "id": "aFKtUIZhXLAv",
        "outputId": "7548bcba-6861-479a-f916-11f25d6aece0"
      },
      "execution_count": 19,
      "outputs": [
        {
          "output_type": "stream",
          "name": "stdout",
          "text": [
            "313/313 [==============================] - 1s 2ms/step - loss: 0.4441 - accuracy: 0.9338\n",
            "0.4440561532974243\n"
          ]
        }
      ]
    },
    {
      "cell_type": "code",
      "source": [
        "modeldropout = keras.Sequential([\n",
        "           keras.layers.Flatten(input_shape=(28,28)),\n",
        "           keras.layers.Dropout(0.4),\n",
        "           keras.layers.Dense(512, activation = 'relu'),\n",
        "           keras.layers.Dropout(0.4),\n",
        "           keras.layers.Dense(256, activation = 'relu'),\n",
        "           keras.layers.Dropout(0.4),\n",
        "           keras.layers.Dense(128, activation = 'relu'),\n",
        "           keras.layers.Dropout(0.4),\n",
        "           keras.layers.Dense(64, activation = 'relu'),\n",
        "           keras.layers.Dropout(0.4),\n",
        "           keras.layers.Dense(10,activation= 'softmax')\n",
        "                            ])\n",
        "modeldropout.compile(optimizer='adam',\n",
        "              loss='sparse_categorical_crossentropy',\n",
        "              metrics=['accuracy'])"
      ],
      "metadata": {
        "id": "_b5o3IyzXMqg"
      },
      "execution_count": 20,
      "outputs": []
    },
    {
      "cell_type": "code",
      "source": [
        "modeldropout.summary"
      ],
      "metadata": {
        "colab": {
          "base_uri": "https://localhost:8080/"
        },
        "id": "XwRr3I_-XP9t",
        "outputId": "247ab279-a97d-4eff-994f-a2c6f291e5d5"
      },
      "execution_count": 21,
      "outputs": [
        {
          "output_type": "execute_result",
          "data": {
            "text/plain": [
              "<bound method Model.summary of <keras.engine.sequential.Sequential object at 0x7fd86c24cf70>>"
            ]
          },
          "metadata": {},
          "execution_count": 21
        }
      ]
    },
    {
      "cell_type": "code",
      "source": [
        "modeldropout.fit(train_images, train_labels, epochs=10,validation_data=(test_images,test_labels))"
      ],
      "metadata": {
        "colab": {
          "base_uri": "https://localhost:8080/"
        },
        "id": "Tu8lTy1OXRtQ",
        "outputId": "a2c7f5e5-f104-43b9-98d9-c83fcf207af7"
      },
      "execution_count": 22,
      "outputs": [
        {
          "output_type": "stream",
          "name": "stdout",
          "text": [
            "Epoch 1/10\n",
            "1875/1875 [==============================] - 10s 5ms/step - loss: 5.1805 - accuracy: 0.1142 - val_loss: 2.3012 - val_accuracy: 0.1135\n",
            "Epoch 2/10\n",
            "1875/1875 [==============================] - 7s 4ms/step - loss: 2.3079 - accuracy: 0.1123 - val_loss: 2.3010 - val_accuracy: 0.1135\n",
            "Epoch 3/10\n",
            "1875/1875 [==============================] - 7s 4ms/step - loss: 2.3050 - accuracy: 0.1125 - val_loss: 2.3010 - val_accuracy: 0.1135\n",
            "Epoch 4/10\n",
            "1875/1875 [==============================] - 7s 4ms/step - loss: 2.3040 - accuracy: 0.1124 - val_loss: 2.3012 - val_accuracy: 0.1135\n",
            "Epoch 5/10\n",
            "1875/1875 [==============================] - 7s 4ms/step - loss: 2.3069 - accuracy: 0.1124 - val_loss: 2.3010 - val_accuracy: 0.1135\n",
            "Epoch 6/10\n",
            "1875/1875 [==============================] - 8s 4ms/step - loss: 2.3062 - accuracy: 0.1123 - val_loss: 2.3011 - val_accuracy: 0.1135\n",
            "Epoch 7/10\n",
            "1875/1875 [==============================] - 7s 3ms/step - loss: 2.3013 - accuracy: 0.1124 - val_loss: 2.3011 - val_accuracy: 0.1135\n",
            "Epoch 8/10\n",
            "1875/1875 [==============================] - 7s 4ms/step - loss: 2.3029 - accuracy: 0.1124 - val_loss: 2.3009 - val_accuracy: 0.1135\n",
            "Epoch 9/10\n",
            "1875/1875 [==============================] - 7s 3ms/step - loss: 2.3091 - accuracy: 0.1123 - val_loss: 2.3011 - val_accuracy: 0.1135\n",
            "Epoch 10/10\n",
            "1875/1875 [==============================] - 7s 4ms/step - loss: 2.3047 - accuracy: 0.1123 - val_loss: 2.3011 - val_accuracy: 0.1135\n"
          ]
        },
        {
          "output_type": "execute_result",
          "data": {
            "text/plain": [
              "<keras.callbacks.History at 0x7fd86c266ee0>"
            ]
          },
          "metadata": {},
          "execution_count": 22
        }
      ]
    },
    {
      "cell_type": "code",
      "source": [
        "dropoutval = modeldropout.evaluate(train_images,train_labels) \n",
        "print(dropoutval[0])"
      ],
      "metadata": {
        "colab": {
          "base_uri": "https://localhost:8080/"
        },
        "id": "pqob79-OXUqH",
        "outputId": "7188e89e-43c4-4e40-fefa-60b7b94960e0"
      },
      "execution_count": 23,
      "outputs": [
        {
          "output_type": "stream",
          "name": "stdout",
          "text": [
            "1875/1875 [==============================] - 5s 2ms/step - loss: 2.3012 - accuracy: 0.1124\n",
            "2.301194429397583\n"
          ]
        }
      ]
    },
    {
      "cell_type": "code",
      "source": [
        "modeldropoutL1 = keras.Sequential([\n",
        "           keras.layers.Flatten(input_shape=(28,28)),\n",
        "           keras.layers.Dropout(0.4),\n",
        "           keras.layers.Dense(512, activation = 'relu', kernel_regularizer=regularizers.L1(l1=0.003)),\n",
        "           keras.layers.Dropout(0.4),\n",
        "           keras.layers.Dense(256, activation = 'relu', kernel_regularizer=regularizers.L1(l1=0.003)),\n",
        "           keras.layers.Dropout(0.4),\n",
        "           keras.layers.Dense(128, activation = 'relu', kernel_regularizer=regularizers.L1(l1=0.003)),\n",
        "           keras.layers.Dropout(0.4),\n",
        "           keras.layers.Dense(64, activation = 'relu', kernel_regularizer=regularizers.L1(l1=0.003)),\n",
        "           keras.layers.Dropout(0.4),\n",
        "           keras.layers.Dense(10,activation= 'softmax')\n",
        "                            ])\n",
        "modeldropoutL1.compile(optimizer='adam',\n",
        "              loss='sparse_categorical_crossentropy',\n",
        "              metrics=['accuracy'])"
      ],
      "metadata": {
        "id": "tJU8pxdHXZl_"
      },
      "execution_count": 24,
      "outputs": []
    },
    {
      "cell_type": "code",
      "source": [
        "modeldropoutL1.summary"
      ],
      "metadata": {
        "colab": {
          "base_uri": "https://localhost:8080/"
        },
        "id": "7oNBxNE0XeJH",
        "outputId": "71cf2223-0a00-4e25-d869-d9321a9a6285"
      },
      "execution_count": 25,
      "outputs": [
        {
          "output_type": "execute_result",
          "data": {
            "text/plain": [
              "<bound method Model.summary of <keras.engine.sequential.Sequential object at 0x7fd86238d400>>"
            ]
          },
          "metadata": {},
          "execution_count": 25
        }
      ]
    },
    {
      "cell_type": "code",
      "source": [
        "modeldropoutL1.fit(train_images, train_labels, epochs=10,validation_data=(test_images,test_labels))"
      ],
      "metadata": {
        "colab": {
          "base_uri": "https://localhost:8080/"
        },
        "id": "CzKu4k3iXhLy",
        "outputId": "ad724db3-4569-4059-fffd-42315176c8d1"
      },
      "execution_count": 26,
      "outputs": [
        {
          "output_type": "stream",
          "name": "stdout",
          "text": [
            "Epoch 1/10\n",
            "1875/1875 [==============================] - 10s 4ms/step - loss: 39.7615 - accuracy: 0.1224 - val_loss: 19.8200 - val_accuracy: 0.2891\n",
            "Epoch 2/10\n",
            "1875/1875 [==============================] - 8s 4ms/step - loss: 9.6112 - accuracy: 0.4317 - val_loss: 3.2510 - val_accuracy: 0.8507\n",
            "Epoch 3/10\n",
            "1875/1875 [==============================] - 8s 4ms/step - loss: 2.5103 - accuracy: 0.7395 - val_loss: 1.6874 - val_accuracy: 0.8837\n",
            "Epoch 4/10\n",
            "1875/1875 [==============================] - 8s 4ms/step - loss: 2.0264 - accuracy: 0.7642 - val_loss: 1.7079 - val_accuracy: 0.8811\n",
            "Epoch 5/10\n",
            "1875/1875 [==============================] - 8s 4ms/step - loss: 2.1069 - accuracy: 0.7703 - val_loss: 1.9374 - val_accuracy: 0.9010\n",
            "Epoch 6/10\n",
            "1875/1875 [==============================] - 7s 4ms/step - loss: 2.2206 - accuracy: 0.7707 - val_loss: 1.7509 - val_accuracy: 0.9119\n",
            "Epoch 7/10\n",
            "1875/1875 [==============================] - 7s 4ms/step - loss: 2.2182 - accuracy: 0.7707 - val_loss: 1.7182 - val_accuracy: 0.9088\n",
            "Epoch 8/10\n",
            "1875/1875 [==============================] - 8s 4ms/step - loss: 2.2772 - accuracy: 0.7723 - val_loss: 1.7661 - val_accuracy: 0.9076\n",
            "Epoch 9/10\n",
            "1875/1875 [==============================] - 7s 4ms/step - loss: 2.2395 - accuracy: 0.7669 - val_loss: 1.8297 - val_accuracy: 0.9022\n",
            "Epoch 10/10\n",
            "1875/1875 [==============================] - 8s 4ms/step - loss: 2.2700 - accuracy: 0.7695 - val_loss: 1.8618 - val_accuracy: 0.8826\n"
          ]
        },
        {
          "output_type": "execute_result",
          "data": {
            "text/plain": [
              "<keras.callbacks.History at 0x7fd862339160>"
            ]
          },
          "metadata": {},
          "execution_count": 26
        }
      ]
    },
    {
      "cell_type": "code",
      "source": [
        "dropoutL1val = modeldropoutL1.evaluate(test_images,test_labels)\n",
        "print(dropoutL1val[0])"
      ],
      "metadata": {
        "colab": {
          "base_uri": "https://localhost:8080/"
        },
        "id": "5E5l55hPXkTv",
        "outputId": "47d5cec0-2803-4248-c85e-7aeec36af2f2"
      },
      "execution_count": 27,
      "outputs": [
        {
          "output_type": "stream",
          "name": "stdout",
          "text": [
            "313/313 [==============================] - 1s 2ms/step - loss: 1.8618 - accuracy: 0.8826\n",
            "1.8618249893188477\n"
          ]
        }
      ]
    },
    {
      "cell_type": "code",
      "source": [
        "modeldropoutL2 = keras.Sequential([\n",
        "           keras.layers.Flatten(input_shape=(28,28)),\n",
        "           keras.layers.Dropout(0.4),\n",
        "           keras.layers.Dense(512, activation = 'relu', kernel_regularizer=regularizers.L2(l2=0.05)),\n",
        "           keras.layers.Dropout(0.4),\n",
        "           keras.layers.Dense(256, activation = 'relu', kernel_regularizer=regularizers.L2(l2=0.05)),\n",
        "           keras.layers.Dropout(0.4),\n",
        "           keras.layers.Dense(128, activation = 'relu', kernel_regularizer=regularizers.L2(l2=0.05)),\n",
        "           keras.layers.Dropout(0.4),\n",
        "           keras.layers.Dense(64, activation = 'relu', kernel_regularizer=regularizers.L2(l2=0.05)),\n",
        "           keras.layers.Dropout(0.4),\n",
        "           keras.layers.Dense(10,activation= 'softmax')\n",
        "                            ])\n",
        "modeldropoutL2.compile(optimizer='adam',\n",
        "              loss='sparse_categorical_crossentropy',\n",
        "              metrics=['accuracy'])"
      ],
      "metadata": {
        "id": "ToLIu6oKXmIs"
      },
      "execution_count": 28,
      "outputs": []
    },
    {
      "cell_type": "code",
      "source": [
        "modeldropoutL2.fit(train_images,train_labels,epochs=10,validation_data=(test_images,test_labels))"
      ],
      "metadata": {
        "colab": {
          "base_uri": "https://localhost:8080/"
        },
        "id": "RfsP_wmgXpqj",
        "outputId": "06bc5765-20ff-489b-bbbf-56c126482177"
      },
      "execution_count": 29,
      "outputs": [
        {
          "output_type": "stream",
          "name": "stdout",
          "text": [
            "Epoch 1/10\n",
            "1875/1875 [==============================] - 9s 4ms/step - loss: 29.3768 - accuracy: 0.1134 - val_loss: 9.1440 - val_accuracy: 0.1135\n",
            "Epoch 2/10\n",
            "1875/1875 [==============================] - 8s 4ms/step - loss: 3.7559 - accuracy: 0.6030 - val_loss: 1.2943 - val_accuracy: 0.8889\n",
            "Epoch 3/10\n",
            "1875/1875 [==============================] - 7s 4ms/step - loss: 1.4369 - accuracy: 0.8213 - val_loss: 1.1068 - val_accuracy: 0.9057\n",
            "Epoch 4/10\n",
            "1875/1875 [==============================] - 8s 4ms/step - loss: 1.4979 - accuracy: 0.8025 - val_loss: 1.1573 - val_accuracy: 0.9008\n",
            "Epoch 5/10\n",
            "1875/1875 [==============================] - 7s 4ms/step - loss: 1.4815 - accuracy: 0.7966 - val_loss: 1.1409 - val_accuracy: 0.8966\n",
            "Epoch 6/10\n",
            "1875/1875 [==============================] - 8s 4ms/step - loss: 1.4573 - accuracy: 0.7937 - val_loss: 1.1892 - val_accuracy: 0.8952\n",
            "Epoch 7/10\n",
            "1875/1875 [==============================] - 8s 4ms/step - loss: 1.4145 - accuracy: 0.7950 - val_loss: 1.0993 - val_accuracy: 0.8983\n",
            "Epoch 8/10\n",
            "1875/1875 [==============================] - 7s 4ms/step - loss: 1.4097 - accuracy: 0.7948 - val_loss: 1.0539 - val_accuracy: 0.8992\n",
            "Epoch 9/10\n",
            "1875/1875 [==============================] - 7s 4ms/step - loss: 1.3910 - accuracy: 0.7949 - val_loss: 1.0329 - val_accuracy: 0.9022\n",
            "Epoch 10/10\n",
            "1875/1875 [==============================] - 7s 4ms/step - loss: 1.4045 - accuracy: 0.7941 - val_loss: 1.0391 - val_accuracy: 0.8968\n"
          ]
        },
        {
          "output_type": "execute_result",
          "data": {
            "text/plain": [
              "<keras.callbacks.History at 0x7fd8620bc760>"
            ]
          },
          "metadata": {},
          "execution_count": 29
        }
      ]
    },
    {
      "cell_type": "code",
      "source": [
        "dropoutL2val=modeldropoutL2.evaluate(test_images,test_labels)\n",
        "print(dropoutL2val[0])"
      ],
      "metadata": {
        "colab": {
          "base_uri": "https://localhost:8080/"
        },
        "id": "wRWjRvuhXsIG",
        "outputId": "8f527924-f320-4cbe-de31-4519ec2d6991"
      },
      "execution_count": 30,
      "outputs": [
        {
          "output_type": "stream",
          "name": "stdout",
          "text": [
            "313/313 [==============================] - 1s 2ms/step - loss: 1.0391 - accuracy: 0.8968\n",
            "1.0390851497650146\n"
          ]
        }
      ]
    },
    {
      "cell_type": "code",
      "source": [],
      "metadata": {
        "id": "aDAFdYnbXuHI"
      },
      "execution_count": null,
      "outputs": []
    }
  ]
}