{
  "nbformat": 4,
  "nbformat_minor": 0,
  "metadata": {
    "colab": {
      "provenance": []
    },
    "kernelspec": {
      "name": "python3",
      "display_name": "Python 3"
    },
    "language_info": {
      "name": "python"
    },
    "accelerator": "GPU",
    "gpuClass": "standard"
  },
  "cells": [
    {
      "cell_type": "code",
      "execution_count": 1,
      "metadata": {
        "id": "uyioVYAhOpho"
      },
      "outputs": [],
      "source": [
        "import numpy as np\n",
        "import pandas as pd\n",
        "import matplotlib.pyplot as plt\n",
        "import tensorflow as tf\n",
        "from tensorflow import keras\n",
        "import os\n",
        "for dirname, _, filenames in os.walk('/kaggle/input/fashionmnist'):\n",
        "    for filename in filenames:\n",
        "        print(os.path.join(dirname, filename))\n",
        "from tensorflow.keras import regularizers\n",
        "#import tensorflow.keras.regularizers\n",
        "import warnings\n",
        "warnings.filterwarnings('ignore') \n",
        "import warnings\n",
        "warnings.filterwarnings('ignore')\n",
        "import matplotlib.pyplot as plt\n",
        "import keras\n",
        "from keras.datasets import mnist\n",
        "from keras.models import Sequential,model_from_json\n",
        "from keras.layers import Dense\n",
        "from tensorflow.keras.optimizers import RMSprop\n",
        "from keras.utils import np_utils\n",
        "import pylab as plt\n",
        "from keras.regularizers import l1,l2\n",
        "from keras.layers import Dense, Dropout"
      ]
    },
    {
      "cell_type": "code",
      "source": [
        "from IPython.core.interactiveshell import InteractiveShell\n",
        "InteractiveShell.ast_node_interactivity = \"all\""
      ],
      "metadata": {
        "id": "a9iImwd1RdId"
      },
      "execution_count": 2,
      "outputs": []
    },
    {
      "cell_type": "code",
      "source": [
        "fashion_mnist=tf.keras.datasets.fashion_mnist"
      ],
      "metadata": {
        "id": "fkb5RlEmQWWX"
      },
      "execution_count": 3,
      "outputs": []
    },
    {
      "cell_type": "code",
      "source": [
        "(x_train,y_train),(x_test,y_test) = fashion_mnist.load_data()"
      ],
      "metadata": {
        "colab": {
          "base_uri": "https://localhost:8080/"
        },
        "id": "g3yQCs3KOxzA",
        "outputId": "bd492ebb-2b7c-48ca-b608-f55cb3d0450b"
      },
      "execution_count": 4,
      "outputs": [
        {
          "output_type": "stream",
          "name": "stdout",
          "text": [
            "Downloading data from https://storage.googleapis.com/tensorflow/tf-keras-datasets/train-labels-idx1-ubyte.gz\n",
            "29515/29515 [==============================] - 0s 0us/step\n",
            "Downloading data from https://storage.googleapis.com/tensorflow/tf-keras-datasets/train-images-idx3-ubyte.gz\n",
            "26421880/26421880 [==============================] - 0s 0us/step\n",
            "Downloading data from https://storage.googleapis.com/tensorflow/tf-keras-datasets/t10k-labels-idx1-ubyte.gz\n",
            "5148/5148 [==============================] - 0s 0us/step\n",
            "Downloading data from https://storage.googleapis.com/tensorflow/tf-keras-datasets/t10k-images-idx3-ubyte.gz\n",
            "4422102/4422102 [==============================] - 0s 0us/step\n"
          ]
        }
      ]
    },
    {
      "cell_type": "code",
      "source": [
        "fashion_mnist"
      ],
      "metadata": {
        "colab": {
          "base_uri": "https://localhost:8080/"
        },
        "id": "Pg81V7O1QQAm",
        "outputId": "4a192790-30b4-4be9-8fb4-9743804b9877"
      },
      "execution_count": 5,
      "outputs": [
        {
          "output_type": "execute_result",
          "data": {
            "text/plain": [
              "<module 'keras.api._v2.keras.datasets.fashion_mnist' from '/usr/local/lib/python3.8/dist-packages/keras/api/_v2/keras/datasets/fashion_mnist/__init__.py'>"
            ]
          },
          "metadata": {},
          "execution_count": 5
        }
      ]
    },
    {
      "cell_type": "code",
      "source": [
        "x_train.shape"
      ],
      "metadata": {
        "colab": {
          "base_uri": "https://localhost:8080/"
        },
        "id": "HaaWvVRNR8rQ",
        "outputId": "1a1db7b5-cd50-496c-db28-d7e67f1f699b"
      },
      "execution_count": 6,
      "outputs": [
        {
          "output_type": "execute_result",
          "data": {
            "text/plain": [
              "(60000, 28, 28)"
            ]
          },
          "metadata": {},
          "execution_count": 6
        }
      ]
    },
    {
      "cell_type": "code",
      "source": [
        "y_train.shape"
      ],
      "metadata": {
        "colab": {
          "base_uri": "https://localhost:8080/"
        },
        "id": "soLJiWkBR-ce",
        "outputId": "fa60b0ea-94f7-4136-9ea6-98a80b01b85c"
      },
      "execution_count": 7,
      "outputs": [
        {
          "output_type": "execute_result",
          "data": {
            "text/plain": [
              "(60000,)"
            ]
          },
          "metadata": {},
          "execution_count": 7
        }
      ]
    },
    {
      "cell_type": "code",
      "source": [
        "#standardizing input\n",
        "\n",
        "x_train= x_train/255.0\n",
        "x_test = x_test/255.0\n"
      ],
      "metadata": {
        "id": "LxkaZ69dSEBc"
      },
      "execution_count": 8,
      "outputs": []
    },
    {
      "cell_type": "code",
      "source": [
        "modelnr = keras.Sequential([\n",
        "           keras.layers.Flatten(input_shape=(28,28)),\n",
        "           keras.layers.Dense(512, activation = 'relu'),\n",
        "           keras.layers.Dense(256, activation = 'relu'),\n",
        "           keras.layers.Dense(128, activation = 'relu'),\n",
        "           keras.layers.Dense(64, activation = 'relu'),\n",
        "           keras.layers.Dense(10,activation= 'softmax')\n",
        "                            ])\n",
        "modelnr.compile(optimizer='adam',\n",
        "              loss='sparse_categorical_crossentropy',\n",
        "              metrics=['accuracy'])"
      ],
      "metadata": {
        "id": "Vk6Hc03_baOu"
      },
      "execution_count": 9,
      "outputs": []
    },
    {
      "cell_type": "code",
      "source": [
        "modelnr.summary"
      ],
      "metadata": {
        "colab": {
          "base_uri": "https://localhost:8080/"
        },
        "id": "_Njt1RJMbbQ3",
        "outputId": "18883b30-4372-4ec5-8219-1adb785ab1b3"
      },
      "execution_count": 10,
      "outputs": [
        {
          "output_type": "execute_result",
          "data": {
            "text/plain": [
              "<bound method Model.summary of <keras.engine.sequential.Sequential object at 0x7f41db3c79d0>>"
            ]
          },
          "metadata": {},
          "execution_count": 10
        }
      ]
    },
    {
      "cell_type": "code",
      "source": [
        "Hist0=modelnr.fit(x_train, y_train, epochs=10,validation_data=(x_test,y_test))"
      ],
      "metadata": {
        "colab": {
          "base_uri": "https://localhost:8080/"
        },
        "id": "W4_-I1s7bd3E",
        "outputId": "d58167d1-aa1f-465f-fb41-6a230133fef5"
      },
      "execution_count": 11,
      "outputs": [
        {
          "output_type": "stream",
          "name": "stdout",
          "text": [
            "Epoch 1/10\n",
            "1875/1875 [==============================] - 18s 6ms/step - loss: 0.4953 - accuracy: 0.8217 - val_loss: 0.4140 - val_accuracy: 0.8547\n",
            "Epoch 2/10\n",
            "1875/1875 [==============================] - 13s 7ms/step - loss: 0.3687 - accuracy: 0.8668 - val_loss: 0.3844 - val_accuracy: 0.8607\n",
            "Epoch 3/10\n",
            "1875/1875 [==============================] - 7s 4ms/step - loss: 0.3327 - accuracy: 0.8775 - val_loss: 0.3617 - val_accuracy: 0.8675\n",
            "Epoch 4/10\n",
            "1875/1875 [==============================] - 6s 3ms/step - loss: 0.3095 - accuracy: 0.8864 - val_loss: 0.3645 - val_accuracy: 0.8675\n",
            "Epoch 5/10\n",
            "1875/1875 [==============================] - 7s 4ms/step - loss: 0.2910 - accuracy: 0.8929 - val_loss: 0.3586 - val_accuracy: 0.8754\n",
            "Epoch 6/10\n",
            "1875/1875 [==============================] - 6s 3ms/step - loss: 0.2750 - accuracy: 0.8973 - val_loss: 0.3325 - val_accuracy: 0.8807\n",
            "Epoch 7/10\n",
            "1875/1875 [==============================] - 7s 4ms/step - loss: 0.2639 - accuracy: 0.9007 - val_loss: 0.3390 - val_accuracy: 0.8792\n",
            "Epoch 8/10\n",
            "1875/1875 [==============================] - 7s 3ms/step - loss: 0.2518 - accuracy: 0.9049 - val_loss: 0.3303 - val_accuracy: 0.8843\n",
            "Epoch 9/10\n",
            "1875/1875 [==============================] - 7s 4ms/step - loss: 0.2417 - accuracy: 0.9084 - val_loss: 0.3433 - val_accuracy: 0.8855\n",
            "Epoch 10/10\n",
            "1875/1875 [==============================] - 7s 4ms/step - loss: 0.2319 - accuracy: 0.9121 - val_loss: 0.3490 - val_accuracy: 0.8842\n"
          ]
        }
      ]
    },
    {
      "cell_type": "code",
      "source": [
        "histnrval = modelnr.evaluate(x_test,y_test)\n",
        "print(histnrval[0])"
      ],
      "metadata": {
        "colab": {
          "base_uri": "https://localhost:8080/"
        },
        "id": "-lDu5Vrbcd2B",
        "outputId": "5332f287-40d9-4e1c-c070-22e937ff327f"
      },
      "execution_count": 12,
      "outputs": [
        {
          "output_type": "stream",
          "name": "stdout",
          "text": [
            "313/313 [==============================] - 1s 3ms/step - loss: 0.3490 - accuracy: 0.8842\n",
            "0.3489864766597748\n"
          ]
        }
      ]
    },
    {
      "cell_type": "code",
      "source": [
        "modelL1 = keras.Sequential([\n",
        "           keras.layers.Flatten(input_shape=(28,28)),\n",
        "           keras.layers.Dense(512, activation = 'relu', kernel_regularizer=regularizers.L1(l1=0.003)),\n",
        "           keras.layers.Dense(256, activation = 'relu', kernel_regularizer=regularizers.L1(l1=0.003)),\n",
        "           keras.layers.Dense(128, activation = 'relu', kernel_regularizer=regularizers.L1(l1=0.003)),\n",
        "           keras.layers.Dense(64, activation = 'relu', kernel_regularizer=regularizers.L1(l1=0.003)),\n",
        "           keras.layers.Dense(10,activation= 'softmax')\n",
        "                            ])\n",
        "modelL1.compile(optimizer='adam',\n",
        "              loss='sparse_categorical_crossentropy',\n",
        "              metrics=['accuracy'])"
      ],
      "metadata": {
        "id": "pEARw2sUZwUG"
      },
      "execution_count": 13,
      "outputs": []
    },
    {
      "cell_type": "code",
      "source": [
        "modelL1.summary"
      ],
      "metadata": {
        "colab": {
          "base_uri": "https://localhost:8080/"
        },
        "id": "0SslPK3taP-h",
        "outputId": "b1129711-53ed-436d-9274-cba9ff7e5cd5"
      },
      "execution_count": 14,
      "outputs": [
        {
          "output_type": "execute_result",
          "data": {
            "text/plain": [
              "<bound method Model.summary of <keras.engine.sequential.Sequential object at 0x7f41f5fe6730>>"
            ]
          },
          "metadata": {},
          "execution_count": 14
        }
      ]
    },
    {
      "cell_type": "code",
      "source": [
        "Hist1=modelL1.fit(x_train, y_train, epochs=10,validation_data=(x_test,y_test))"
      ],
      "metadata": {
        "colab": {
          "base_uri": "https://localhost:8080/"
        },
        "id": "6xVUiFVIad72",
        "outputId": "f649d414-7efe-49da-d034-5a77f764d08b"
      },
      "execution_count": 15,
      "outputs": [
        {
          "output_type": "stream",
          "name": "stdout",
          "text": [
            "Epoch 1/10\n",
            "1875/1875 [==============================] - 10s 4ms/step - loss: 3.0395 - accuracy: 0.7276 - val_loss: 1.2993 - val_accuracy: 0.7703\n",
            "Epoch 2/10\n",
            "1875/1875 [==============================] - 7s 4ms/step - loss: 1.2182 - accuracy: 0.7765 - val_loss: 1.1704 - val_accuracy: 0.7813\n",
            "Epoch 3/10\n",
            "1875/1875 [==============================] - 8s 4ms/step - loss: 1.1225 - accuracy: 0.7873 - val_loss: 1.1664 - val_accuracy: 0.7610\n",
            "Epoch 4/10\n",
            "1875/1875 [==============================] - 7s 4ms/step - loss: 1.0737 - accuracy: 0.7947 - val_loss: 1.1285 - val_accuracy: 0.7652\n",
            "Epoch 5/10\n",
            "1875/1875 [==============================] - 7s 4ms/step - loss: 1.0413 - accuracy: 0.7973 - val_loss: 1.0667 - val_accuracy: 0.7818\n",
            "Epoch 6/10\n",
            "1875/1875 [==============================] - 8s 4ms/step - loss: 1.0158 - accuracy: 0.7987 - val_loss: 1.0484 - val_accuracy: 0.7781\n",
            "Epoch 7/10\n",
            "1875/1875 [==============================] - 7s 4ms/step - loss: 1.0019 - accuracy: 0.7995 - val_loss: 0.9987 - val_accuracy: 0.8013\n",
            "Epoch 8/10\n",
            "1875/1875 [==============================] - 8s 4ms/step - loss: 0.9881 - accuracy: 0.8026 - val_loss: 1.0030 - val_accuracy: 0.7958\n",
            "Epoch 9/10\n",
            "1875/1875 [==============================] - 8s 4ms/step - loss: 0.9794 - accuracy: 0.8029 - val_loss: 1.1042 - val_accuracy: 0.7503\n",
            "Epoch 10/10\n",
            "1875/1875 [==============================] - 7s 4ms/step - loss: 0.9736 - accuracy: 0.8026 - val_loss: 0.9995 - val_accuracy: 0.7971\n"
          ]
        }
      ]
    },
    {
      "cell_type": "code",
      "source": [
        "histL1val = modelL1.evaluate(x_test,y_test)\n",
        "print(histL1val[0])"
      ],
      "metadata": {
        "colab": {
          "base_uri": "https://localhost:8080/"
        },
        "id": "TFw5I1w5gsCO",
        "outputId": "fc5f4217-407a-409f-df3e-630ce21b78f1"
      },
      "execution_count": 16,
      "outputs": [
        {
          "output_type": "stream",
          "name": "stdout",
          "text": [
            "313/313 [==============================] - 1s 3ms/step - loss: 0.9995 - accuracy: 0.7971\n",
            "0.9995318651199341\n"
          ]
        }
      ]
    },
    {
      "cell_type": "code",
      "source": [
        "modelL2 = keras.Sequential([\n",
        "           keras.layers.Flatten(input_shape=(28,28)),\n",
        "           keras.layers.Dense(512, activation = 'relu', kernel_regularizer=regularizers.L2(l2=0.05)),\n",
        "           keras.layers.Dense(256, activation = 'relu', kernel_regularizer=regularizers.L2(l2=0.05)),\n",
        "           keras.layers.Dense(128, activation = 'relu', kernel_regularizer=regularizers.L2(l2=0.05)),\n",
        "           keras.layers.Dense(64, activation = 'relu', kernel_regularizer=regularizers.L2(l2=0.05)),\n",
        "           keras.layers.Dense(10,activation= 'softmax')\n",
        "                            ])\n",
        "modelL2.compile(optimizer='adam',\n",
        "              loss='sparse_categorical_crossentropy',\n",
        "              metrics=['accuracy'])"
      ],
      "metadata": {
        "id": "bzhsS1ZpSPeF"
      },
      "execution_count": 17,
      "outputs": []
    },
    {
      "cell_type": "code",
      "source": [
        "modelL2.summary\n"
      ],
      "metadata": {
        "colab": {
          "base_uri": "https://localhost:8080/"
        },
        "id": "2modEPPxWw4v",
        "outputId": "24568712-766b-486d-c727-bd9e02e88456"
      },
      "execution_count": 18,
      "outputs": [
        {
          "output_type": "execute_result",
          "data": {
            "text/plain": [
              "<bound method Model.summary of <keras.engine.sequential.Sequential object at 0x7f41d0021100>>"
            ]
          },
          "metadata": {},
          "execution_count": 18
        }
      ]
    },
    {
      "cell_type": "code",
      "source": [
        "Hist2=modelL2.fit(x_train, y_train, epochs=10,validation_data=(x_test,y_test))"
      ],
      "metadata": {
        "colab": {
          "base_uri": "https://localhost:8080/"
        },
        "id": "uwmbzoZRU-dI",
        "outputId": "e428c5e8-a12e-441c-ea0d-96f5236ebd56"
      },
      "execution_count": 19,
      "outputs": [
        {
          "output_type": "stream",
          "name": "stdout",
          "text": [
            "Epoch 1/10\n",
            "1875/1875 [==============================] - 10s 4ms/step - loss: 2.4306 - accuracy: 0.6692 - val_loss: 1.3331 - val_accuracy: 0.7086\n",
            "Epoch 2/10\n",
            "1875/1875 [==============================] - 7s 4ms/step - loss: 1.2392 - accuracy: 0.7302 - val_loss: 1.2209 - val_accuracy: 0.7188\n",
            "Epoch 3/10\n",
            "1875/1875 [==============================] - 7s 4ms/step - loss: 1.1549 - accuracy: 0.7438 - val_loss: 1.1677 - val_accuracy: 0.7462\n",
            "Epoch 4/10\n",
            "1875/1875 [==============================] - 7s 4ms/step - loss: 1.1044 - accuracy: 0.7528 - val_loss: 1.1427 - val_accuracy: 0.7350\n",
            "Epoch 5/10\n",
            "1875/1875 [==============================] - 7s 4ms/step - loss: 1.0685 - accuracy: 0.7574 - val_loss: 1.0517 - val_accuracy: 0.7624\n",
            "Epoch 6/10\n",
            "1875/1875 [==============================] - 8s 4ms/step - loss: 1.0485 - accuracy: 0.7584 - val_loss: 1.0546 - val_accuracy: 0.7533\n",
            "Epoch 7/10\n",
            "1875/1875 [==============================] - 8s 4ms/step - loss: 1.0273 - accuracy: 0.7603 - val_loss: 1.0282 - val_accuracy: 0.7481\n",
            "Epoch 8/10\n",
            "1875/1875 [==============================] - 7s 4ms/step - loss: 1.0121 - accuracy: 0.7627 - val_loss: 0.9999 - val_accuracy: 0.7664\n",
            "Epoch 9/10\n",
            "1875/1875 [==============================] - 7s 4ms/step - loss: 0.9925 - accuracy: 0.7674 - val_loss: 0.9812 - val_accuracy: 0.7706\n",
            "Epoch 10/10\n",
            "1875/1875 [==============================] - 7s 4ms/step - loss: 0.9788 - accuracy: 0.7733 - val_loss: 0.9856 - val_accuracy: 0.7709\n"
          ]
        }
      ]
    },
    {
      "cell_type": "code",
      "source": [
        "histL2val = modelL2.evaluate(x_test,y_test)\n",
        "print(histL2val[0])"
      ],
      "metadata": {
        "colab": {
          "base_uri": "https://localhost:8080/"
        },
        "id": "gLlb-Hqeg1X8",
        "outputId": "aefef4a6-ed79-4886-da3f-24a7c5a3b135"
      },
      "execution_count": 20,
      "outputs": [
        {
          "output_type": "stream",
          "name": "stdout",
          "text": [
            "313/313 [==============================] - 1s 4ms/step - loss: 0.9856 - accuracy: 0.7709\n",
            "0.9856371283531189\n"
          ]
        }
      ]
    },
    {
      "cell_type": "code",
      "source": [
        "modeldropout = keras.Sequential([\n",
        "           keras.layers.Flatten(input_shape=(28,28)),\n",
        "           keras.layers.Dropout(0.4),\n",
        "           keras.layers.Dense(512, activation = 'relu'),\n",
        "           keras.layers.Dropout(0.4),\n",
        "           keras.layers.Dense(256, activation = 'relu'),\n",
        "           keras.layers.Dropout(0.4),\n",
        "           keras.layers.Dense(128, activation = 'relu'),\n",
        "           keras.layers.Dropout(0.4),\n",
        "           keras.layers.Dense(64, activation = 'relu'),\n",
        "           keras.layers.Dropout(0.4),\n",
        "           keras.layers.Dense(10,activation= 'softmax')\n",
        "                            ])\n",
        "modeldropout.compile(optimizer='adam',\n",
        "              loss='sparse_categorical_crossentropy',\n",
        "              metrics=['accuracy'])"
      ],
      "metadata": {
        "id": "w0DnS3cKhCG_"
      },
      "execution_count": 21,
      "outputs": []
    },
    {
      "cell_type": "code",
      "source": [
        "modeldropout.summary"
      ],
      "metadata": {
        "colab": {
          "base_uri": "https://localhost:8080/"
        },
        "id": "R1h_XeXJhsDO",
        "outputId": "2da6bbf2-b5db-4707-c994-4ac0a37ff5a1"
      },
      "execution_count": 22,
      "outputs": [
        {
          "output_type": "execute_result",
          "data": {
            "text/plain": [
              "<bound method Model.summary of <keras.engine.sequential.Sequential object at 0x7f41506ebb80>>"
            ]
          },
          "metadata": {},
          "execution_count": 22
        }
      ]
    },
    {
      "cell_type": "code",
      "source": [
        "Hist3=modeldropout.fit(x_train, y_train, epochs=10,validation_data=(x_test,y_test))"
      ],
      "metadata": {
        "colab": {
          "base_uri": "https://localhost:8080/"
        },
        "id": "Rqvi2lp9ht3P",
        "outputId": "01df4eb3-ed75-48ba-a4a5-1ab9ecbdd32d"
      },
      "execution_count": 23,
      "outputs": [
        {
          "output_type": "stream",
          "name": "stdout",
          "text": [
            "Epoch 1/10\n",
            "1875/1875 [==============================] - 9s 4ms/step - loss: 0.8980 - accuracy: 0.6668 - val_loss: 0.5459 - val_accuracy: 0.7834\n",
            "Epoch 2/10\n",
            "1875/1875 [==============================] - 8s 4ms/step - loss: 0.6258 - accuracy: 0.7789 - val_loss: 0.4832 - val_accuracy: 0.8195\n",
            "Epoch 3/10\n",
            "1875/1875 [==============================] - 8s 4ms/step - loss: 0.5703 - accuracy: 0.8018 - val_loss: 0.4446 - val_accuracy: 0.8367\n",
            "Epoch 4/10\n",
            "1875/1875 [==============================] - 7s 4ms/step - loss: 0.5480 - accuracy: 0.8095 - val_loss: 0.4476 - val_accuracy: 0.8352\n",
            "Epoch 5/10\n",
            "1875/1875 [==============================] - 7s 4ms/step - loss: 0.5290 - accuracy: 0.8137 - val_loss: 0.4479 - val_accuracy: 0.8344\n",
            "Epoch 6/10\n",
            "1875/1875 [==============================] - 7s 4ms/step - loss: 0.5226 - accuracy: 0.8189 - val_loss: 0.4290 - val_accuracy: 0.8498\n",
            "Epoch 7/10\n",
            "1875/1875 [==============================] - 7s 4ms/step - loss: 0.5129 - accuracy: 0.8214 - val_loss: 0.4106 - val_accuracy: 0.8498\n",
            "Epoch 8/10\n",
            "1875/1875 [==============================] - 8s 4ms/step - loss: 0.4997 - accuracy: 0.8238 - val_loss: 0.4120 - val_accuracy: 0.8526\n",
            "Epoch 9/10\n",
            "1875/1875 [==============================] - 7s 4ms/step - loss: 0.4951 - accuracy: 0.8260 - val_loss: 0.4186 - val_accuracy: 0.8491\n",
            "Epoch 10/10\n",
            "1875/1875 [==============================] - 7s 4ms/step - loss: 0.4914 - accuracy: 0.8291 - val_loss: 0.4094 - val_accuracy: 0.8438\n"
          ]
        }
      ]
    },
    {
      "cell_type": "code",
      "source": [
        "histdropoutval = modeldropout.evaluate(x_test,y_test)\n",
        "print(histdropoutval[0])"
      ],
      "metadata": {
        "colab": {
          "base_uri": "https://localhost:8080/"
        },
        "id": "2aL5hO4kiL1g",
        "outputId": "86ed5a66-43c6-4189-db6e-42328b18bac3"
      },
      "execution_count": 24,
      "outputs": [
        {
          "output_type": "stream",
          "name": "stdout",
          "text": [
            "313/313 [==============================] - 1s 3ms/step - loss: 0.4094 - accuracy: 0.8438\n",
            "0.4094291627407074\n"
          ]
        }
      ]
    },
    {
      "cell_type": "code",
      "source": [
        "modeldropoutL1 = keras.Sequential([\n",
        "           keras.layers.Flatten(input_shape=(28,28)),\n",
        "           keras.layers.Dropout(0.4),\n",
        "           keras.layers.Dense(512, activation = 'relu', kernel_regularizer=regularizers.L1(l1=0.003)),\n",
        "           keras.layers.Dropout(0.4),\n",
        "           keras.layers.Dense(256, activation = 'relu', kernel_regularizer=regularizers.L1(l1=0.003)),\n",
        "           keras.layers.Dropout(0.4),\n",
        "           keras.layers.Dense(128, activation = 'relu', kernel_regularizer=regularizers.L1(l1=0.003)),\n",
        "           keras.layers.Dropout(0.4),\n",
        "           keras.layers.Dense(64, activation = 'relu', kernel_regularizer=regularizers.L1(l1=0.003)),\n",
        "           keras.layers.Dropout(0.4),\n",
        "           keras.layers.Dense(10,activation= 'softmax')\n",
        "                            ])\n",
        "modeldropoutL1.compile(optimizer='adam',\n",
        "              loss='sparse_categorical_crossentropy',\n",
        "              metrics=['accuracy'])"
      ],
      "metadata": {
        "id": "SgKxt4_Cic_8"
      },
      "execution_count": 25,
      "outputs": []
    },
    {
      "cell_type": "code",
      "source": [
        "modeldropoutL1.summary"
      ],
      "metadata": {
        "colab": {
          "base_uri": "https://localhost:8080/"
        },
        "id": "_V0lp_mXi0-o",
        "outputId": "185f7fc1-3ed3-4af2-caa0-87ddb15a47d9"
      },
      "execution_count": 26,
      "outputs": [
        {
          "output_type": "execute_result",
          "data": {
            "text/plain": [
              "<bound method Model.summary of <keras.engine.sequential.Sequential object at 0x7f4150d99c40>>"
            ]
          },
          "metadata": {},
          "execution_count": 26
        }
      ]
    },
    {
      "cell_type": "code",
      "source": [
        "Hist4=modeldropoutL1.fit(x_train, y_train, epochs=10,validation_data=(x_test,y_test))"
      ],
      "metadata": {
        "colab": {
          "base_uri": "https://localhost:8080/"
        },
        "id": "iUTZHOyYi2Cn",
        "outputId": "2f4b20da-7b75-46c0-abf1-5338ed463c2c"
      },
      "execution_count": 27,
      "outputs": [
        {
          "output_type": "stream",
          "name": "stdout",
          "text": [
            "Epoch 1/10\n",
            "1875/1875 [==============================] - 10s 4ms/step - loss: 4.0105 - accuracy: 0.3692 - val_loss: 1.8842 - val_accuracy: 0.5408\n",
            "Epoch 2/10\n",
            "1875/1875 [==============================] - 8s 4ms/step - loss: 2.0480 - accuracy: 0.4647 - val_loss: 1.8157 - val_accuracy: 0.5631\n",
            "Epoch 3/10\n",
            "1875/1875 [==============================] - 8s 5ms/step - loss: 1.9960 - accuracy: 0.4889 - val_loss: 1.7950 - val_accuracy: 0.5638\n",
            "Epoch 4/10\n",
            "1875/1875 [==============================] - 9s 5ms/step - loss: 1.9688 - accuracy: 0.4942 - val_loss: 1.7458 - val_accuracy: 0.5682\n",
            "Epoch 5/10\n",
            "1875/1875 [==============================] - 7s 4ms/step - loss: 1.9457 - accuracy: 0.5144 - val_loss: 1.7160 - val_accuracy: 0.6378\n",
            "Epoch 6/10\n",
            "1875/1875 [==============================] - 9s 5ms/step - loss: 1.9062 - accuracy: 0.5379 - val_loss: 1.6672 - val_accuracy: 0.6547\n",
            "Epoch 7/10\n",
            "1875/1875 [==============================] - 8s 4ms/step - loss: 1.8861 - accuracy: 0.5441 - val_loss: 1.6763 - val_accuracy: 0.6255\n",
            "Epoch 8/10\n",
            "1875/1875 [==============================] - 8s 4ms/step - loss: 1.8736 - accuracy: 0.5506 - val_loss: 1.6298 - val_accuracy: 0.6549\n",
            "Epoch 9/10\n",
            "1875/1875 [==============================] - 8s 4ms/step - loss: 1.8643 - accuracy: 0.5512 - val_loss: 1.6335 - val_accuracy: 0.6402\n",
            "Epoch 10/10\n",
            "1875/1875 [==============================] - 10s 6ms/step - loss: 1.8582 - accuracy: 0.5536 - val_loss: 1.6144 - val_accuracy: 0.6373\n"
          ]
        }
      ]
    },
    {
      "cell_type": "code",
      "source": [
        "histdropoutL1val = modeldropoutL1.evaluate(x_test,y_test)\n",
        "print(histdropoutL1val[0])"
      ],
      "metadata": {
        "colab": {
          "base_uri": "https://localhost:8080/"
        },
        "id": "OUWBpNeii4_O",
        "outputId": "7d9a09f5-ae7a-45a0-c79a-03e97e51a67b"
      },
      "execution_count": 28,
      "outputs": [
        {
          "output_type": "stream",
          "name": "stdout",
          "text": [
            "313/313 [==============================] - 1s 3ms/step - loss: 1.6144 - accuracy: 0.6373\n",
            "1.6143877506256104\n"
          ]
        }
      ]
    },
    {
      "cell_type": "code",
      "source": [
        "modeldropoutL2 = keras.Sequential([\n",
        "           keras.layers.Flatten(input_shape=(28,28)),\n",
        "           keras.layers.Dropout(0.4),\n",
        "           keras.layers.Dense(512, activation = 'relu', kernel_regularizer=regularizers.L2(l2=0.05)),\n",
        "           keras.layers.Dropout(0.4),\n",
        "           keras.layers.Dense(256, activation = 'relu', kernel_regularizer=regularizers.L2(l2=0.05)),\n",
        "           keras.layers.Dropout(0.4),\n",
        "           keras.layers.Dense(128, activation = 'relu', kernel_regularizer=regularizers.L2(l2=0.05)),\n",
        "           keras.layers.Dropout(0.4),\n",
        "           keras.layers.Dense(64, activation = 'relu', kernel_regularizer=regularizers.L2(l2=0.05)),\n",
        "           keras.layers.Dropout(0.4),\n",
        "           keras.layers.Dense(10,activation= 'softmax')\n",
        "                            ])\n",
        "modeldropoutL2.compile(optimizer='adam',\n",
        "              loss='sparse_categorical_crossentropy',\n",
        "              metrics=['accuracy'])"
      ],
      "metadata": {
        "id": "q6M_3zP3jHsb"
      },
      "execution_count": 29,
      "outputs": []
    },
    {
      "cell_type": "code",
      "source": [
        "modeldropoutL2.summary"
      ],
      "metadata": {
        "colab": {
          "base_uri": "https://localhost:8080/"
        },
        "id": "dRPMUgaGjSFV",
        "outputId": "45c93fdc-36f1-44ce-bfed-e19455409d60"
      },
      "execution_count": 30,
      "outputs": [
        {
          "output_type": "execute_result",
          "data": {
            "text/plain": [
              "<bound method Model.summary of <keras.engine.sequential.Sequential object at 0x7f4150b55af0>>"
            ]
          },
          "metadata": {},
          "execution_count": 30
        }
      ]
    },
    {
      "cell_type": "code",
      "source": [
        "Hist5=modeldropoutL2.fit(x_train, y_train, epochs=10,validation_data=(x_test,y_test))"
      ],
      "metadata": {
        "colab": {
          "base_uri": "https://localhost:8080/"
        },
        "id": "kIOVxqXojS1E",
        "outputId": "e33fcf96-fa00-4504-899f-2d6ed93e45dd"
      },
      "execution_count": 31,
      "outputs": [
        {
          "output_type": "stream",
          "name": "stdout",
          "text": [
            "Epoch 1/10\n",
            "1875/1875 [==============================] - 11s 5ms/step - loss: 2.9176 - accuracy: 0.4318 - val_loss: 1.5949 - val_accuracy: 0.5727\n",
            "Epoch 2/10\n",
            "1875/1875 [==============================] - 8s 4ms/step - loss: 1.6406 - accuracy: 0.5072 - val_loss: 1.5192 - val_accuracy: 0.6098\n",
            "Epoch 3/10\n",
            "1875/1875 [==============================] - 7s 4ms/step - loss: 1.5973 - accuracy: 0.5296 - val_loss: 1.5252 - val_accuracy: 0.5806\n",
            "Epoch 4/10\n",
            "1875/1875 [==============================] - 8s 4ms/step - loss: 1.5705 - accuracy: 0.5394 - val_loss: 1.4276 - val_accuracy: 0.6435\n",
            "Epoch 5/10\n",
            "1875/1875 [==============================] - 7s 4ms/step - loss: 1.5534 - accuracy: 0.5466 - val_loss: 1.3386 - val_accuracy: 0.6597\n",
            "Epoch 6/10\n",
            "1875/1875 [==============================] - 9s 5ms/step - loss: 1.5372 - accuracy: 0.5522 - val_loss: 1.3860 - val_accuracy: 0.6486\n",
            "Epoch 7/10\n",
            "1875/1875 [==============================] - 8s 4ms/step - loss: 1.5235 - accuracy: 0.5557 - val_loss: 1.3927 - val_accuracy: 0.6413\n",
            "Epoch 8/10\n",
            "1875/1875 [==============================] - 8s 4ms/step - loss: 1.5174 - accuracy: 0.5577 - val_loss: 1.3968 - val_accuracy: 0.6163\n",
            "Epoch 9/10\n",
            "1875/1875 [==============================] - 8s 4ms/step - loss: 1.5086 - accuracy: 0.5624 - val_loss: 1.3302 - val_accuracy: 0.6797\n",
            "Epoch 10/10\n",
            "1875/1875 [==============================] - 8s 4ms/step - loss: 1.4926 - accuracy: 0.5644 - val_loss: 1.3587 - val_accuracy: 0.6089\n"
          ]
        }
      ]
    },
    {
      "cell_type": "code",
      "source": [
        "histdropoutL2val = modeldropoutL2.evaluate(x_test,y_test)\n",
        "print(histdropoutL2val[0])"
      ],
      "metadata": {
        "colab": {
          "base_uri": "https://localhost:8080/"
        },
        "id": "3zJEhB2UjW9N",
        "outputId": "ea68bff3-3d58-4e12-a7d5-369fc93596a3"
      },
      "execution_count": 32,
      "outputs": [
        {
          "output_type": "stream",
          "name": "stdout",
          "text": [
            "313/313 [==============================] - 1s 3ms/step - loss: 1.3587 - accuracy: 0.6089\n",
            "1.3586894273757935\n"
          ]
        }
      ]
    }
  ]
}