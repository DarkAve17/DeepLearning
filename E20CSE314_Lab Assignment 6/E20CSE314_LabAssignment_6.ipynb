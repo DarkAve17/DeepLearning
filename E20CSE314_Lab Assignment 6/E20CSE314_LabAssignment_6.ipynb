{
  "cells": [
    {
      "attachments": {},
      "cell_type": "markdown",
      "metadata": {
        "id": "TF8vl5jgGDBR"
      },
      "source": [
        "##Lab 6 \n",
        "---\n",
        "###E20CSE314\n",
        "###EB15"
      ]
    },
    {
      "cell_type": "code",
      "execution_count": 181,
      "metadata": {
        "id": "qJm61aU6fdQl"
      },
      "outputs": [],
      "source": [
        "import pandas as pd\n",
        "import numpy as np\n",
        "import sklearn\n",
        "import collections\n",
        "from collections import Counter\n",
        "from sklearn.datasets import make_classification\n",
        "\n",
        "from imblearn.over_sampling import SMOTE,SMOTENC,SMOTEN,BorderlineSMOTE,RandomOverSampler,ADASYN,KMeansSMOTE,SVMSMOTE\n",
        "from imblearn.under_sampling import NearMiss,TomekLinks,RandomUnderSampler,NeighbourhoodCleaningRule,OneSidedSelection\n",
        "\n",
        "from collections import Counter\n",
        "from sklearn.datasets import make_classification\n",
        "from keras.utils import np_utils\n",
        "from sklearn.model_selection import train_test_split\n",
        "\n",
        "import warnings\n",
        "warnings.filterwarnings('ignore')\n",
        "import numpy as np\n",
        "import matplotlib.pyplot as plt\n",
        "import keras\n",
        "from keras.datasets import mnist\n",
        "from keras.models import Sequential,model_from_json\n",
        "from keras.layers import Dense\n",
        "from tensorflow.keras.optimizers import RMSprop\n",
        "from keras.utils import np_utils\n",
        "import pylab as plt\n",
        "import tensorflow as tf"
      ]
    },
    {
      "cell_type": "code",
      "execution_count": 126,
      "metadata": {
        "colab": {
          "base_uri": "https://localhost:8080/"
        },
        "id": "SHonba8dkRrI",
        "outputId": "36a538a9-145a-494e-9cab-2113b76d311c"
      },
      "outputs": [
        {
          "name": "stdout",
          "output_type": "stream",
          "text": [
            "--2023-03-29 15:20:46--  http://archive.ics.uci.edu/ml/machine-learning-databases/breast-cancer/breast-cancer.data\n",
            "Resolving archive.ics.uci.edu (archive.ics.uci.edu)... 128.195.10.252\n",
            "Connecting to archive.ics.uci.edu (archive.ics.uci.edu)|128.195.10.252|:80... connected.\n",
            "HTTP request sent, awaiting response... 200 OK\n",
            "Length: 18654 (18K) [application/x-httpd-php]\n",
            "Saving to: ‘breast-cancer.data.3’\n",
            "\n",
            "breast-cancer.data. 100%[===================>]  18.22K   118KB/s    in 0.2s    \n",
            "\n",
            "2023-03-29 15:20:47 (118 KB/s) - ‘breast-cancer.data.3’ saved [18654/18654]\n",
            "\n"
          ]
        }
      ],
      "source": [
        "!wget http://archive.ics.uci.edu/ml/machine-learning-databases/breast-cancer/breast-cancer.data"
      ]
    },
    {
      "cell_type": "code",
      "execution_count": 127,
      "metadata": {
        "id": "dETr8XTfkssF"
      },
      "outputs": [],
      "source": [
        "DF=pd.read_csv('breast-cancer.data',names=['Class','age','menopause','tumor-size','inv-nodes','node-caps','deg-malig','breast','breast-quad','irradiat'],na_values='?')"
      ]
    },
    {
      "cell_type": "code",
      "execution_count": 128,
      "metadata": {
        "colab": {
          "base_uri": "https://localhost:8080/",
          "height": 206
        },
        "id": "i4Dm36I2kxpC",
        "outputId": "bb16688c-be36-4bc7-c288-54d0b6c86a21"
      },
      "outputs": [
        {
          "data": {
            "text/html": [
              "\n",
              "  <div id=\"df-64ca4f14-0905-47d5-84ab-82e5d9798da9\">\n",
              "    <div class=\"colab-df-container\">\n",
              "      <div>\n",
              "<style scoped>\n",
              "    .dataframe tbody tr th:only-of-type {\n",
              "        vertical-align: middle;\n",
              "    }\n",
              "\n",
              "    .dataframe tbody tr th {\n",
              "        vertical-align: top;\n",
              "    }\n",
              "\n",
              "    .dataframe thead th {\n",
              "        text-align: right;\n",
              "    }\n",
              "</style>\n",
              "<table border=\"1\" class=\"dataframe\">\n",
              "  <thead>\n",
              "    <tr style=\"text-align: right;\">\n",
              "      <th></th>\n",
              "      <th>Class</th>\n",
              "      <th>age</th>\n",
              "      <th>menopause</th>\n",
              "      <th>tumor-size</th>\n",
              "      <th>inv-nodes</th>\n",
              "      <th>node-caps</th>\n",
              "      <th>deg-malig</th>\n",
              "      <th>breast</th>\n",
              "      <th>breast-quad</th>\n",
              "      <th>irradiat</th>\n",
              "    </tr>\n",
              "  </thead>\n",
              "  <tbody>\n",
              "    <tr>\n",
              "      <th>0</th>\n",
              "      <td>no-recurrence-events</td>\n",
              "      <td>30-39</td>\n",
              "      <td>premeno</td>\n",
              "      <td>30-34</td>\n",
              "      <td>0-2</td>\n",
              "      <td>no</td>\n",
              "      <td>3</td>\n",
              "      <td>left</td>\n",
              "      <td>left_low</td>\n",
              "      <td>no</td>\n",
              "    </tr>\n",
              "    <tr>\n",
              "      <th>1</th>\n",
              "      <td>no-recurrence-events</td>\n",
              "      <td>40-49</td>\n",
              "      <td>premeno</td>\n",
              "      <td>20-24</td>\n",
              "      <td>0-2</td>\n",
              "      <td>no</td>\n",
              "      <td>2</td>\n",
              "      <td>right</td>\n",
              "      <td>right_up</td>\n",
              "      <td>no</td>\n",
              "    </tr>\n",
              "    <tr>\n",
              "      <th>2</th>\n",
              "      <td>no-recurrence-events</td>\n",
              "      <td>40-49</td>\n",
              "      <td>premeno</td>\n",
              "      <td>20-24</td>\n",
              "      <td>0-2</td>\n",
              "      <td>no</td>\n",
              "      <td>2</td>\n",
              "      <td>left</td>\n",
              "      <td>left_low</td>\n",
              "      <td>no</td>\n",
              "    </tr>\n",
              "    <tr>\n",
              "      <th>3</th>\n",
              "      <td>no-recurrence-events</td>\n",
              "      <td>60-69</td>\n",
              "      <td>ge40</td>\n",
              "      <td>15-19</td>\n",
              "      <td>0-2</td>\n",
              "      <td>no</td>\n",
              "      <td>2</td>\n",
              "      <td>right</td>\n",
              "      <td>left_up</td>\n",
              "      <td>no</td>\n",
              "    </tr>\n",
              "    <tr>\n",
              "      <th>4</th>\n",
              "      <td>no-recurrence-events</td>\n",
              "      <td>40-49</td>\n",
              "      <td>premeno</td>\n",
              "      <td>0-4</td>\n",
              "      <td>0-2</td>\n",
              "      <td>no</td>\n",
              "      <td>2</td>\n",
              "      <td>right</td>\n",
              "      <td>right_low</td>\n",
              "      <td>no</td>\n",
              "    </tr>\n",
              "  </tbody>\n",
              "</table>\n",
              "</div>\n",
              "      <button class=\"colab-df-convert\" onclick=\"convertToInteractive('df-64ca4f14-0905-47d5-84ab-82e5d9798da9')\"\n",
              "              title=\"Convert this dataframe to an interactive table.\"\n",
              "              style=\"display:none;\">\n",
              "        \n",
              "  <svg xmlns=\"http://www.w3.org/2000/svg\" height=\"24px\"viewBox=\"0 0 24 24\"\n",
              "       width=\"24px\">\n",
              "    <path d=\"M0 0h24v24H0V0z\" fill=\"none\"/>\n",
              "    <path d=\"M18.56 5.44l.94 2.06.94-2.06 2.06-.94-2.06-.94-.94-2.06-.94 2.06-2.06.94zm-11 1L8.5 8.5l.94-2.06 2.06-.94-2.06-.94L8.5 2.5l-.94 2.06-2.06.94zm10 10l.94 2.06.94-2.06 2.06-.94-2.06-.94-.94-2.06-.94 2.06-2.06.94z\"/><path d=\"M17.41 7.96l-1.37-1.37c-.4-.4-.92-.59-1.43-.59-.52 0-1.04.2-1.43.59L10.3 9.45l-7.72 7.72c-.78.78-.78 2.05 0 2.83L4 21.41c.39.39.9.59 1.41.59.51 0 1.02-.2 1.41-.59l7.78-7.78 2.81-2.81c.8-.78.8-2.07 0-2.86zM5.41 20L4 18.59l7.72-7.72 1.47 1.35L5.41 20z\"/>\n",
              "  </svg>\n",
              "      </button>\n",
              "      \n",
              "  <style>\n",
              "    .colab-df-container {\n",
              "      display:flex;\n",
              "      flex-wrap:wrap;\n",
              "      gap: 12px;\n",
              "    }\n",
              "\n",
              "    .colab-df-convert {\n",
              "      background-color: #E8F0FE;\n",
              "      border: none;\n",
              "      border-radius: 50%;\n",
              "      cursor: pointer;\n",
              "      display: none;\n",
              "      fill: #1967D2;\n",
              "      height: 32px;\n",
              "      padding: 0 0 0 0;\n",
              "      width: 32px;\n",
              "    }\n",
              "\n",
              "    .colab-df-convert:hover {\n",
              "      background-color: #E2EBFA;\n",
              "      box-shadow: 0px 1px 2px rgba(60, 64, 67, 0.3), 0px 1px 3px 1px rgba(60, 64, 67, 0.15);\n",
              "      fill: #174EA6;\n",
              "    }\n",
              "\n",
              "    [theme=dark] .colab-df-convert {\n",
              "      background-color: #3B4455;\n",
              "      fill: #D2E3FC;\n",
              "    }\n",
              "\n",
              "    [theme=dark] .colab-df-convert:hover {\n",
              "      background-color: #434B5C;\n",
              "      box-shadow: 0px 1px 3px 1px rgba(0, 0, 0, 0.15);\n",
              "      filter: drop-shadow(0px 1px 2px rgba(0, 0, 0, 0.3));\n",
              "      fill: #FFFFFF;\n",
              "    }\n",
              "  </style>\n",
              "\n",
              "      <script>\n",
              "        const buttonEl =\n",
              "          document.querySelector('#df-64ca4f14-0905-47d5-84ab-82e5d9798da9 button.colab-df-convert');\n",
              "        buttonEl.style.display =\n",
              "          google.colab.kernel.accessAllowed ? 'block' : 'none';\n",
              "\n",
              "        async function convertToInteractive(key) {\n",
              "          const element = document.querySelector('#df-64ca4f14-0905-47d5-84ab-82e5d9798da9');\n",
              "          const dataTable =\n",
              "            await google.colab.kernel.invokeFunction('convertToInteractive',\n",
              "                                                     [key], {});\n",
              "          if (!dataTable) return;\n",
              "\n",
              "          const docLinkHtml = 'Like what you see? Visit the ' +\n",
              "            '<a target=\"_blank\" href=https://colab.research.google.com/notebooks/data_table.ipynb>data table notebook</a>'\n",
              "            + ' to learn more about interactive tables.';\n",
              "          element.innerHTML = '';\n",
              "          dataTable['output_type'] = 'display_data';\n",
              "          await google.colab.output.renderOutput(dataTable, element);\n",
              "          const docLink = document.createElement('div');\n",
              "          docLink.innerHTML = docLinkHtml;\n",
              "          element.appendChild(docLink);\n",
              "        }\n",
              "      </script>\n",
              "    </div>\n",
              "  </div>\n",
              "  "
            ],
            "text/plain": [
              "                  Class    age menopause tumor-size inv-nodes node-caps  \\\n",
              "0  no-recurrence-events  30-39   premeno      30-34       0-2        no   \n",
              "1  no-recurrence-events  40-49   premeno      20-24       0-2        no   \n",
              "2  no-recurrence-events  40-49   premeno      20-24       0-2        no   \n",
              "3  no-recurrence-events  60-69      ge40      15-19       0-2        no   \n",
              "4  no-recurrence-events  40-49   premeno        0-4       0-2        no   \n",
              "\n",
              "   deg-malig breast breast-quad irradiat  \n",
              "0          3   left    left_low       no  \n",
              "1          2  right    right_up       no  \n",
              "2          2   left    left_low       no  \n",
              "3          2  right     left_up       no  \n",
              "4          2  right   right_low       no  "
            ]
          },
          "execution_count": 128,
          "metadata": {},
          "output_type": "execute_result"
        }
      ],
      "source": [
        "DF.head()"
      ]
    },
    {
      "cell_type": "code",
      "execution_count": 129,
      "metadata": {
        "colab": {
          "base_uri": "https://localhost:8080/"
        },
        "id": "IzmY8T7qk10l",
        "outputId": "1a87e7ee-6a26-41c7-abd7-63c16b28de70"
      },
      "outputs": [
        {
          "data": {
            "text/plain": [
              "(286, 10)"
            ]
          },
          "execution_count": 129,
          "metadata": {},
          "output_type": "execute_result"
        }
      ],
      "source": [
        "DF.shape\n"
      ]
    },
    {
      "cell_type": "code",
      "execution_count": 130,
      "metadata": {
        "colab": {
          "base_uri": "https://localhost:8080/"
        },
        "id": "ACov7KdplRes",
        "outputId": "35a32bfe-e9d2-4012-e9ab-bd3eb9d6807a"
      },
      "outputs": [
        {
          "data": {
            "text/plain": [
              "Class          0\n",
              "age            0\n",
              "menopause      0\n",
              "tumor-size     0\n",
              "inv-nodes      0\n",
              "node-caps      8\n",
              "deg-malig      0\n",
              "breast         0\n",
              "breast-quad    1\n",
              "irradiat       0\n",
              "dtype: int64"
            ]
          },
          "execution_count": 130,
          "metadata": {},
          "output_type": "execute_result"
        }
      ],
      "source": [
        "DF.isnull().sum()\n"
      ]
    },
    {
      "cell_type": "code",
      "execution_count": 131,
      "metadata": {
        "colab": {
          "base_uri": "https://localhost:8080/"
        },
        "id": "aJTmkt_xlU1Z",
        "outputId": "b0c9f519-b7bb-446b-bf9c-1c211a339232"
      },
      "outputs": [
        {
          "data": {
            "text/plain": [
              "201"
            ]
          },
          "execution_count": 131,
          "metadata": {},
          "output_type": "execute_result"
        }
      ],
      "source": [
        "sum(DF.Class=='no-recurrence-events')"
      ]
    },
    {
      "cell_type": "code",
      "execution_count": 132,
      "metadata": {
        "colab": {
          "base_uri": "https://localhost:8080/"
        },
        "id": "1fpKs7H4lYgy",
        "outputId": "4cc47d8d-d98d-4e7e-d38c-1049a64d2787"
      },
      "outputs": [
        {
          "data": {
            "text/plain": [
              "85"
            ]
          },
          "execution_count": 132,
          "metadata": {},
          "output_type": "execute_result"
        }
      ],
      "source": [
        "sum(DF.Class=='recurrence-events')"
      ]
    },
    {
      "cell_type": "code",
      "execution_count": 133,
      "metadata": {
        "colab": {
          "base_uri": "https://localhost:8080/"
        },
        "id": "oLLvXR-TlaGo",
        "outputId": "4d397181-6410-4476-ee58-ea3a61a0c19c"
      },
      "outputs": [
        {
          "data": {
            "text/plain": [
              "Class          0\n",
              "age            0\n",
              "menopause      0\n",
              "tumor-size     0\n",
              "inv-nodes      0\n",
              "node-caps      8\n",
              "deg-malig      0\n",
              "breast         0\n",
              "breast-quad    1\n",
              "irradiat       0\n",
              "dtype: int64"
            ]
          },
          "execution_count": 133,
          "metadata": {},
          "output_type": "execute_result"
        }
      ],
      "source": [
        "DF.isnull().sum()"
      ]
    },
    {
      "cell_type": "code",
      "execution_count": 134,
      "metadata": {
        "id": "kK9PnBfalimt"
      },
      "outputs": [],
      "source": [
        "for column in DF.columns:\n",
        "    DF[column].fillna(DF[column].mode()[0], inplace=True)"
      ]
    },
    {
      "cell_type": "code",
      "execution_count": 135,
      "metadata": {
        "colab": {
          "base_uri": "https://localhost:8080/"
        },
        "id": "3EcwJ_9_lr_S",
        "outputId": "7c1062c2-4e14-4224-ad07-10fedad41722"
      },
      "outputs": [
        {
          "data": {
            "text/plain": [
              "Class          0\n",
              "age            0\n",
              "menopause      0\n",
              "tumor-size     0\n",
              "inv-nodes      0\n",
              "node-caps      0\n",
              "deg-malig      0\n",
              "breast         0\n",
              "breast-quad    0\n",
              "irradiat       0\n",
              "dtype: int64"
            ]
          },
          "execution_count": 135,
          "metadata": {},
          "output_type": "execute_result"
        }
      ],
      "source": [
        "DF.isnull().sum()"
      ]
    },
    {
      "cell_type": "code",
      "execution_count": 136,
      "metadata": {
        "colab": {
          "base_uri": "https://localhost:8080/",
          "height": 522
        },
        "id": "h-xEODNQluGA",
        "outputId": "b62c9a15-67f1-4ad5-de38-c41208dd9565"
      },
      "outputs": [
        {
          "data": {
            "text/html": [
              "\n",
              "  <div id=\"df-f22b3d4f-4f6f-49e6-9579-1ce09f1a4dba\">\n",
              "    <div class=\"colab-df-container\">\n",
              "      <div>\n",
              "<style scoped>\n",
              "    .dataframe tbody tr th:only-of-type {\n",
              "        vertical-align: middle;\n",
              "    }\n",
              "\n",
              "    .dataframe tbody tr th {\n",
              "        vertical-align: top;\n",
              "    }\n",
              "\n",
              "    .dataframe thead th {\n",
              "        text-align: right;\n",
              "    }\n",
              "</style>\n",
              "<table border=\"1\" class=\"dataframe\">\n",
              "  <thead>\n",
              "    <tr style=\"text-align: right;\">\n",
              "      <th></th>\n",
              "      <th>deg-malig</th>\n",
              "      <th>Class_no-recurrence-events</th>\n",
              "      <th>Class_recurrence-events</th>\n",
              "      <th>age_20-29</th>\n",
              "      <th>age_30-39</th>\n",
              "      <th>age_40-49</th>\n",
              "      <th>age_50-59</th>\n",
              "      <th>age_60-69</th>\n",
              "      <th>age_70-79</th>\n",
              "      <th>menopause_ge40</th>\n",
              "      <th>...</th>\n",
              "      <th>node-caps_yes</th>\n",
              "      <th>breast_left</th>\n",
              "      <th>breast_right</th>\n",
              "      <th>breast-quad_central</th>\n",
              "      <th>breast-quad_left_low</th>\n",
              "      <th>breast-quad_left_up</th>\n",
              "      <th>breast-quad_right_low</th>\n",
              "      <th>breast-quad_right_up</th>\n",
              "      <th>irradiat_no</th>\n",
              "      <th>irradiat_yes</th>\n",
              "    </tr>\n",
              "  </thead>\n",
              "  <tbody>\n",
              "    <tr>\n",
              "      <th>0</th>\n",
              "      <td>3</td>\n",
              "      <td>1</td>\n",
              "      <td>0</td>\n",
              "      <td>0</td>\n",
              "      <td>1</td>\n",
              "      <td>0</td>\n",
              "      <td>0</td>\n",
              "      <td>0</td>\n",
              "      <td>0</td>\n",
              "      <td>0</td>\n",
              "      <td>...</td>\n",
              "      <td>0</td>\n",
              "      <td>1</td>\n",
              "      <td>0</td>\n",
              "      <td>0</td>\n",
              "      <td>1</td>\n",
              "      <td>0</td>\n",
              "      <td>0</td>\n",
              "      <td>0</td>\n",
              "      <td>1</td>\n",
              "      <td>0</td>\n",
              "    </tr>\n",
              "    <tr>\n",
              "      <th>1</th>\n",
              "      <td>2</td>\n",
              "      <td>1</td>\n",
              "      <td>0</td>\n",
              "      <td>0</td>\n",
              "      <td>0</td>\n",
              "      <td>1</td>\n",
              "      <td>0</td>\n",
              "      <td>0</td>\n",
              "      <td>0</td>\n",
              "      <td>0</td>\n",
              "      <td>...</td>\n",
              "      <td>0</td>\n",
              "      <td>0</td>\n",
              "      <td>1</td>\n",
              "      <td>0</td>\n",
              "      <td>0</td>\n",
              "      <td>0</td>\n",
              "      <td>0</td>\n",
              "      <td>1</td>\n",
              "      <td>1</td>\n",
              "      <td>0</td>\n",
              "    </tr>\n",
              "    <tr>\n",
              "      <th>2</th>\n",
              "      <td>2</td>\n",
              "      <td>1</td>\n",
              "      <td>0</td>\n",
              "      <td>0</td>\n",
              "      <td>0</td>\n",
              "      <td>1</td>\n",
              "      <td>0</td>\n",
              "      <td>0</td>\n",
              "      <td>0</td>\n",
              "      <td>0</td>\n",
              "      <td>...</td>\n",
              "      <td>0</td>\n",
              "      <td>1</td>\n",
              "      <td>0</td>\n",
              "      <td>0</td>\n",
              "      <td>1</td>\n",
              "      <td>0</td>\n",
              "      <td>0</td>\n",
              "      <td>0</td>\n",
              "      <td>1</td>\n",
              "      <td>0</td>\n",
              "    </tr>\n",
              "    <tr>\n",
              "      <th>3</th>\n",
              "      <td>2</td>\n",
              "      <td>1</td>\n",
              "      <td>0</td>\n",
              "      <td>0</td>\n",
              "      <td>0</td>\n",
              "      <td>0</td>\n",
              "      <td>0</td>\n",
              "      <td>1</td>\n",
              "      <td>0</td>\n",
              "      <td>1</td>\n",
              "      <td>...</td>\n",
              "      <td>0</td>\n",
              "      <td>0</td>\n",
              "      <td>1</td>\n",
              "      <td>0</td>\n",
              "      <td>0</td>\n",
              "      <td>1</td>\n",
              "      <td>0</td>\n",
              "      <td>0</td>\n",
              "      <td>1</td>\n",
              "      <td>0</td>\n",
              "    </tr>\n",
              "    <tr>\n",
              "      <th>4</th>\n",
              "      <td>2</td>\n",
              "      <td>1</td>\n",
              "      <td>0</td>\n",
              "      <td>0</td>\n",
              "      <td>0</td>\n",
              "      <td>1</td>\n",
              "      <td>0</td>\n",
              "      <td>0</td>\n",
              "      <td>0</td>\n",
              "      <td>0</td>\n",
              "      <td>...</td>\n",
              "      <td>0</td>\n",
              "      <td>0</td>\n",
              "      <td>1</td>\n",
              "      <td>0</td>\n",
              "      <td>0</td>\n",
              "      <td>0</td>\n",
              "      <td>1</td>\n",
              "      <td>0</td>\n",
              "      <td>1</td>\n",
              "      <td>0</td>\n",
              "    </tr>\n",
              "    <tr>\n",
              "      <th>...</th>\n",
              "      <td>...</td>\n",
              "      <td>...</td>\n",
              "      <td>...</td>\n",
              "      <td>...</td>\n",
              "      <td>...</td>\n",
              "      <td>...</td>\n",
              "      <td>...</td>\n",
              "      <td>...</td>\n",
              "      <td>...</td>\n",
              "      <td>...</td>\n",
              "      <td>...</td>\n",
              "      <td>...</td>\n",
              "      <td>...</td>\n",
              "      <td>...</td>\n",
              "      <td>...</td>\n",
              "      <td>...</td>\n",
              "      <td>...</td>\n",
              "      <td>...</td>\n",
              "      <td>...</td>\n",
              "      <td>...</td>\n",
              "      <td>...</td>\n",
              "    </tr>\n",
              "    <tr>\n",
              "      <th>281</th>\n",
              "      <td>2</td>\n",
              "      <td>0</td>\n",
              "      <td>1</td>\n",
              "      <td>0</td>\n",
              "      <td>1</td>\n",
              "      <td>0</td>\n",
              "      <td>0</td>\n",
              "      <td>0</td>\n",
              "      <td>0</td>\n",
              "      <td>0</td>\n",
              "      <td>...</td>\n",
              "      <td>0</td>\n",
              "      <td>1</td>\n",
              "      <td>0</td>\n",
              "      <td>0</td>\n",
              "      <td>0</td>\n",
              "      <td>1</td>\n",
              "      <td>0</td>\n",
              "      <td>0</td>\n",
              "      <td>1</td>\n",
              "      <td>0</td>\n",
              "    </tr>\n",
              "    <tr>\n",
              "      <th>282</th>\n",
              "      <td>3</td>\n",
              "      <td>0</td>\n",
              "      <td>1</td>\n",
              "      <td>0</td>\n",
              "      <td>1</td>\n",
              "      <td>0</td>\n",
              "      <td>0</td>\n",
              "      <td>0</td>\n",
              "      <td>0</td>\n",
              "      <td>0</td>\n",
              "      <td>...</td>\n",
              "      <td>0</td>\n",
              "      <td>1</td>\n",
              "      <td>0</td>\n",
              "      <td>0</td>\n",
              "      <td>0</td>\n",
              "      <td>1</td>\n",
              "      <td>0</td>\n",
              "      <td>0</td>\n",
              "      <td>0</td>\n",
              "      <td>1</td>\n",
              "    </tr>\n",
              "    <tr>\n",
              "      <th>283</th>\n",
              "      <td>1</td>\n",
              "      <td>0</td>\n",
              "      <td>1</td>\n",
              "      <td>0</td>\n",
              "      <td>0</td>\n",
              "      <td>0</td>\n",
              "      <td>0</td>\n",
              "      <td>1</td>\n",
              "      <td>0</td>\n",
              "      <td>1</td>\n",
              "      <td>...</td>\n",
              "      <td>0</td>\n",
              "      <td>0</td>\n",
              "      <td>1</td>\n",
              "      <td>0</td>\n",
              "      <td>0</td>\n",
              "      <td>1</td>\n",
              "      <td>0</td>\n",
              "      <td>0</td>\n",
              "      <td>1</td>\n",
              "      <td>0</td>\n",
              "    </tr>\n",
              "    <tr>\n",
              "      <th>284</th>\n",
              "      <td>3</td>\n",
              "      <td>0</td>\n",
              "      <td>1</td>\n",
              "      <td>0</td>\n",
              "      <td>0</td>\n",
              "      <td>1</td>\n",
              "      <td>0</td>\n",
              "      <td>0</td>\n",
              "      <td>0</td>\n",
              "      <td>1</td>\n",
              "      <td>...</td>\n",
              "      <td>0</td>\n",
              "      <td>1</td>\n",
              "      <td>0</td>\n",
              "      <td>0</td>\n",
              "      <td>1</td>\n",
              "      <td>0</td>\n",
              "      <td>0</td>\n",
              "      <td>0</td>\n",
              "      <td>1</td>\n",
              "      <td>0</td>\n",
              "    </tr>\n",
              "    <tr>\n",
              "      <th>285</th>\n",
              "      <td>3</td>\n",
              "      <td>0</td>\n",
              "      <td>1</td>\n",
              "      <td>0</td>\n",
              "      <td>0</td>\n",
              "      <td>0</td>\n",
              "      <td>1</td>\n",
              "      <td>0</td>\n",
              "      <td>0</td>\n",
              "      <td>1</td>\n",
              "      <td>...</td>\n",
              "      <td>0</td>\n",
              "      <td>1</td>\n",
              "      <td>0</td>\n",
              "      <td>0</td>\n",
              "      <td>1</td>\n",
              "      <td>0</td>\n",
              "      <td>0</td>\n",
              "      <td>0</td>\n",
              "      <td>1</td>\n",
              "      <td>0</td>\n",
              "    </tr>\n",
              "  </tbody>\n",
              "</table>\n",
              "<p>286 rows × 41 columns</p>\n",
              "</div>\n",
              "      <button class=\"colab-df-convert\" onclick=\"convertToInteractive('df-f22b3d4f-4f6f-49e6-9579-1ce09f1a4dba')\"\n",
              "              title=\"Convert this dataframe to an interactive table.\"\n",
              "              style=\"display:none;\">\n",
              "        \n",
              "  <svg xmlns=\"http://www.w3.org/2000/svg\" height=\"24px\"viewBox=\"0 0 24 24\"\n",
              "       width=\"24px\">\n",
              "    <path d=\"M0 0h24v24H0V0z\" fill=\"none\"/>\n",
              "    <path d=\"M18.56 5.44l.94 2.06.94-2.06 2.06-.94-2.06-.94-.94-2.06-.94 2.06-2.06.94zm-11 1L8.5 8.5l.94-2.06 2.06-.94-2.06-.94L8.5 2.5l-.94 2.06-2.06.94zm10 10l.94 2.06.94-2.06 2.06-.94-2.06-.94-.94-2.06-.94 2.06-2.06.94z\"/><path d=\"M17.41 7.96l-1.37-1.37c-.4-.4-.92-.59-1.43-.59-.52 0-1.04.2-1.43.59L10.3 9.45l-7.72 7.72c-.78.78-.78 2.05 0 2.83L4 21.41c.39.39.9.59 1.41.59.51 0 1.02-.2 1.41-.59l7.78-7.78 2.81-2.81c.8-.78.8-2.07 0-2.86zM5.41 20L4 18.59l7.72-7.72 1.47 1.35L5.41 20z\"/>\n",
              "  </svg>\n",
              "      </button>\n",
              "      \n",
              "  <style>\n",
              "    .colab-df-container {\n",
              "      display:flex;\n",
              "      flex-wrap:wrap;\n",
              "      gap: 12px;\n",
              "    }\n",
              "\n",
              "    .colab-df-convert {\n",
              "      background-color: #E8F0FE;\n",
              "      border: none;\n",
              "      border-radius: 50%;\n",
              "      cursor: pointer;\n",
              "      display: none;\n",
              "      fill: #1967D2;\n",
              "      height: 32px;\n",
              "      padding: 0 0 0 0;\n",
              "      width: 32px;\n",
              "    }\n",
              "\n",
              "    .colab-df-convert:hover {\n",
              "      background-color: #E2EBFA;\n",
              "      box-shadow: 0px 1px 2px rgba(60, 64, 67, 0.3), 0px 1px 3px 1px rgba(60, 64, 67, 0.15);\n",
              "      fill: #174EA6;\n",
              "    }\n",
              "\n",
              "    [theme=dark] .colab-df-convert {\n",
              "      background-color: #3B4455;\n",
              "      fill: #D2E3FC;\n",
              "    }\n",
              "\n",
              "    [theme=dark] .colab-df-convert:hover {\n",
              "      background-color: #434B5C;\n",
              "      box-shadow: 0px 1px 3px 1px rgba(0, 0, 0, 0.15);\n",
              "      filter: drop-shadow(0px 1px 2px rgba(0, 0, 0, 0.3));\n",
              "      fill: #FFFFFF;\n",
              "    }\n",
              "  </style>\n",
              "\n",
              "      <script>\n",
              "        const buttonEl =\n",
              "          document.querySelector('#df-f22b3d4f-4f6f-49e6-9579-1ce09f1a4dba button.colab-df-convert');\n",
              "        buttonEl.style.display =\n",
              "          google.colab.kernel.accessAllowed ? 'block' : 'none';\n",
              "\n",
              "        async function convertToInteractive(key) {\n",
              "          const element = document.querySelector('#df-f22b3d4f-4f6f-49e6-9579-1ce09f1a4dba');\n",
              "          const dataTable =\n",
              "            await google.colab.kernel.invokeFunction('convertToInteractive',\n",
              "                                                     [key], {});\n",
              "          if (!dataTable) return;\n",
              "\n",
              "          const docLinkHtml = 'Like what you see? Visit the ' +\n",
              "            '<a target=\"_blank\" href=https://colab.research.google.com/notebooks/data_table.ipynb>data table notebook</a>'\n",
              "            + ' to learn more about interactive tables.';\n",
              "          element.innerHTML = '';\n",
              "          dataTable['output_type'] = 'display_data';\n",
              "          await google.colab.output.renderOutput(dataTable, element);\n",
              "          const docLink = document.createElement('div');\n",
              "          docLink.innerHTML = docLinkHtml;\n",
              "          element.appendChild(docLink);\n",
              "        }\n",
              "      </script>\n",
              "    </div>\n",
              "  </div>\n",
              "  "
            ],
            "text/plain": [
              "     deg-malig  Class_no-recurrence-events  Class_recurrence-events  \\\n",
              "0            3                           1                        0   \n",
              "1            2                           1                        0   \n",
              "2            2                           1                        0   \n",
              "3            2                           1                        0   \n",
              "4            2                           1                        0   \n",
              "..         ...                         ...                      ...   \n",
              "281          2                           0                        1   \n",
              "282          3                           0                        1   \n",
              "283          1                           0                        1   \n",
              "284          3                           0                        1   \n",
              "285          3                           0                        1   \n",
              "\n",
              "     age_20-29  age_30-39  age_40-49  age_50-59  age_60-69  age_70-79  \\\n",
              "0            0          1          0          0          0          0   \n",
              "1            0          0          1          0          0          0   \n",
              "2            0          0          1          0          0          0   \n",
              "3            0          0          0          0          1          0   \n",
              "4            0          0          1          0          0          0   \n",
              "..         ...        ...        ...        ...        ...        ...   \n",
              "281          0          1          0          0          0          0   \n",
              "282          0          1          0          0          0          0   \n",
              "283          0          0          0          0          1          0   \n",
              "284          0          0          1          0          0          0   \n",
              "285          0          0          0          1          0          0   \n",
              "\n",
              "     menopause_ge40  ...  node-caps_yes  breast_left  breast_right  \\\n",
              "0                 0  ...              0            1             0   \n",
              "1                 0  ...              0            0             1   \n",
              "2                 0  ...              0            1             0   \n",
              "3                 1  ...              0            0             1   \n",
              "4                 0  ...              0            0             1   \n",
              "..              ...  ...            ...          ...           ...   \n",
              "281               0  ...              0            1             0   \n",
              "282               0  ...              0            1             0   \n",
              "283               1  ...              0            0             1   \n",
              "284               1  ...              0            1             0   \n",
              "285               1  ...              0            1             0   \n",
              "\n",
              "     breast-quad_central  breast-quad_left_low  breast-quad_left_up  \\\n",
              "0                      0                     1                    0   \n",
              "1                      0                     0                    0   \n",
              "2                      0                     1                    0   \n",
              "3                      0                     0                    1   \n",
              "4                      0                     0                    0   \n",
              "..                   ...                   ...                  ...   \n",
              "281                    0                     0                    1   \n",
              "282                    0                     0                    1   \n",
              "283                    0                     0                    1   \n",
              "284                    0                     1                    0   \n",
              "285                    0                     1                    0   \n",
              "\n",
              "     breast-quad_right_low  breast-quad_right_up  irradiat_no  irradiat_yes  \n",
              "0                        0                     0            1             0  \n",
              "1                        0                     1            1             0  \n",
              "2                        0                     0            1             0  \n",
              "3                        0                     0            1             0  \n",
              "4                        1                     0            1             0  \n",
              "..                     ...                   ...          ...           ...  \n",
              "281                      0                     0            1             0  \n",
              "282                      0                     0            0             1  \n",
              "283                      0                     0            1             0  \n",
              "284                      0                     0            1             0  \n",
              "285                      0                     0            1             0  \n",
              "\n",
              "[286 rows x 41 columns]"
            ]
          },
          "execution_count": 136,
          "metadata": {},
          "output_type": "execute_result"
        }
      ],
      "source": [
        "pd.get_dummies(DF)"
      ]
    },
    {
      "cell_type": "code",
      "execution_count": 137,
      "metadata": {
        "id": "yqysalh6l4yv"
      },
      "outputs": [],
      "source": [
        "y=DF['Class']"
      ]
    },
    {
      "cell_type": "code",
      "execution_count": 138,
      "metadata": {
        "id": "YttNugSel72-"
      },
      "outputs": [],
      "source": [
        "X=DF.drop(['Class'],axis=1)"
      ]
    },
    {
      "cell_type": "code",
      "execution_count": 139,
      "metadata": {
        "colab": {
          "base_uri": "https://localhost:8080/",
          "height": 423
        },
        "id": "qYlqA4RbmAXE",
        "outputId": "b8501dd9-6757-4ad5-c2e6-b05def62ca4f"
      },
      "outputs": [
        {
          "data": {
            "text/html": [
              "\n",
              "  <div id=\"df-81cfc9d8-0443-4270-979c-c9562fe3a1da\">\n",
              "    <div class=\"colab-df-container\">\n",
              "      <div>\n",
              "<style scoped>\n",
              "    .dataframe tbody tr th:only-of-type {\n",
              "        vertical-align: middle;\n",
              "    }\n",
              "\n",
              "    .dataframe tbody tr th {\n",
              "        vertical-align: top;\n",
              "    }\n",
              "\n",
              "    .dataframe thead th {\n",
              "        text-align: right;\n",
              "    }\n",
              "</style>\n",
              "<table border=\"1\" class=\"dataframe\">\n",
              "  <thead>\n",
              "    <tr style=\"text-align: right;\">\n",
              "      <th></th>\n",
              "      <th>age</th>\n",
              "      <th>menopause</th>\n",
              "      <th>tumor-size</th>\n",
              "      <th>inv-nodes</th>\n",
              "      <th>node-caps</th>\n",
              "      <th>deg-malig</th>\n",
              "      <th>breast</th>\n",
              "      <th>breast-quad</th>\n",
              "      <th>irradiat</th>\n",
              "    </tr>\n",
              "  </thead>\n",
              "  <tbody>\n",
              "    <tr>\n",
              "      <th>0</th>\n",
              "      <td>30-39</td>\n",
              "      <td>premeno</td>\n",
              "      <td>30-34</td>\n",
              "      <td>0-2</td>\n",
              "      <td>no</td>\n",
              "      <td>3</td>\n",
              "      <td>left</td>\n",
              "      <td>left_low</td>\n",
              "      <td>no</td>\n",
              "    </tr>\n",
              "    <tr>\n",
              "      <th>1</th>\n",
              "      <td>40-49</td>\n",
              "      <td>premeno</td>\n",
              "      <td>20-24</td>\n",
              "      <td>0-2</td>\n",
              "      <td>no</td>\n",
              "      <td>2</td>\n",
              "      <td>right</td>\n",
              "      <td>right_up</td>\n",
              "      <td>no</td>\n",
              "    </tr>\n",
              "    <tr>\n",
              "      <th>2</th>\n",
              "      <td>40-49</td>\n",
              "      <td>premeno</td>\n",
              "      <td>20-24</td>\n",
              "      <td>0-2</td>\n",
              "      <td>no</td>\n",
              "      <td>2</td>\n",
              "      <td>left</td>\n",
              "      <td>left_low</td>\n",
              "      <td>no</td>\n",
              "    </tr>\n",
              "    <tr>\n",
              "      <th>3</th>\n",
              "      <td>60-69</td>\n",
              "      <td>ge40</td>\n",
              "      <td>15-19</td>\n",
              "      <td>0-2</td>\n",
              "      <td>no</td>\n",
              "      <td>2</td>\n",
              "      <td>right</td>\n",
              "      <td>left_up</td>\n",
              "      <td>no</td>\n",
              "    </tr>\n",
              "    <tr>\n",
              "      <th>4</th>\n",
              "      <td>40-49</td>\n",
              "      <td>premeno</td>\n",
              "      <td>0-4</td>\n",
              "      <td>0-2</td>\n",
              "      <td>no</td>\n",
              "      <td>2</td>\n",
              "      <td>right</td>\n",
              "      <td>right_low</td>\n",
              "      <td>no</td>\n",
              "    </tr>\n",
              "    <tr>\n",
              "      <th>...</th>\n",
              "      <td>...</td>\n",
              "      <td>...</td>\n",
              "      <td>...</td>\n",
              "      <td>...</td>\n",
              "      <td>...</td>\n",
              "      <td>...</td>\n",
              "      <td>...</td>\n",
              "      <td>...</td>\n",
              "      <td>...</td>\n",
              "    </tr>\n",
              "    <tr>\n",
              "      <th>281</th>\n",
              "      <td>30-39</td>\n",
              "      <td>premeno</td>\n",
              "      <td>30-34</td>\n",
              "      <td>0-2</td>\n",
              "      <td>no</td>\n",
              "      <td>2</td>\n",
              "      <td>left</td>\n",
              "      <td>left_up</td>\n",
              "      <td>no</td>\n",
              "    </tr>\n",
              "    <tr>\n",
              "      <th>282</th>\n",
              "      <td>30-39</td>\n",
              "      <td>premeno</td>\n",
              "      <td>20-24</td>\n",
              "      <td>0-2</td>\n",
              "      <td>no</td>\n",
              "      <td>3</td>\n",
              "      <td>left</td>\n",
              "      <td>left_up</td>\n",
              "      <td>yes</td>\n",
              "    </tr>\n",
              "    <tr>\n",
              "      <th>283</th>\n",
              "      <td>60-69</td>\n",
              "      <td>ge40</td>\n",
              "      <td>20-24</td>\n",
              "      <td>0-2</td>\n",
              "      <td>no</td>\n",
              "      <td>1</td>\n",
              "      <td>right</td>\n",
              "      <td>left_up</td>\n",
              "      <td>no</td>\n",
              "    </tr>\n",
              "    <tr>\n",
              "      <th>284</th>\n",
              "      <td>40-49</td>\n",
              "      <td>ge40</td>\n",
              "      <td>30-34</td>\n",
              "      <td>3-5</td>\n",
              "      <td>no</td>\n",
              "      <td>3</td>\n",
              "      <td>left</td>\n",
              "      <td>left_low</td>\n",
              "      <td>no</td>\n",
              "    </tr>\n",
              "    <tr>\n",
              "      <th>285</th>\n",
              "      <td>50-59</td>\n",
              "      <td>ge40</td>\n",
              "      <td>30-34</td>\n",
              "      <td>3-5</td>\n",
              "      <td>no</td>\n",
              "      <td>3</td>\n",
              "      <td>left</td>\n",
              "      <td>left_low</td>\n",
              "      <td>no</td>\n",
              "    </tr>\n",
              "  </tbody>\n",
              "</table>\n",
              "<p>286 rows × 9 columns</p>\n",
              "</div>\n",
              "      <button class=\"colab-df-convert\" onclick=\"convertToInteractive('df-81cfc9d8-0443-4270-979c-c9562fe3a1da')\"\n",
              "              title=\"Convert this dataframe to an interactive table.\"\n",
              "              style=\"display:none;\">\n",
              "        \n",
              "  <svg xmlns=\"http://www.w3.org/2000/svg\" height=\"24px\"viewBox=\"0 0 24 24\"\n",
              "       width=\"24px\">\n",
              "    <path d=\"M0 0h24v24H0V0z\" fill=\"none\"/>\n",
              "    <path d=\"M18.56 5.44l.94 2.06.94-2.06 2.06-.94-2.06-.94-.94-2.06-.94 2.06-2.06.94zm-11 1L8.5 8.5l.94-2.06 2.06-.94-2.06-.94L8.5 2.5l-.94 2.06-2.06.94zm10 10l.94 2.06.94-2.06 2.06-.94-2.06-.94-.94-2.06-.94 2.06-2.06.94z\"/><path d=\"M17.41 7.96l-1.37-1.37c-.4-.4-.92-.59-1.43-.59-.52 0-1.04.2-1.43.59L10.3 9.45l-7.72 7.72c-.78.78-.78 2.05 0 2.83L4 21.41c.39.39.9.59 1.41.59.51 0 1.02-.2 1.41-.59l7.78-7.78 2.81-2.81c.8-.78.8-2.07 0-2.86zM5.41 20L4 18.59l7.72-7.72 1.47 1.35L5.41 20z\"/>\n",
              "  </svg>\n",
              "      </button>\n",
              "      \n",
              "  <style>\n",
              "    .colab-df-container {\n",
              "      display:flex;\n",
              "      flex-wrap:wrap;\n",
              "      gap: 12px;\n",
              "    }\n",
              "\n",
              "    .colab-df-convert {\n",
              "      background-color: #E8F0FE;\n",
              "      border: none;\n",
              "      border-radius: 50%;\n",
              "      cursor: pointer;\n",
              "      display: none;\n",
              "      fill: #1967D2;\n",
              "      height: 32px;\n",
              "      padding: 0 0 0 0;\n",
              "      width: 32px;\n",
              "    }\n",
              "\n",
              "    .colab-df-convert:hover {\n",
              "      background-color: #E2EBFA;\n",
              "      box-shadow: 0px 1px 2px rgba(60, 64, 67, 0.3), 0px 1px 3px 1px rgba(60, 64, 67, 0.15);\n",
              "      fill: #174EA6;\n",
              "    }\n",
              "\n",
              "    [theme=dark] .colab-df-convert {\n",
              "      background-color: #3B4455;\n",
              "      fill: #D2E3FC;\n",
              "    }\n",
              "\n",
              "    [theme=dark] .colab-df-convert:hover {\n",
              "      background-color: #434B5C;\n",
              "      box-shadow: 0px 1px 3px 1px rgba(0, 0, 0, 0.15);\n",
              "      filter: drop-shadow(0px 1px 2px rgba(0, 0, 0, 0.3));\n",
              "      fill: #FFFFFF;\n",
              "    }\n",
              "  </style>\n",
              "\n",
              "      <script>\n",
              "        const buttonEl =\n",
              "          document.querySelector('#df-81cfc9d8-0443-4270-979c-c9562fe3a1da button.colab-df-convert');\n",
              "        buttonEl.style.display =\n",
              "          google.colab.kernel.accessAllowed ? 'block' : 'none';\n",
              "\n",
              "        async function convertToInteractive(key) {\n",
              "          const element = document.querySelector('#df-81cfc9d8-0443-4270-979c-c9562fe3a1da');\n",
              "          const dataTable =\n",
              "            await google.colab.kernel.invokeFunction('convertToInteractive',\n",
              "                                                     [key], {});\n",
              "          if (!dataTable) return;\n",
              "\n",
              "          const docLinkHtml = 'Like what you see? Visit the ' +\n",
              "            '<a target=\"_blank\" href=https://colab.research.google.com/notebooks/data_table.ipynb>data table notebook</a>'\n",
              "            + ' to learn more about interactive tables.';\n",
              "          element.innerHTML = '';\n",
              "          dataTable['output_type'] = 'display_data';\n",
              "          await google.colab.output.renderOutput(dataTable, element);\n",
              "          const docLink = document.createElement('div');\n",
              "          docLink.innerHTML = docLinkHtml;\n",
              "          element.appendChild(docLink);\n",
              "        }\n",
              "      </script>\n",
              "    </div>\n",
              "  </div>\n",
              "  "
            ],
            "text/plain": [
              "       age menopause tumor-size inv-nodes node-caps  deg-malig breast  \\\n",
              "0    30-39   premeno      30-34       0-2        no          3   left   \n",
              "1    40-49   premeno      20-24       0-2        no          2  right   \n",
              "2    40-49   premeno      20-24       0-2        no          2   left   \n",
              "3    60-69      ge40      15-19       0-2        no          2  right   \n",
              "4    40-49   premeno        0-4       0-2        no          2  right   \n",
              "..     ...       ...        ...       ...       ...        ...    ...   \n",
              "281  30-39   premeno      30-34       0-2        no          2   left   \n",
              "282  30-39   premeno      20-24       0-2        no          3   left   \n",
              "283  60-69      ge40      20-24       0-2        no          1  right   \n",
              "284  40-49      ge40      30-34       3-5        no          3   left   \n",
              "285  50-59      ge40      30-34       3-5        no          3   left   \n",
              "\n",
              "    breast-quad irradiat  \n",
              "0      left_low       no  \n",
              "1      right_up       no  \n",
              "2      left_low       no  \n",
              "3       left_up       no  \n",
              "4     right_low       no  \n",
              "..          ...      ...  \n",
              "281     left_up       no  \n",
              "282     left_up      yes  \n",
              "283     left_up       no  \n",
              "284    left_low       no  \n",
              "285    left_low       no  \n",
              "\n",
              "[286 rows x 9 columns]"
            ]
          },
          "execution_count": 139,
          "metadata": {},
          "output_type": "execute_result"
        }
      ],
      "source": [
        "X"
      ]
    },
    {
      "cell_type": "code",
      "execution_count": 140,
      "metadata": {
        "colab": {
          "base_uri": "https://localhost:8080/"
        },
        "id": "Wm1xX1jOmBsr",
        "outputId": "9fdf1cf5-b87a-4b08-c95d-70ad752378ef"
      },
      "outputs": [
        {
          "data": {
            "text/plain": [
              "0      no-recurrence-events\n",
              "1      no-recurrence-events\n",
              "2      no-recurrence-events\n",
              "3      no-recurrence-events\n",
              "4      no-recurrence-events\n",
              "               ...         \n",
              "281       recurrence-events\n",
              "282       recurrence-events\n",
              "283       recurrence-events\n",
              "284       recurrence-events\n",
              "285       recurrence-events\n",
              "Name: Class, Length: 286, dtype: object"
            ]
          },
          "execution_count": 140,
          "metadata": {},
          "output_type": "execute_result"
        }
      ],
      "source": [
        "y"
      ]
    },
    {
      "cell_type": "code",
      "execution_count": 141,
      "metadata": {
        "id": "x-8TL98dmGCp"
      },
      "outputs": [],
      "source": [
        "y=y=='no-recurrence-events'"
      ]
    },
    {
      "cell_type": "code",
      "execution_count": 142,
      "metadata": {
        "id": "7tgcAUzEmHw6"
      },
      "outputs": [],
      "source": [
        "y=y.astype(int)"
      ]
    },
    {
      "cell_type": "code",
      "execution_count": 143,
      "metadata": {
        "id": "7_pgLIHsmJS5"
      },
      "outputs": [],
      "source": [
        "X=pd.get_dummies(X,sparse=False)"
      ]
    },
    {
      "cell_type": "code",
      "execution_count": 144,
      "metadata": {
        "id": "tmS62wnXnH2V"
      },
      "outputs": [],
      "source": [
        "X_train,X_test,y_train,y_test= train_test_split(X,y,test_size=0.2,random_state=2)"
      ]
    },
    {
      "cell_type": "code",
      "execution_count": 145,
      "metadata": {
        "id": "kPokxUl0nOv7"
      },
      "outputs": [],
      "source": [
        "def build(X_train,y_train):\n",
        "  model = Sequential()\n",
        "  model.add(Dense(32, activation='relu', input_shape=(39,)))\n",
        "  model.add(Dense(64, activation='relu'))\n",
        "  model.add(Dense(32, activation='relu'))\n",
        "  model.add(Dense(1, activation='sigmoid'))\n",
        "  model.summary()\n",
        "  model.compile(loss='binary_crossentropy',\n",
        "              optimizer='adam',\n",
        "              metrics=['accuracy'])\n",
        "  hist = model.fit(X_train,y_train,\n",
        "                    epochs=10,\n",
        "                    verbose=2)\n",
        "  return hist,model"
      ]
    },
    {
      "cell_type": "markdown",
      "metadata": {
        "id": "iPALiFn8yRio"
      },
      "source": [
        "####No Sampling methods used"
      ]
    },
    {
      "cell_type": "code",
      "execution_count": 146,
      "metadata": {
        "colab": {
          "base_uri": "https://localhost:8080/"
        },
        "id": "wtLthsDxnax2",
        "outputId": "bdb81cff-5a7a-4894-d9c5-6ca2dc3490c2"
      },
      "outputs": [
        {
          "name": "stdout",
          "output_type": "stream",
          "text": [
            "Model: \"sequential_10\"\n",
            "_________________________________________________________________\n",
            " Layer (type)                Output Shape              Param #   \n",
            "=================================================================\n",
            " dense_40 (Dense)            (None, 32)                1280      \n",
            "                                                                 \n",
            " dense_41 (Dense)            (None, 64)                2112      \n",
            "                                                                 \n",
            " dense_42 (Dense)            (None, 32)                2080      \n",
            "                                                                 \n",
            " dense_43 (Dense)            (None, 1)                 33        \n",
            "                                                                 \n",
            "=================================================================\n",
            "Total params: 5,505\n",
            "Trainable params: 5,505\n",
            "Non-trainable params: 0\n",
            "_________________________________________________________________\n",
            "Epoch 1/10\n",
            "8/8 - 2s - loss: 0.7017 - accuracy: 0.4868 - 2s/epoch - 280ms/step\n",
            "Epoch 2/10\n",
            "8/8 - 0s - loss: 0.6379 - accuracy: 0.6974 - 42ms/epoch - 5ms/step\n",
            "Epoch 3/10\n",
            "8/8 - 0s - loss: 0.6142 - accuracy: 0.7018 - 38ms/epoch - 5ms/step\n",
            "Epoch 4/10\n",
            "8/8 - 0s - loss: 0.6008 - accuracy: 0.7018 - 57ms/epoch - 7ms/step\n",
            "Epoch 5/10\n",
            "8/8 - 0s - loss: 0.5882 - accuracy: 0.7018 - 58ms/epoch - 7ms/step\n",
            "Epoch 6/10\n",
            "8/8 - 0s - loss: 0.5748 - accuracy: 0.7018 - 81ms/epoch - 10ms/step\n",
            "Epoch 7/10\n",
            "8/8 - 0s - loss: 0.5623 - accuracy: 0.7061 - 57ms/epoch - 7ms/step\n",
            "Epoch 8/10\n",
            "8/8 - 0s - loss: 0.5505 - accuracy: 0.7237 - 57ms/epoch - 7ms/step\n",
            "Epoch 9/10\n",
            "8/8 - 0s - loss: 0.5340 - accuracy: 0.7412 - 58ms/epoch - 7ms/step\n",
            "Epoch 10/10\n",
            "8/8 - 0s - loss: 0.5216 - accuracy: 0.7588 - 56ms/epoch - 7ms/step\n",
            "2/2 [==============================] - 0s 13ms/step - loss: 0.5638 - accuracy: 0.7069\n",
            "Test loss: 0.5638271570205688\n",
            "Test accuracy: 0.7068965435028076\n"
          ]
        }
      ],
      "source": [
        "histnone,modelnone = build(X_train,y_train)\n",
        "\n",
        "score = modelnone.evaluate(X_test, y_test, verbose=1)\n",
        "print('Test loss:', score[0])\n",
        "print('Test accuracy:', score[1])"
      ]
    },
    {
      "cell_type": "code",
      "execution_count": 147,
      "metadata": {
        "id": "PIi1pVejxjrk"
      },
      "outputs": [],
      "source": [
        "X=pd.get_dummies(X,sparse=True)"
      ]
    },
    {
      "cell_type": "markdown",
      "metadata": {
        "id": "WXECrC2DxKU6"
      },
      "source": [
        "## Oversampling"
      ]
    },
    {
      "cell_type": "markdown",
      "metadata": {
        "id": "-b2CusbSxTBe"
      },
      "source": [
        "###RandomOverSampling"
      ]
    },
    {
      "cell_type": "code",
      "execution_count": 148,
      "metadata": {
        "id": "4HP3pEWdxRM3"
      },
      "outputs": [],
      "source": [
        "ros = RandomOverSampler(random_state=42)\n",
        "X_ReOsam, y_ReOsam = ros.fit_resample(X, y)"
      ]
    },
    {
      "cell_type": "code",
      "execution_count": 149,
      "metadata": {
        "id": "xY23RVX4x_eD"
      },
      "outputs": [],
      "source": [
        "X_train,X_test,y_train,y_test= train_test_split(X_ReOsam,y_ReOsam,test_size=0.2,random_state=2)"
      ]
    },
    {
      "cell_type": "code",
      "execution_count": 150,
      "metadata": {
        "colab": {
          "base_uri": "https://localhost:8080/"
        },
        "id": "xCq10HnJxGiq",
        "outputId": "4490a5ef-e287-45ff-875a-b7c44f03da0e"
      },
      "outputs": [
        {
          "name": "stdout",
          "output_type": "stream",
          "text": [
            "Model: \"sequential_11\"\n",
            "_________________________________________________________________\n",
            " Layer (type)                Output Shape              Param #   \n",
            "=================================================================\n",
            " dense_44 (Dense)            (None, 32)                1280      \n",
            "                                                                 \n",
            " dense_45 (Dense)            (None, 64)                2112      \n",
            "                                                                 \n",
            " dense_46 (Dense)            (None, 32)                2080      \n",
            "                                                                 \n",
            " dense_47 (Dense)            (None, 1)                 33        \n",
            "                                                                 \n",
            "=================================================================\n",
            "Total params: 5,505\n",
            "Trainable params: 5,505\n",
            "Non-trainable params: 0\n",
            "_________________________________________________________________\n",
            "Epoch 1/10\n",
            "11/11 - 4s - loss: 0.6792 - accuracy: 0.5327 - 4s/epoch - 358ms/step\n",
            "Epoch 2/10\n",
            "11/11 - 0s - loss: 0.6586 - accuracy: 0.5857 - 57ms/epoch - 5ms/step\n",
            "Epoch 3/10\n",
            "11/11 - 0s - loss: 0.6414 - accuracy: 0.6231 - 68ms/epoch - 6ms/step\n",
            "Epoch 4/10\n",
            "11/11 - 0s - loss: 0.6229 - accuracy: 0.6636 - 61ms/epoch - 6ms/step\n",
            "Epoch 5/10\n",
            "11/11 - 0s - loss: 0.6055 - accuracy: 0.6729 - 64ms/epoch - 6ms/step\n",
            "Epoch 6/10\n",
            "11/11 - 0s - loss: 0.5927 - accuracy: 0.6854 - 85ms/epoch - 8ms/step\n",
            "Epoch 7/10\n",
            "11/11 - 0s - loss: 0.5761 - accuracy: 0.7103 - 63ms/epoch - 6ms/step\n",
            "Epoch 8/10\n",
            "11/11 - 0s - loss: 0.5697 - accuracy: 0.7227 - 62ms/epoch - 6ms/step\n",
            "Epoch 9/10\n",
            "11/11 - 0s - loss: 0.5518 - accuracy: 0.7134 - 73ms/epoch - 7ms/step\n",
            "Epoch 10/10\n",
            "11/11 - 0s - loss: 0.5365 - accuracy: 0.7414 - 64ms/epoch - 6ms/step\n",
            "3/3 [==============================] - 0s 8ms/step - loss: 0.6632 - accuracy: 0.6420\n",
            "Test loss: 0.663200855255127\n",
            "Test accuracy: 0.6419752836227417\n"
          ]
        }
      ],
      "source": [
        "hist1,model1=build(X_train,y_train)\n",
        "score = model1.evaluate(X_test, y_test, verbose=1)\n",
        "print('Test loss:', score[0])\n",
        "print('Test accuracy:', score[1])"
      ]
    },
    {
      "cell_type": "code",
      "execution_count": 150,
      "metadata": {
        "id": "O5JS0gMkxGaM"
      },
      "outputs": [],
      "source": []
    },
    {
      "cell_type": "markdown",
      "metadata": {
        "id": "-HqsT52Hys8T"
      },
      "source": [
        "###SMOTE"
      ]
    },
    {
      "cell_type": "code",
      "execution_count": 151,
      "metadata": {
        "id": "eJyxvWr-ywIp"
      },
      "outputs": [],
      "source": [
        "smote = SMOTE()\n",
        "X_smote,y_smote = smote.fit_resample(X,y)"
      ]
    },
    {
      "cell_type": "code",
      "execution_count": 152,
      "metadata": {
        "id": "kMYHMJw2z-QI"
      },
      "outputs": [],
      "source": [
        "X_train,X_test,y_train,y_test= train_test_split(X_smote,y_smote,test_size=0.2,random_state=2)"
      ]
    },
    {
      "cell_type": "code",
      "execution_count": 153,
      "metadata": {
        "colab": {
          "base_uri": "https://localhost:8080/"
        },
        "id": "jbl20jJL0C-I",
        "outputId": "717eb4c3-c893-4772-c14e-41cfa7087989"
      },
      "outputs": [
        {
          "name": "stdout",
          "output_type": "stream",
          "text": [
            "Model: \"sequential_12\"\n",
            "_________________________________________________________________\n",
            " Layer (type)                Output Shape              Param #   \n",
            "=================================================================\n",
            " dense_48 (Dense)            (None, 32)                1280      \n",
            "                                                                 \n",
            " dense_49 (Dense)            (None, 64)                2112      \n",
            "                                                                 \n",
            " dense_50 (Dense)            (None, 32)                2080      \n",
            "                                                                 \n",
            " dense_51 (Dense)            (None, 1)                 33        \n",
            "                                                                 \n",
            "=================================================================\n",
            "Total params: 5,505\n",
            "Trainable params: 5,505\n",
            "Non-trainable params: 0\n",
            "_________________________________________________________________\n",
            "Epoch 1/10\n",
            "11/11 - 3s - loss: 0.6809 - accuracy: 0.6012 - 3s/epoch - 263ms/step\n",
            "Epoch 2/10\n",
            "11/11 - 0s - loss: 0.6604 - accuracy: 0.6542 - 60ms/epoch - 5ms/step\n",
            "Epoch 3/10\n",
            "11/11 - 0s - loss: 0.6427 - accuracy: 0.6729 - 59ms/epoch - 5ms/step\n",
            "Epoch 4/10\n",
            "11/11 - 0s - loss: 0.6249 - accuracy: 0.6791 - 76ms/epoch - 7ms/step\n",
            "Epoch 5/10\n",
            "11/11 - 0s - loss: 0.6151 - accuracy: 0.6791 - 85ms/epoch - 8ms/step\n",
            "Epoch 6/10\n",
            "11/11 - 0s - loss: 0.5948 - accuracy: 0.7009 - 60ms/epoch - 5ms/step\n",
            "Epoch 7/10\n",
            "11/11 - 0s - loss: 0.5823 - accuracy: 0.7040 - 66ms/epoch - 6ms/step\n",
            "Epoch 8/10\n",
            "11/11 - 0s - loss: 0.5629 - accuracy: 0.7290 - 79ms/epoch - 7ms/step\n",
            "Epoch 9/10\n",
            "11/11 - 0s - loss: 0.5492 - accuracy: 0.7165 - 65ms/epoch - 6ms/step\n",
            "Epoch 10/10\n",
            "11/11 - 0s - loss: 0.5248 - accuracy: 0.7539 - 58ms/epoch - 5ms/step\n",
            "3/3 [==============================] - 0s 8ms/step - loss: 0.6852 - accuracy: 0.6173\n",
            "Test loss: 0.6852194666862488\n",
            "Test accuracy: 0.6172839403152466\n"
          ]
        }
      ],
      "source": [
        "hist2,model2=build(X_train,y_train)\n",
        "score = model2.evaluate(X_test, y_test, verbose=1)\n",
        "print('Test loss:', score[0])\n",
        "print('Test accuracy:', score[1])"
      ]
    },
    {
      "cell_type": "markdown",
      "metadata": {
        "id": "5HCbtE5N0Vjf"
      },
      "source": [
        "###SMOTENC"
      ]
    },
    {
      "cell_type": "code",
      "execution_count": 154,
      "metadata": {
        "id": "z0QanrJ30MAN"
      },
      "outputs": [],
      "source": [
        "smotenc = SMOTENC(categorical_features=[1,2,3,4,5,6,7,8], random_state=42)\n",
        "X_smotenc,y_smotenc = smotenc.fit_resample(X,y)"
      ]
    },
    {
      "cell_type": "code",
      "execution_count": 155,
      "metadata": {
        "id": "cbK0TdHl0laZ"
      },
      "outputs": [],
      "source": [
        "X_train,X_test,y_train,y_test= train_test_split(X_smotenc,y_smotenc,test_size=0.2,random_state=2)"
      ]
    },
    {
      "cell_type": "code",
      "execution_count": 156,
      "metadata": {
        "colab": {
          "base_uri": "https://localhost:8080/"
        },
        "id": "_eKJbNXR2uye",
        "outputId": "e8c3a09f-3ab7-41ed-dc77-e6cff8a05002"
      },
      "outputs": [
        {
          "name": "stdout",
          "output_type": "stream",
          "text": [
            "Model: \"sequential_13\"\n",
            "_________________________________________________________________\n",
            " Layer (type)                Output Shape              Param #   \n",
            "=================================================================\n",
            " dense_52 (Dense)            (None, 32)                1280      \n",
            "                                                                 \n",
            " dense_53 (Dense)            (None, 64)                2112      \n",
            "                                                                 \n",
            " dense_54 (Dense)            (None, 32)                2080      \n",
            "                                                                 \n",
            " dense_55 (Dense)            (None, 1)                 33        \n",
            "                                                                 \n",
            "=================================================================\n",
            "Total params: 5,505\n",
            "Trainable params: 5,505\n",
            "Non-trainable params: 0\n",
            "_________________________________________________________________\n",
            "Epoch 1/10\n",
            "11/11 - 3s - loss: 0.6792 - accuracy: 0.6106 - 3s/epoch - 272ms/step\n",
            "Epoch 2/10\n",
            "11/11 - 0s - loss: 0.6511 - accuracy: 0.6511 - 60ms/epoch - 5ms/step\n",
            "Epoch 3/10\n",
            "11/11 - 0s - loss: 0.6291 - accuracy: 0.6760 - 60ms/epoch - 5ms/step\n",
            "Epoch 4/10\n",
            "11/11 - 0s - loss: 0.6053 - accuracy: 0.6916 - 62ms/epoch - 6ms/step\n",
            "Epoch 5/10\n",
            "11/11 - 0s - loss: 0.5780 - accuracy: 0.7103 - 59ms/epoch - 5ms/step\n",
            "Epoch 6/10\n",
            "11/11 - 0s - loss: 0.5516 - accuracy: 0.7196 - 60ms/epoch - 5ms/step\n",
            "Epoch 7/10\n",
            "11/11 - 0s - loss: 0.5477 - accuracy: 0.7040 - 59ms/epoch - 5ms/step\n",
            "Epoch 8/10\n",
            "11/11 - 0s - loss: 0.5292 - accuracy: 0.7321 - 61ms/epoch - 6ms/step\n",
            "Epoch 9/10\n",
            "11/11 - 0s - loss: 0.5116 - accuracy: 0.7383 - 58ms/epoch - 5ms/step\n",
            "Epoch 10/10\n",
            "11/11 - 0s - loss: 0.5109 - accuracy: 0.7383 - 56ms/epoch - 5ms/step\n",
            "3/3 [==============================] - 0s 6ms/step - loss: 0.7154 - accuracy: 0.5679\n",
            "Test loss: 0.7153745293617249\n",
            "Test accuracy: 0.5679012537002563\n"
          ]
        }
      ],
      "source": [
        "hist3,model3=build(X_train,y_train)\n",
        "score = model3.evaluate(X_test, y_test, verbose=1)\n",
        "print('Test loss:', score[0])\n",
        "print('Test accuracy:', score[1])"
      ]
    },
    {
      "cell_type": "markdown",
      "metadata": {
        "id": "BqETBihg3UP0"
      },
      "source": [
        "###SMOTEN"
      ]
    },
    {
      "cell_type": "code",
      "execution_count": 157,
      "metadata": {
        "id": "BKVxSh9z3V4u"
      },
      "outputs": [],
      "source": [
        "smoten = SMOTEN()\n",
        "X_smoten,y_smoten = smoten.fit_resample(X,y)"
      ]
    },
    {
      "cell_type": "code",
      "execution_count": 158,
      "metadata": {
        "id": "j2JKVloa317A"
      },
      "outputs": [],
      "source": [
        "X_train,X_test,y_train,y_test= train_test_split(X_smoten,y_smoten,test_size=0.2,random_state=2)"
      ]
    },
    {
      "cell_type": "code",
      "execution_count": 159,
      "metadata": {
        "colab": {
          "base_uri": "https://localhost:8080/"
        },
        "id": "50CMkXVU4R2f",
        "outputId": "25359c28-ffcd-4ffb-969b-be57f0bb9907"
      },
      "outputs": [
        {
          "name": "stdout",
          "output_type": "stream",
          "text": [
            "Model: \"sequential_14\"\n",
            "_________________________________________________________________\n",
            " Layer (type)                Output Shape              Param #   \n",
            "=================================================================\n",
            " dense_56 (Dense)            (None, 32)                1280      \n",
            "                                                                 \n",
            " dense_57 (Dense)            (None, 64)                2112      \n",
            "                                                                 \n",
            " dense_58 (Dense)            (None, 32)                2080      \n",
            "                                                                 \n",
            " dense_59 (Dense)            (None, 1)                 33        \n",
            "                                                                 \n",
            "=================================================================\n",
            "Total params: 5,505\n",
            "Trainable params: 5,505\n",
            "Non-trainable params: 0\n",
            "_________________________________________________________________\n",
            "Epoch 1/10\n",
            "11/11 - 2s - loss: 0.7049 - accuracy: 0.5078 - 2s/epoch - 153ms/step\n",
            "Epoch 2/10\n",
            "11/11 - 0s - loss: 0.6627 - accuracy: 0.6542 - 47ms/epoch - 4ms/step\n",
            "Epoch 3/10\n",
            "11/11 - 0s - loss: 0.6378 - accuracy: 0.6947 - 42ms/epoch - 4ms/step\n",
            "Epoch 4/10\n",
            "11/11 - 0s - loss: 0.6110 - accuracy: 0.7040 - 50ms/epoch - 5ms/step\n",
            "Epoch 5/10\n",
            "11/11 - 0s - loss: 0.5839 - accuracy: 0.7290 - 42ms/epoch - 4ms/step\n",
            "Epoch 6/10\n",
            "11/11 - 0s - loss: 0.5549 - accuracy: 0.7259 - 43ms/epoch - 4ms/step\n",
            "Epoch 7/10\n",
            "11/11 - 0s - loss: 0.5236 - accuracy: 0.7383 - 41ms/epoch - 4ms/step\n",
            "Epoch 8/10\n",
            "11/11 - 0s - loss: 0.4997 - accuracy: 0.7570 - 39ms/epoch - 4ms/step\n",
            "Epoch 9/10\n",
            "11/11 - 0s - loss: 0.4770 - accuracy: 0.7539 - 42ms/epoch - 4ms/step\n",
            "Epoch 10/10\n",
            "11/11 - 0s - loss: 0.4587 - accuracy: 0.7726 - 40ms/epoch - 4ms/step\n",
            "3/3 [==============================] - 0s 5ms/step - loss: 0.6375 - accuracy: 0.6420\n",
            "Test loss: 0.637503981590271\n",
            "Test accuracy: 0.6419752836227417\n"
          ]
        }
      ],
      "source": [
        "hist4,model4=build(X_train,y_train)\n",
        "score = model4.evaluate(X_test, y_test, verbose=1)\n",
        "print('Test loss:', score[0])\n",
        "print('Test accuracy:', score[1])"
      ]
    },
    {
      "cell_type": "markdown",
      "metadata": {
        "id": "zYBHxKB09KEa"
      },
      "source": [
        "###ADASYN"
      ]
    },
    {
      "cell_type": "code",
      "execution_count": 160,
      "metadata": {
        "id": "5ry28BAW4WHm"
      },
      "outputs": [],
      "source": [
        "adasyn= ADASYN()\n",
        "X_ada, y_ada = adasyn.fit_resample(X,y)"
      ]
    },
    {
      "cell_type": "code",
      "execution_count": 161,
      "metadata": {
        "id": "CfWXMgZw456_"
      },
      "outputs": [],
      "source": [
        "X_train,X_test,y_train,y_test= train_test_split(X_ada,y_ada,test_size=0.2,random_state=2)"
      ]
    },
    {
      "cell_type": "code",
      "execution_count": 162,
      "metadata": {
        "colab": {
          "base_uri": "https://localhost:8080/"
        },
        "id": "rLUlOt_V9ZXu",
        "outputId": "c73f19aa-59ed-46fb-bdc4-9609890328b8"
      },
      "outputs": [
        {
          "name": "stdout",
          "output_type": "stream",
          "text": [
            "Model: \"sequential_15\"\n",
            "_________________________________________________________________\n",
            " Layer (type)                Output Shape              Param #   \n",
            "=================================================================\n",
            " dense_60 (Dense)            (None, 32)                1280      \n",
            "                                                                 \n",
            " dense_61 (Dense)            (None, 64)                2112      \n",
            "                                                                 \n",
            " dense_62 (Dense)            (None, 32)                2080      \n",
            "                                                                 \n",
            " dense_63 (Dense)            (None, 1)                 33        \n",
            "                                                                 \n",
            "=================================================================\n",
            "Total params: 5,505\n",
            "Trainable params: 5,505\n",
            "Non-trainable params: 0\n",
            "_________________________________________________________________\n",
            "Epoch 1/10\n",
            "10/10 - 1s - loss: 0.6944 - accuracy: 0.5220 - 1s/epoch - 133ms/step\n",
            "Epoch 2/10\n",
            "10/10 - 0s - loss: 0.6810 - accuracy: 0.5975 - 36ms/epoch - 4ms/step\n",
            "Epoch 3/10\n",
            "10/10 - 0s - loss: 0.6691 - accuracy: 0.6038 - 36ms/epoch - 4ms/step\n",
            "Epoch 4/10\n",
            "10/10 - 0s - loss: 0.6572 - accuracy: 0.6730 - 43ms/epoch - 4ms/step\n",
            "Epoch 5/10\n",
            "10/10 - 0s - loss: 0.6419 - accuracy: 0.6887 - 34ms/epoch - 3ms/step\n",
            "Epoch 6/10\n",
            "10/10 - 0s - loss: 0.6206 - accuracy: 0.7107 - 38ms/epoch - 4ms/step\n",
            "Epoch 7/10\n",
            "10/10 - 0s - loss: 0.6001 - accuracy: 0.7107 - 35ms/epoch - 4ms/step\n",
            "Epoch 8/10\n",
            "10/10 - 0s - loss: 0.5751 - accuracy: 0.7201 - 36ms/epoch - 4ms/step\n",
            "Epoch 9/10\n",
            "10/10 - 0s - loss: 0.5573 - accuracy: 0.7107 - 33ms/epoch - 3ms/step\n",
            "Epoch 10/10\n",
            "10/10 - 0s - loss: 0.5345 - accuracy: 0.7264 - 41ms/epoch - 4ms/step\n",
            "3/3 [==============================] - 0s 6ms/step - loss: 0.6584 - accuracy: 0.6250\n",
            "Test loss: 0.6583702564239502\n",
            "Test accuracy: 0.625\n"
          ]
        }
      ],
      "source": [
        "hist5,model5=build(X_train,y_train)\n",
        "score = model5.evaluate(X_test, y_test, verbose=1)\n",
        "print('Test loss:', score[0])\n",
        "print('Test accuracy:', score[1])"
      ]
    },
    {
      "cell_type": "markdown",
      "metadata": {
        "id": "VichRtCf9jPr"
      },
      "source": [
        "###BorderlineSMOTE"
      ]
    },
    {
      "cell_type": "code",
      "execution_count": 163,
      "metadata": {
        "id": "_fbsmEBe9ieB"
      },
      "outputs": [],
      "source": [
        "borderlineSMOTE= BorderlineSMOTE()\n",
        "X_bsmo, y_bsmo = borderlineSMOTE.fit_resample(X,y)"
      ]
    },
    {
      "cell_type": "code",
      "execution_count": 164,
      "metadata": {
        "id": "7s1HHOJ19wsu"
      },
      "outputs": [],
      "source": [
        "X_train,X_test,y_train,y_test= train_test_split(X_bsmo,y_bsmo,test_size=0.2,random_state=2)"
      ]
    },
    {
      "cell_type": "code",
      "execution_count": 165,
      "metadata": {
        "colab": {
          "base_uri": "https://localhost:8080/"
        },
        "id": "3GNp4HL_90oO",
        "outputId": "c05dd193-d2d7-406b-ecfe-040fdb56c622"
      },
      "outputs": [
        {
          "name": "stdout",
          "output_type": "stream",
          "text": [
            "Model: \"sequential_16\"\n",
            "_________________________________________________________________\n",
            " Layer (type)                Output Shape              Param #   \n",
            "=================================================================\n",
            " dense_64 (Dense)            (None, 32)                1280      \n",
            "                                                                 \n",
            " dense_65 (Dense)            (None, 64)                2112      \n",
            "                                                                 \n",
            " dense_66 (Dense)            (None, 32)                2080      \n",
            "                                                                 \n",
            " dense_67 (Dense)            (None, 1)                 33        \n",
            "                                                                 \n",
            "=================================================================\n",
            "Total params: 5,505\n",
            "Trainable params: 5,505\n",
            "Non-trainable params: 0\n",
            "_________________________________________________________________\n",
            "Epoch 1/10\n",
            "11/11 - 2s - loss: 0.6793 - accuracy: 0.5483 - 2s/epoch - 225ms/step\n",
            "Epoch 2/10\n",
            "11/11 - 0s - loss: 0.6534 - accuracy: 0.6324 - 40ms/epoch - 4ms/step\n",
            "Epoch 3/10\n",
            "11/11 - 0s - loss: 0.6317 - accuracy: 0.6760 - 39ms/epoch - 4ms/step\n",
            "Epoch 4/10\n",
            "11/11 - 0s - loss: 0.6050 - accuracy: 0.7383 - 41ms/epoch - 4ms/step\n",
            "Epoch 5/10\n",
            "11/11 - 0s - loss: 0.5839 - accuracy: 0.7414 - 38ms/epoch - 3ms/step\n",
            "Epoch 6/10\n",
            "11/11 - 0s - loss: 0.5680 - accuracy: 0.7445 - 39ms/epoch - 4ms/step\n",
            "Epoch 7/10\n",
            "11/11 - 0s - loss: 0.5428 - accuracy: 0.7695 - 35ms/epoch - 3ms/step\n",
            "Epoch 8/10\n",
            "11/11 - 0s - loss: 0.5275 - accuracy: 0.7570 - 46ms/epoch - 4ms/step\n",
            "Epoch 9/10\n",
            "11/11 - 0s - loss: 0.4944 - accuracy: 0.7913 - 39ms/epoch - 4ms/step\n",
            "Epoch 10/10\n",
            "11/11 - 0s - loss: 0.4719 - accuracy: 0.7850 - 36ms/epoch - 3ms/step\n",
            "3/3 [==============================] - 0s 6ms/step - loss: 0.6759 - accuracy: 0.6049\n",
            "Test loss: 0.6759453415870667\n",
            "Test accuracy: 0.604938268661499\n"
          ]
        }
      ],
      "source": [
        "hist6,model6=build(X_train,y_train)\n",
        "score = model6.evaluate(X_test, y_test, verbose=1)\n",
        "print('Test loss:', score[0])\n",
        "print('Test accuracy:', score[1])"
      ]
    },
    {
      "cell_type": "markdown",
      "metadata": {
        "id": "Kd2EXUXd9-kn"
      },
      "source": [
        "###KMeansSMOTE"
      ]
    },
    {
      "cell_type": "code",
      "execution_count": 171,
      "metadata": {
        "id": "4_iO0lWq-A4w"
      },
      "outputs": [],
      "source": [
        "kmsmote = KMeansSMOTE(random_state=48)\n",
        "X_kms,y_kms = kmsmote.fit_resample(X,y)"
      ]
    },
    {
      "cell_type": "code",
      "execution_count": 172,
      "metadata": {
        "id": "8wv-V0Oo-H7f"
      },
      "outputs": [],
      "source": [
        "X_train,X_test,y_train,y_test= train_test_split(X_kms,y_kms,test_size=0.2,random_state=2)"
      ]
    },
    {
      "cell_type": "code",
      "execution_count": 173,
      "metadata": {
        "colab": {
          "base_uri": "https://localhost:8080/"
        },
        "id": "xd7fqZmGAArb",
        "outputId": "5ab14010-13fa-44f1-cbfc-4639e27c5d33"
      },
      "outputs": [
        {
          "name": "stdout",
          "output_type": "stream",
          "text": [
            "Model: \"sequential_19\"\n",
            "_________________________________________________________________\n",
            " Layer (type)                Output Shape              Param #   \n",
            "=================================================================\n",
            " dense_76 (Dense)            (None, 32)                1280      \n",
            "                                                                 \n",
            " dense_77 (Dense)            (None, 64)                2112      \n",
            "                                                                 \n",
            " dense_78 (Dense)            (None, 32)                2080      \n",
            "                                                                 \n",
            " dense_79 (Dense)            (None, 1)                 33        \n",
            "                                                                 \n",
            "=================================================================\n",
            "Total params: 5,505\n",
            "Trainable params: 5,505\n",
            "Non-trainable params: 0\n",
            "_________________________________________________________________\n",
            "Epoch 1/10\n",
            "11/11 - 1s - loss: 0.6960 - accuracy: 0.5202 - 1s/epoch - 121ms/step\n",
            "Epoch 2/10\n",
            "11/11 - 0s - loss: 0.6337 - accuracy: 0.7632 - 37ms/epoch - 3ms/step\n",
            "Epoch 3/10\n",
            "11/11 - 0s - loss: 0.5788 - accuracy: 0.8224 - 38ms/epoch - 3ms/step\n",
            "Epoch 4/10\n",
            "11/11 - 0s - loss: 0.5275 - accuracy: 0.8193 - 42ms/epoch - 4ms/step\n",
            "Epoch 5/10\n",
            "11/11 - 0s - loss: 0.4806 - accuracy: 0.8193 - 40ms/epoch - 4ms/step\n",
            "Epoch 6/10\n",
            "11/11 - 0s - loss: 0.4420 - accuracy: 0.8255 - 42ms/epoch - 4ms/step\n",
            "Epoch 7/10\n",
            "11/11 - 0s - loss: 0.4125 - accuracy: 0.8287 - 36ms/epoch - 3ms/step\n",
            "Epoch 8/10\n",
            "11/11 - 0s - loss: 0.3931 - accuracy: 0.8287 - 36ms/epoch - 3ms/step\n",
            "Epoch 9/10\n",
            "11/11 - 0s - loss: 0.3769 - accuracy: 0.8318 - 36ms/epoch - 3ms/step\n",
            "Epoch 10/10\n",
            "11/11 - 0s - loss: 0.3600 - accuracy: 0.8380 - 37ms/epoch - 3ms/step\n",
            "3/3 [==============================] - 0s 6ms/step - loss: 0.5797 - accuracy: 0.7407\n",
            "Test loss: 0.5796573162078857\n",
            "Test accuracy: 0.7407407164573669\n"
          ]
        }
      ],
      "source": [
        "hist7,model7=build(X_train,y_train)\n",
        "score = model7.evaluate(X_test, y_test, verbose=1)\n",
        "print('Test loss:', score[0])\n",
        "print('Test accuracy:', score[1])"
      ]
    },
    {
      "cell_type": "markdown",
      "metadata": {
        "id": "CUpNaY94Afph"
      },
      "source": [
        "###SVMSMOTE"
      ]
    },
    {
      "cell_type": "code",
      "execution_count": 174,
      "metadata": {
        "id": "lc2efV0yAG9K"
      },
      "outputs": [],
      "source": [
        "svmsmote = SVMSMOTE()\n",
        "X_svms,y_svms = svmsmote.fit_resample(X,y)"
      ]
    },
    {
      "cell_type": "code",
      "execution_count": 175,
      "metadata": {
        "id": "PitnDiKcA09k"
      },
      "outputs": [],
      "source": [
        "X_train,X_test,y_train,y_test= train_test_split(X_svms,y_svms,test_size=0.2,random_state=2)"
      ]
    },
    {
      "cell_type": "code",
      "execution_count": 176,
      "metadata": {
        "colab": {
          "base_uri": "https://localhost:8080/"
        },
        "id": "6ZjDl4cGA4hW",
        "outputId": "6acf1a2d-5074-4c80-d751-d8e4a9897803"
      },
      "outputs": [
        {
          "name": "stdout",
          "output_type": "stream",
          "text": [
            "Model: \"sequential_20\"\n",
            "_________________________________________________________________\n",
            " Layer (type)                Output Shape              Param #   \n",
            "=================================================================\n",
            " dense_80 (Dense)            (None, 32)                1280      \n",
            "                                                                 \n",
            " dense_81 (Dense)            (None, 64)                2112      \n",
            "                                                                 \n",
            " dense_82 (Dense)            (None, 32)                2080      \n",
            "                                                                 \n",
            " dense_83 (Dense)            (None, 1)                 33        \n",
            "                                                                 \n",
            "=================================================================\n",
            "Total params: 5,505\n",
            "Trainable params: 5,505\n",
            "Non-trainable params: 0\n",
            "_________________________________________________________________\n",
            "Epoch 1/10\n",
            "11/11 - 1s - loss: 0.6818 - accuracy: 0.5234 - 1s/epoch - 119ms/step\n",
            "Epoch 2/10\n",
            "11/11 - 0s - loss: 0.6544 - accuracy: 0.6791 - 42ms/epoch - 4ms/step\n",
            "Epoch 3/10\n",
            "11/11 - 0s - loss: 0.6338 - accuracy: 0.7321 - 36ms/epoch - 3ms/step\n",
            "Epoch 4/10\n",
            "11/11 - 0s - loss: 0.6106 - accuracy: 0.7196 - 50ms/epoch - 5ms/step\n",
            "Epoch 5/10\n",
            "11/11 - 0s - loss: 0.5875 - accuracy: 0.7165 - 41ms/epoch - 4ms/step\n",
            "Epoch 6/10\n",
            "11/11 - 0s - loss: 0.5515 - accuracy: 0.7414 - 39ms/epoch - 4ms/step\n",
            "Epoch 7/10\n",
            "11/11 - 0s - loss: 0.5441 - accuracy: 0.7508 - 36ms/epoch - 3ms/step\n",
            "Epoch 8/10\n",
            "11/11 - 0s - loss: 0.5209 - accuracy: 0.7539 - 39ms/epoch - 4ms/step\n",
            "Epoch 9/10\n",
            "11/11 - 0s - loss: 0.5113 - accuracy: 0.7757 - 38ms/epoch - 3ms/step\n",
            "Epoch 10/10\n",
            "11/11 - 0s - loss: 0.5021 - accuracy: 0.7788 - 36ms/epoch - 3ms/step\n",
            "3/3 [==============================] - 0s 5ms/step - loss: 0.6541 - accuracy: 0.6420\n",
            "Test loss: 0.6540666818618774\n",
            "Test accuracy: 0.6419752836227417\n"
          ]
        }
      ],
      "source": [
        "hist8,model8=build(X_train,y_train)\n",
        "score = model8.evaluate(X_test, y_test, verbose=1)\n",
        "print('Test loss:', score[0])\n",
        "print('Test accuracy:', score[1])"
      ]
    },
    {
      "cell_type": "markdown",
      "metadata": {
        "id": "B8wrY8SuBcmD"
      },
      "source": [
        "#Undersampling"
      ]
    },
    {
      "cell_type": "markdown",
      "metadata": {
        "id": "16YKGGkdDHq_"
      },
      "source": [
        "###Near-Miss"
      ]
    },
    {
      "cell_type": "code",
      "execution_count": 177,
      "metadata": {
        "id": "lAHG4OhtBEby"
      },
      "outputs": [],
      "source": [
        "nm = NearMiss()\n",
        "X_nm, y_nm = nm.fit_resample(X, y)"
      ]
    },
    {
      "cell_type": "code",
      "execution_count": 178,
      "metadata": {
        "id": "7oBCOtlFDXVz"
      },
      "outputs": [],
      "source": [
        "X_train, X_test, y_train, y_test = train_test_split(X_nm, y_nm, test_size=0.2, random_state=42)"
      ]
    },
    {
      "cell_type": "code",
      "execution_count": 179,
      "metadata": {
        "colab": {
          "base_uri": "https://localhost:8080/"
        },
        "id": "lMXu_t6FDZtQ",
        "outputId": "5e752749-f412-4207-c9ff-55a632747da4"
      },
      "outputs": [
        {
          "name": "stdout",
          "output_type": "stream",
          "text": [
            "Model: \"sequential_21\"\n",
            "_________________________________________________________________\n",
            " Layer (type)                Output Shape              Param #   \n",
            "=================================================================\n",
            " dense_84 (Dense)            (None, 32)                1280      \n",
            "                                                                 \n",
            " dense_85 (Dense)            (None, 64)                2112      \n",
            "                                                                 \n",
            " dense_86 (Dense)            (None, 32)                2080      \n",
            "                                                                 \n",
            " dense_87 (Dense)            (None, 1)                 33        \n",
            "                                                                 \n",
            "=================================================================\n",
            "Total params: 5,505\n",
            "Trainable params: 5,505\n",
            "Non-trainable params: 0\n",
            "_________________________________________________________________\n",
            "Epoch 1/10\n",
            "5/5 - 1s - loss: 0.7207 - accuracy: 0.4632 - 1s/epoch - 277ms/step\n",
            "Epoch 2/10\n",
            "5/5 - 0s - loss: 0.6763 - accuracy: 0.5809 - 22ms/epoch - 4ms/step\n",
            "Epoch 3/10\n",
            "5/5 - 0s - loss: 0.6484 - accuracy: 0.6544 - 19ms/epoch - 4ms/step\n",
            "Epoch 4/10\n",
            "5/5 - 0s - loss: 0.6269 - accuracy: 0.6765 - 19ms/epoch - 4ms/step\n",
            "Epoch 5/10\n",
            "5/5 - 0s - loss: 0.6037 - accuracy: 0.7132 - 20ms/epoch - 4ms/step\n",
            "Epoch 6/10\n",
            "5/5 - 0s - loss: 0.5816 - accuracy: 0.7647 - 19ms/epoch - 4ms/step\n",
            "Epoch 7/10\n",
            "5/5 - 0s - loss: 0.5560 - accuracy: 0.8015 - 20ms/epoch - 4ms/step\n",
            "Epoch 8/10\n",
            "5/5 - 0s - loss: 0.5319 - accuracy: 0.7794 - 20ms/epoch - 4ms/step\n",
            "Epoch 9/10\n",
            "5/5 - 0s - loss: 0.5102 - accuracy: 0.7941 - 22ms/epoch - 4ms/step\n",
            "Epoch 10/10\n",
            "5/5 - 0s - loss: 0.4913 - accuracy: 0.7941 - 19ms/epoch - 4ms/step\n",
            "2/2 [==============================] - 0s 8ms/step - loss: 0.6565 - accuracy: 0.6176\n",
            "Test loss: 0.656501293182373\n",
            "Test accuracy: 0.6176470518112183\n"
          ]
        }
      ],
      "source": [
        "hist9,model9=build(X_train,y_train)\n",
        "score = model9.evaluate(X_test, y_test, verbose=1)\n",
        "print('Test loss:', score[0])\n",
        "print('Test accuracy:', score[1])"
      ]
    },
    {
      "cell_type": "markdown",
      "metadata": {
        "id": "rpm-sqX6EfNi"
      },
      "source": [
        "###NeighbourhoodCleaningRule"
      ]
    },
    {
      "cell_type": "code",
      "execution_count": 190,
      "metadata": {
        "id": "FJEV6ZLLEjxo"
      },
      "outputs": [],
      "source": [
        "ncr=NeighbourhoodCleaningRule()\n",
        "X_ncr,y_ncr = ncr.fit_resample(X,y)"
      ]
    },
    {
      "cell_type": "code",
      "execution_count": 191,
      "metadata": {
        "id": "RJvJ-U0pE0-7"
      },
      "outputs": [],
      "source": [
        "X_train, X_test, y_train, y_test = train_test_split(X_ncr, y_ncr, test_size=0.2, random_state=42)"
      ]
    },
    {
      "cell_type": "code",
      "execution_count": 193,
      "metadata": {
        "colab": {
          "base_uri": "https://localhost:8080/"
        },
        "id": "AvXsGfQGE02C",
        "outputId": "64da1bd8-2faf-4117-9a90-c41956274cc4"
      },
      "outputs": [
        {
          "name": "stdout",
          "output_type": "stream",
          "text": [
            "Model: \"sequential_25\"\n",
            "_________________________________________________________________\n",
            " Layer (type)                Output Shape              Param #   \n",
            "=================================================================\n",
            " dense_100 (Dense)           (None, 32)                1280      \n",
            "                                                                 \n",
            " dense_101 (Dense)           (None, 64)                2112      \n",
            "                                                                 \n",
            " dense_102 (Dense)           (None, 32)                2080      \n",
            "                                                                 \n",
            " dense_103 (Dense)           (None, 1)                 33        \n",
            "                                                                 \n",
            "=================================================================\n",
            "Total params: 5,505\n",
            "Trainable params: 5,505\n",
            "Non-trainable params: 0\n",
            "_________________________________________________________________\n",
            "Epoch 1/10\n",
            "6/6 - 2s - loss: 0.7174 - accuracy: 0.5170 - 2s/epoch - 414ms/step\n",
            "Epoch 2/10\n",
            "6/6 - 0s - loss: 0.6658 - accuracy: 0.6364 - 24ms/epoch - 4ms/step\n",
            "Epoch 3/10\n",
            "6/6 - 0s - loss: 0.6385 - accuracy: 0.6477 - 24ms/epoch - 4ms/step\n",
            "Epoch 4/10\n",
            "6/6 - 0s - loss: 0.6234 - accuracy: 0.6534 - 32ms/epoch - 5ms/step\n",
            "Epoch 5/10\n",
            "6/6 - 0s - loss: 0.6023 - accuracy: 0.6818 - 24ms/epoch - 4ms/step\n",
            "Epoch 6/10\n",
            "6/6 - 0s - loss: 0.5804 - accuracy: 0.7443 - 29ms/epoch - 5ms/step\n",
            "Epoch 7/10\n",
            "6/6 - 0s - loss: 0.5590 - accuracy: 0.7841 - 26ms/epoch - 4ms/step\n",
            "Epoch 8/10\n",
            "6/6 - 0s - loss: 0.5371 - accuracy: 0.7841 - 25ms/epoch - 4ms/step\n",
            "Epoch 9/10\n",
            "6/6 - 0s - loss: 0.5145 - accuracy: 0.7898 - 25ms/epoch - 4ms/step\n",
            "Epoch 10/10\n",
            "6/6 - 0s - loss: 0.4952 - accuracy: 0.8011 - 24ms/epoch - 4ms/step\n",
            "2/2 [==============================] - 0s 12ms/step - loss: 0.6055 - accuracy: 0.7273\n",
            "Test loss: 0.6054733395576477\n",
            "Test accuracy: 0.7272727489471436\n"
          ]
        }
      ],
      "source": [
        "hist10,model10=build(X_train,y_train)\n",
        "score = model10.evaluate(X_test, y_test, verbose=1)\n",
        "print('Test loss:', score[0])\n",
        "print('Test accuracy:', score[1])"
      ]
    },
    {
      "cell_type": "markdown",
      "metadata": {
        "id": "5ZeRmPC4EaNz"
      },
      "source": [
        "###OneSidedSelection"
      ]
    },
    {
      "cell_type": "code",
      "execution_count": 194,
      "metadata": {
        "id": "R0me8pdvDdis"
      },
      "outputs": [],
      "source": [
        "oss = OneSidedSelection(random_state=17)\n",
        "X_oss,y_oss=oss.fit_resample(X,y)"
      ]
    },
    {
      "cell_type": "code",
      "execution_count": 195,
      "metadata": {
        "id": "stAJ_GXwDmwC"
      },
      "outputs": [],
      "source": [
        "X_train, X_test, y_train, y_test = train_test_split(X_oss, y_oss, test_size=0.2, random_state=42)"
      ]
    },
    {
      "cell_type": "code",
      "execution_count": 196,
      "metadata": {
        "colab": {
          "base_uri": "https://localhost:8080/"
        },
        "id": "yrhPXgKND5eI",
        "outputId": "6b984639-d6b0-4f12-e542-6d99f10bfbdc"
      },
      "outputs": [
        {
          "name": "stdout",
          "output_type": "stream",
          "text": [
            "Model: \"sequential_26\"\n",
            "_________________________________________________________________\n",
            " Layer (type)                Output Shape              Param #   \n",
            "=================================================================\n",
            " dense_104 (Dense)           (None, 32)                1280      \n",
            "                                                                 \n",
            " dense_105 (Dense)           (None, 64)                2112      \n",
            "                                                                 \n",
            " dense_106 (Dense)           (None, 32)                2080      \n",
            "                                                                 \n",
            " dense_107 (Dense)           (None, 1)                 33        \n",
            "                                                                 \n",
            "=================================================================\n",
            "Total params: 5,505\n",
            "Trainable params: 5,505\n",
            "Non-trainable params: 0\n",
            "_________________________________________________________________\n",
            "Epoch 1/10\n",
            "7/7 - 2s - loss: 0.7061 - accuracy: 0.4760 - 2s/epoch - 283ms/step\n",
            "Epoch 2/10\n",
            "7/7 - 0s - loss: 0.6503 - accuracy: 0.6731 - 40ms/epoch - 6ms/step\n",
            "Epoch 3/10\n",
            "7/7 - 0s - loss: 0.6231 - accuracy: 0.6731 - 49ms/epoch - 7ms/step\n",
            "Epoch 4/10\n",
            "7/7 - 0s - loss: 0.6130 - accuracy: 0.6731 - 42ms/epoch - 6ms/step\n",
            "Epoch 5/10\n",
            "7/7 - 0s - loss: 0.6044 - accuracy: 0.6731 - 40ms/epoch - 6ms/step\n",
            "Epoch 6/10\n",
            "7/7 - 0s - loss: 0.5911 - accuracy: 0.6731 - 36ms/epoch - 5ms/step\n",
            "Epoch 7/10\n",
            "7/7 - 0s - loss: 0.5808 - accuracy: 0.6731 - 38ms/epoch - 5ms/step\n",
            "Epoch 8/10\n",
            "7/7 - 0s - loss: 0.5678 - accuracy: 0.6827 - 38ms/epoch - 5ms/step\n",
            "Epoch 9/10\n",
            "7/7 - 0s - loss: 0.5535 - accuracy: 0.7212 - 44ms/epoch - 6ms/step\n",
            "Epoch 10/10\n",
            "7/7 - 0s - loss: 0.5366 - accuracy: 0.7452 - 34ms/epoch - 5ms/step\n",
            "2/2 [==============================] - 0s 8ms/step - loss: 0.5297 - accuracy: 0.7736\n",
            "Test loss: 0.5297319889068604\n",
            "Test accuracy: 0.7735849022865295\n"
          ]
        }
      ],
      "source": [
        "hist11,model11=build(X_train,y_train)\n",
        "score = model11.evaluate(X_test, y_test, verbose=1)\n",
        "print('Test loss:', score[0])\n",
        "print('Test accuracy:', score[1])"
      ]
    },
    {
      "cell_type": "markdown",
      "metadata": {
        "id": "ddpH45eaETxl"
      },
      "source": [
        "###RandomUnderSampler"
      ]
    },
    {
      "cell_type": "code",
      "execution_count": 197,
      "metadata": {
        "id": "o1YLLDKHD8vT"
      },
      "outputs": [],
      "source": [
        "rus = RandomUnderSampler(random_state=17)\n",
        "X_rus,y_rus=rus.fit_resample(X,y)"
      ]
    },
    {
      "cell_type": "code",
      "execution_count": 198,
      "metadata": {
        "id": "7Tb3XAZ3FNiZ"
      },
      "outputs": [],
      "source": [
        "X_train, X_test, y_train, y_test = train_test_split(X_rus, y_rus, test_size=0.2, random_state=42)"
      ]
    },
    {
      "cell_type": "code",
      "execution_count": 199,
      "metadata": {
        "colab": {
          "base_uri": "https://localhost:8080/"
        },
        "id": "TkHVSTo8FQ-I",
        "outputId": "6bdad850-57e0-4375-aba1-d2c13656d9a9"
      },
      "outputs": [
        {
          "name": "stdout",
          "output_type": "stream",
          "text": [
            "Model: \"sequential_27\"\n",
            "_________________________________________________________________\n",
            " Layer (type)                Output Shape              Param #   \n",
            "=================================================================\n",
            " dense_108 (Dense)           (None, 32)                1280      \n",
            "                                                                 \n",
            " dense_109 (Dense)           (None, 64)                2112      \n",
            "                                                                 \n",
            " dense_110 (Dense)           (None, 32)                2080      \n",
            "                                                                 \n",
            " dense_111 (Dense)           (None, 1)                 33        \n",
            "                                                                 \n",
            "=================================================================\n",
            "Total params: 5,505\n",
            "Trainable params: 5,505\n",
            "Non-trainable params: 0\n",
            "_________________________________________________________________\n",
            "Epoch 1/10\n",
            "5/5 - 2s - loss: 0.6893 - accuracy: 0.5147 - 2s/epoch - 357ms/step\n",
            "Epoch 2/10\n",
            "5/5 - 0s - loss: 0.6722 - accuracy: 0.6691 - 20ms/epoch - 4ms/step\n",
            "Epoch 3/10\n",
            "5/5 - 0s - loss: 0.6603 - accuracy: 0.7206 - 21ms/epoch - 4ms/step\n",
            "Epoch 4/10\n",
            "5/5 - 0s - loss: 0.6523 - accuracy: 0.6838 - 21ms/epoch - 4ms/step\n",
            "Epoch 5/10\n",
            "5/5 - 0s - loss: 0.6442 - accuracy: 0.6912 - 21ms/epoch - 4ms/step\n",
            "Epoch 6/10\n",
            "5/5 - 0s - loss: 0.6342 - accuracy: 0.6691 - 21ms/epoch - 4ms/step\n",
            "Epoch 7/10\n",
            "5/5 - 0s - loss: 0.6207 - accuracy: 0.7279 - 21ms/epoch - 4ms/step\n",
            "Epoch 8/10\n",
            "5/5 - 0s - loss: 0.6096 - accuracy: 0.7500 - 20ms/epoch - 4ms/step\n",
            "Epoch 9/10\n",
            "5/5 - 0s - loss: 0.5987 - accuracy: 0.7500 - 20ms/epoch - 4ms/step\n",
            "Epoch 10/10\n",
            "5/5 - 0s - loss: 0.5870 - accuracy: 0.7574 - 21ms/epoch - 4ms/step\n",
            "2/2 [==============================] - 0s 8ms/step - loss: 0.6824 - accuracy: 0.5588\n",
            "Test loss: 0.6824073195457458\n",
            "Test accuracy: 0.5588235259056091\n"
          ]
        }
      ],
      "source": [
        "hist12,model12=build(X_train,y_train)\n",
        "score = model12.evaluate(X_test, y_test, verbose=1)\n",
        "print('Test loss:', score[0])\n",
        "print('Test accuracy:', score[1])"
      ]
    },
    {
      "cell_type": "markdown",
      "metadata": {
        "id": "UPWWYDw0FbLw"
      },
      "source": [
        "###TomekLinks"
      ]
    },
    {
      "cell_type": "code",
      "execution_count": 201,
      "metadata": {
        "id": "0NDrVWntFT0-"
      },
      "outputs": [],
      "source": [
        "tml = TomekLinks()\n",
        "X_tml,y_tml=tml.fit_resample(X,y)"
      ]
    },
    {
      "cell_type": "code",
      "execution_count": 202,
      "metadata": {
        "id": "S8U-hZSeFl4X"
      },
      "outputs": [],
      "source": [
        "X_train, X_test, y_train, y_test = train_test_split(X_tml, y_tml, test_size=0.2, random_state=42)"
      ]
    },
    {
      "cell_type": "code",
      "execution_count": 203,
      "metadata": {
        "colab": {
          "base_uri": "https://localhost:8080/"
        },
        "id": "Y8_1qvEbFrQR",
        "outputId": "7d9497b0-5d59-4df3-da46-46b48454cc0f"
      },
      "outputs": [
        {
          "name": "stdout",
          "output_type": "stream",
          "text": [
            "Model: \"sequential_28\"\n",
            "_________________________________________________________________\n",
            " Layer (type)                Output Shape              Param #   \n",
            "=================================================================\n",
            " dense_112 (Dense)           (None, 32)                1280      \n",
            "                                                                 \n",
            " dense_113 (Dense)           (None, 64)                2112      \n",
            "                                                                 \n",
            " dense_114 (Dense)           (None, 32)                2080      \n",
            "                                                                 \n",
            " dense_115 (Dense)           (None, 1)                 33        \n",
            "                                                                 \n",
            "=================================================================\n",
            "Total params: 5,505\n",
            "Trainable params: 5,505\n",
            "Non-trainable params: 0\n",
            "_________________________________________________________________\n",
            "Epoch 1/10\n",
            "7/7 - 3s - loss: 0.7125 - accuracy: 0.4636 - 3s/epoch - 476ms/step\n",
            "Epoch 2/10\n",
            "7/7 - 0s - loss: 0.6275 - accuracy: 0.7182 - 27ms/epoch - 4ms/step\n",
            "Epoch 3/10\n",
            "7/7 - 0s - loss: 0.6031 - accuracy: 0.6864 - 29ms/epoch - 4ms/step\n",
            "Epoch 4/10\n",
            "7/7 - 0s - loss: 0.5878 - accuracy: 0.6864 - 28ms/epoch - 4ms/step\n",
            "Epoch 5/10\n",
            "7/7 - 0s - loss: 0.5750 - accuracy: 0.7045 - 32ms/epoch - 5ms/step\n",
            "Epoch 6/10\n",
            "7/7 - 0s - loss: 0.5571 - accuracy: 0.7273 - 28ms/epoch - 4ms/step\n",
            "Epoch 7/10\n",
            "7/7 - 0s - loss: 0.5450 - accuracy: 0.7409 - 26ms/epoch - 4ms/step\n",
            "Epoch 8/10\n",
            "7/7 - 0s - loss: 0.5317 - accuracy: 0.7591 - 26ms/epoch - 4ms/step\n",
            "Epoch 9/10\n",
            "7/7 - 0s - loss: 0.5187 - accuracy: 0.7591 - 28ms/epoch - 4ms/step\n",
            "Epoch 10/10\n",
            "7/7 - 0s - loss: 0.5048 - accuracy: 0.7636 - 25ms/epoch - 4ms/step\n",
            "2/2 [==============================] - 0s 8ms/step - loss: 0.5544 - accuracy: 0.7679\n",
            "Test loss: 0.5544368624687195\n",
            "Test accuracy: 0.7678571343421936\n"
          ]
        }
      ],
      "source": [
        "hist13,model13=build(X_train,y_train)\n",
        "score = model13.evaluate(X_test, y_test, verbose=1)\n",
        "print('Test loss:', score[0])\n",
        "print('Test accuracy:', score[1])"
      ]
    },
    {
      "cell_type": "code",
      "execution_count": null,
      "metadata": {
        "id": "3dxdaKwEFuDP"
      },
      "outputs": [],
      "source": []
    }
  ],
  "metadata": {
    "accelerator": "GPU",
    "colab": {
      "collapsed_sections": [
        "WXECrC2DxKU6",
        "-b2CusbSxTBe",
        "-HqsT52Hys8T",
        "5HCbtE5N0Vjf",
        "BqETBihg3UP0",
        "zYBHxKB09KEa",
        "VichRtCf9jPr",
        "Kd2EXUXd9-kn",
        "CUpNaY94Afph",
        "B8wrY8SuBcmD",
        "16YKGGkdDHq_",
        "rpm-sqX6EfNi",
        "5ZeRmPC4EaNz",
        "ddpH45eaETxl",
        "UPWWYDw0FbLw"
      ],
      "provenance": []
    },
    "gpuClass": "standard",
    "kernelspec": {
      "display_name": "Python 3",
      "name": "python3"
    },
    "language_info": {
      "name": "python"
    }
  },
  "nbformat": 4,
  "nbformat_minor": 0
}
