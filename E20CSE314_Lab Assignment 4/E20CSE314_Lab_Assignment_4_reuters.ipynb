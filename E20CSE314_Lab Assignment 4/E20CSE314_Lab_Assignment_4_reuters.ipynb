{
  "nbformat": 4,
  "nbformat_minor": 0,
  "metadata": {
    "colab": {
      "provenance": []
    },
    "kernelspec": {
      "name": "python3",
      "display_name": "Python 3"
    },
    "language_info": {
      "name": "python"
    },
    "accelerator": "GPU",
    "gpuClass": "standard"
  },
  "cells": [
    {
      "cell_type": "code",
      "execution_count": 58,
      "metadata": {
        "id": "JbXxwLsa_JGM"
      },
      "outputs": [],
      "source": [
        "import numpy as np\n",
        "import pandas as pd\n",
        "import matplotlib.pyplot as plt\n",
        "import tensorflow as tf\n",
        "from tensorflow import keras\n",
        "\n",
        "import os\n",
        "for dirname, _, filenames in os.walk('/kaggle/input/reuters'):\n",
        "    for filename in filenames:\n",
        "        print(os.path.join(dirname, filename))\n",
        "        \n",
        "import warnings\n",
        "warnings.filterwarnings('ignore') \n",
        "from keras import layers, models, callbacks\n",
        "from keras.layers.core import Dense, Dropout "
      ]
    },
    {
      "cell_type": "code",
      "source": [
        "from IPython.core.interactiveshell import InteractiveShell\n",
        "InteractiveShell.ast_node_interactivity = \"all\""
      ],
      "metadata": {
        "id": "gKfWj9CW_heU"
      },
      "execution_count": 59,
      "outputs": []
    },
    {
      "cell_type": "code",
      "source": [
        "reuters = tf.keras.datasets.reuters\n",
        "\n",
        "(x_train, y_train), (x_test, y_test) = reuters.load_data()"
      ],
      "metadata": {
        "id": "TvbmDkP0_h3g"
      },
      "execution_count": 60,
      "outputs": []
    },
    {
      "cell_type": "code",
      "source": [
        "reuters"
      ],
      "metadata": {
        "colab": {
          "base_uri": "https://localhost:8080/"
        },
        "id": "umA33vGO_w0p",
        "outputId": "9e703bbd-0735-4031-bf89-fb32e8fe6f2e"
      },
      "execution_count": 61,
      "outputs": [
        {
          "output_type": "execute_result",
          "data": {
            "text/plain": [
              "<module 'keras.api._v2.keras.datasets.reuters' from '/usr/local/lib/python3.8/dist-packages/keras/api/_v2/keras/datasets/reuters/__init__.py'>"
            ]
          },
          "metadata": {},
          "execution_count": 61
        }
      ]
    },
    {
      "cell_type": "code",
      "source": [
        "x_train.shape"
      ],
      "metadata": {
        "colab": {
          "base_uri": "https://localhost:8080/"
        },
        "id": "mkVB2XLT_yte",
        "outputId": "18f92823-ac54-4b7d-ceab-6ce623ae041a"
      },
      "execution_count": 62,
      "outputs": [
        {
          "output_type": "execute_result",
          "data": {
            "text/plain": [
              "(8982,)"
            ]
          },
          "metadata": {},
          "execution_count": 62
        }
      ]
    },
    {
      "cell_type": "code",
      "source": [
        "from keras import utils\n",
        "from keras.preprocessing.text import Tokenizer\n",
        "\n",
        "t = Tokenizer(num_words=10000)\n",
        "seq = np.concatenate((x_train, x_test), axis=0)\n",
        "t.fit_on_sequences(seq)\n",
        "\n",
        "xt_train = t.sequences_to_matrix(x_train, mode='tfidf')\n",
        "xt_test = t.sequences_to_matrix(x_test, mode='tfidf')\n",
        "\n",
        "yt_train = utils.to_categorical(y_train, max(y_train) + 1)\n",
        "yt_test = utils.to_categorical(y_test, max(y_train) + 1)"
      ],
      "metadata": {
        "id": "eeNk7IHx_8vH"
      },
      "execution_count": 63,
      "outputs": []
    },
    {
      "cell_type": "code",
      "source": [
        "activations = ['relu', 'softmax'] \n",
        "layer_sizes = [512, 46] # for each layer a size is given\n",
        "optimizer_method = 'adadelta'\n",
        "batch_size = 128\n",
        "epochs = 5\n",
        "callback = callbacks.EarlyStopping(monitor='val_loss', min_delta=0.001, \n",
        "                                   patience=2, mode='auto')"
      ],
      "metadata": {
        "id": "dLe83qRhAkd3"
      },
      "execution_count": 64,
      "outputs": []
    },
    {
      "cell_type": "code",
      "source": [],
      "metadata": {
        "id": "-b65IyqDBDjt"
      },
      "execution_count": 64,
      "outputs": []
    },
    {
      "cell_type": "code",
      "source": [
        "#a)only gradient Descent\n",
        "\n",
        "modelgd = models.Sequential()\n",
        "modelgd.add(layers.Dense(layer_sizes[0], input_shape=(10000,), activation=activations[0]))\n",
        "modelgd.add(Dropout(0.5))\n",
        "modelgd.add(layers.Dense(layer_sizes[1], activation=activations[1]))\n",
        "modelgd.compile(loss=tf.keras.losses.SparseCategoricalCrossentropy(from_logits=True), metrics=['accuracy'])\n",
        "\n",
        "#b) ADAGRAD\n",
        "\n",
        "modeladgrad = models.Sequential()\n",
        "modeladgrad.add(layers.Dense(layer_sizes[0], input_shape=(10000,), activation=activations[0]))\n",
        "modeladgrad.add(Dropout(0.5))\n",
        "modeladgrad.add(layers.Dense(layer_sizes[1], activation=activations[1]))\n",
        "modeladgrad.compile(optimizer='adagrad', loss=tf.keras.losses.SparseCategoricalCrossentropy(from_logits=True), metrics=['accuracy'])\n",
        "\n",
        "#c) RMSPROP\n",
        "\n",
        "modelrms = models.Sequential()\n",
        "modelrms.add(layers.Dense(layer_sizes[0], input_shape=(10000,), activation=activations[0]))\n",
        "modelrms.add(Dropout(0.5))\n",
        "modelrms.add(layers.Dense(layer_sizes[1], activation=activations[1]))\n",
        "modelrms.compile(optimizer='RMSprop', loss=tf.keras.losses.SparseCategoricalCrossentropy(from_logits=True), metrics=['accuracy'])\n",
        "\n",
        "#d) ADAM\n",
        "\n",
        "modeladm = models.Sequential()\n",
        "modeladm.add(layers.Dense(layer_sizes[0], input_shape=(10000,), activation=activations[0]))\n",
        "modeladm.add(Dropout(0.5))\n",
        "modeladm.add(layers.Dense(layer_sizes[1], activation=activations[1]))\n",
        "modeladm.compile(optimizer='adam', loss=tf.keras.losses.SparseCategoricalCrossentropy(from_logits=True), metrics=['accuracy'])\n",
        "\n",
        "\n",
        "\n",
        "\n",
        "\n",
        "#e) ADADELTA\n",
        "\n",
        "modeladadelta = models.Sequential()\n",
        "modeladadelta.add(layers.Dense(layer_sizes[0], input_shape=(10000,), activation=activations[0]))\n",
        "modeladadelta.add(Dropout(0.5))\n",
        "modeladadelta.add(layers.Dense(layer_sizes[1], activation=activations[1]))\n",
        "modeladadelta.compile(optimizer='Adadelta', loss=tf.keras.losses.SparseCategoricalCrossentropy(from_logits=True), metrics=['accuracy'])\n",
        "           \n",
        "\n",
        "\n",
        "#f) SGD\n",
        "\n",
        "modelsgd = models.Sequential()\n",
        "modelsgd.add(layers.Dense(layer_sizes[0], input_shape=(10000,), activation=activations[0]))\n",
        "modelsgd.add(Dropout(0.5))\n",
        "modelsgd.add(layers.Dense(layer_sizes[1], activation=activations[1]))\n",
        "modelsgd.compile(optimizer='SGD', loss=tf.keras.losses.SparseCategoricalCrossentropy(from_logits=True), metrics=['accuracy'])"
      ],
      "metadata": {
        "id": "2ezRkIyZBIYh"
      },
      "execution_count": 65,
      "outputs": []
    },
    {
      "cell_type": "code",
      "source": [
        "Hist1=modelgd.fit(xt_train, y_train, epochs=10)"
      ],
      "metadata": {
        "colab": {
          "base_uri": "https://localhost:8080/"
        },
        "id": "CGpgc4UYDMZF",
        "outputId": "bf4cb20f-5cc6-4c57-af26-908000a9b67c"
      },
      "execution_count": 66,
      "outputs": [
        {
          "output_type": "stream",
          "name": "stdout",
          "text": [
            "Epoch 1/10\n",
            "281/281 [==============================] - 2s 5ms/step - loss: 1.1963 - accuracy: 0.7640\n",
            "Epoch 2/10\n",
            "281/281 [==============================] - 1s 5ms/step - loss: 0.5211 - accuracy: 0.8989\n",
            "Epoch 3/10\n",
            "281/281 [==============================] - 1s 4ms/step - loss: 0.3604 - accuracy: 0.9360\n",
            "Epoch 4/10\n",
            "281/281 [==============================] - 1s 4ms/step - loss: 0.3055 - accuracy: 0.9457\n",
            "Epoch 5/10\n",
            "281/281 [==============================] - 1s 4ms/step - loss: 0.2951 - accuracy: 0.9508\n",
            "Epoch 6/10\n",
            "281/281 [==============================] - 1s 4ms/step - loss: 0.2784 - accuracy: 0.9525\n",
            "Epoch 7/10\n",
            "281/281 [==============================] - 1s 4ms/step - loss: 0.2843 - accuracy: 0.9519\n",
            "Epoch 8/10\n",
            "281/281 [==============================] - 1s 4ms/step - loss: 0.2714 - accuracy: 0.9534\n",
            "Epoch 9/10\n",
            "281/281 [==============================] - 1s 4ms/step - loss: 0.2653 - accuracy: 0.9536\n",
            "Epoch 10/10\n",
            "281/281 [==============================] - 1s 4ms/step - loss: 0.2884 - accuracy: 0.9539\n"
          ]
        }
      ]
    },
    {
      "cell_type": "code",
      "source": [
        "hist2=modeladgrad.fit(xt_train, y_train, epochs=15)"
      ],
      "metadata": {
        "colab": {
          "base_uri": "https://localhost:8080/"
        },
        "id": "zaVUNrm_Dicq",
        "outputId": "fcf7108f-41f5-4f80-82b8-887e46b54501"
      },
      "execution_count": 67,
      "outputs": [
        {
          "output_type": "stream",
          "name": "stdout",
          "text": [
            "Epoch 1/15\n",
            "281/281 [==============================] - 2s 4ms/step - loss: 2.5766 - accuracy: 0.4701\n",
            "Epoch 2/15\n",
            "281/281 [==============================] - 1s 4ms/step - loss: 1.6738 - accuracy: 0.6486\n",
            "Epoch 3/15\n",
            "281/281 [==============================] - 1s 5ms/step - loss: 1.3737 - accuracy: 0.7054\n",
            "Epoch 4/15\n",
            "281/281 [==============================] - 1s 4ms/step - loss: 1.1858 - accuracy: 0.7453\n",
            "Epoch 5/15\n",
            "281/281 [==============================] - 1s 4ms/step - loss: 1.0718 - accuracy: 0.7717\n",
            "Epoch 6/15\n",
            "281/281 [==============================] - 1s 4ms/step - loss: 0.9653 - accuracy: 0.7931\n",
            "Epoch 7/15\n",
            "281/281 [==============================] - 1s 4ms/step - loss: 0.8901 - accuracy: 0.8112\n",
            "Epoch 8/15\n",
            "281/281 [==============================] - 1s 4ms/step - loss: 0.8170 - accuracy: 0.8264\n",
            "Epoch 9/15\n",
            "281/281 [==============================] - 1s 4ms/step - loss: 0.7589 - accuracy: 0.8421\n",
            "Epoch 10/15\n",
            "281/281 [==============================] - 1s 4ms/step - loss: 0.7106 - accuracy: 0.8511\n",
            "Epoch 11/15\n",
            "281/281 [==============================] - 1s 4ms/step - loss: 0.6623 - accuracy: 0.8633\n",
            "Epoch 12/15\n",
            "281/281 [==============================] - 1s 4ms/step - loss: 0.6368 - accuracy: 0.8721\n",
            "Epoch 13/15\n",
            "281/281 [==============================] - 1s 4ms/step - loss: 0.5957 - accuracy: 0.8781\n",
            "Epoch 14/15\n",
            "281/281 [==============================] - 1s 5ms/step - loss: 0.5628 - accuracy: 0.8852\n",
            "Epoch 15/15\n",
            "281/281 [==============================] - 1s 4ms/step - loss: 0.5371 - accuracy: 0.8886\n"
          ]
        }
      ]
    },
    {
      "cell_type": "code",
      "source": [
        "hist3=modelrms.fit(xt_train, y_train, epochs=15)"
      ],
      "metadata": {
        "colab": {
          "base_uri": "https://localhost:8080/"
        },
        "id": "m-Svw0gWEBdC",
        "outputId": "62f3f280-e2a0-4c9f-df8f-3e923d4b6d6f"
      },
      "execution_count": 68,
      "outputs": [
        {
          "output_type": "stream",
          "name": "stdout",
          "text": [
            "Epoch 1/15\n",
            "281/281 [==============================] - 2s 4ms/step - loss: 1.2068 - accuracy: 0.7686\n",
            "Epoch 2/15\n",
            "281/281 [==============================] - 1s 4ms/step - loss: 0.5132 - accuracy: 0.9030\n",
            "Epoch 3/15\n",
            "281/281 [==============================] - 1s 4ms/step - loss: 0.3666 - accuracy: 0.9375\n",
            "Epoch 4/15\n",
            "281/281 [==============================] - 2s 6ms/step - loss: 0.3197 - accuracy: 0.9452\n",
            "Epoch 5/15\n",
            "281/281 [==============================] - 1s 5ms/step - loss: 0.2948 - accuracy: 0.9507\n",
            "Epoch 6/15\n",
            "281/281 [==============================] - 1s 4ms/step - loss: 0.2843 - accuracy: 0.9535\n",
            "Epoch 7/15\n",
            "281/281 [==============================] - 1s 4ms/step - loss: 0.2760 - accuracy: 0.9511\n",
            "Epoch 8/15\n",
            "281/281 [==============================] - 1s 5ms/step - loss: 0.2590 - accuracy: 0.9547\n",
            "Epoch 9/15\n",
            "281/281 [==============================] - 1s 4ms/step - loss: 0.2706 - accuracy: 0.9548\n",
            "Epoch 10/15\n",
            "281/281 [==============================] - 1s 4ms/step - loss: 0.2709 - accuracy: 0.9561\n",
            "Epoch 11/15\n",
            "281/281 [==============================] - 1s 4ms/step - loss: 0.2608 - accuracy: 0.9554\n",
            "Epoch 12/15\n",
            "281/281 [==============================] - 1s 4ms/step - loss: 0.2487 - accuracy: 0.9546\n",
            "Epoch 13/15\n",
            "281/281 [==============================] - 1s 4ms/step - loss: 0.2610 - accuracy: 0.9565\n",
            "Epoch 14/15\n",
            "281/281 [==============================] - 1s 4ms/step - loss: 0.2781 - accuracy: 0.9562\n",
            "Epoch 15/15\n",
            "281/281 [==============================] - 1s 4ms/step - loss: 0.2445 - accuracy: 0.9577\n"
          ]
        }
      ]
    },
    {
      "cell_type": "code",
      "source": [
        "hist4=modeladm.fit(xt_train, y_train, epochs=15)"
      ],
      "metadata": {
        "colab": {
          "base_uri": "https://localhost:8080/"
        },
        "id": "kCVJbJRxEJtO",
        "outputId": "bb604a23-0691-41fe-c85a-ab55823ef8c2"
      },
      "execution_count": 69,
      "outputs": [
        {
          "output_type": "stream",
          "name": "stdout",
          "text": [
            "Epoch 1/15\n",
            "281/281 [==============================] - 3s 5ms/step - loss: 1.2104 - accuracy: 0.7574\n",
            "Epoch 2/15\n",
            "281/281 [==============================] - 2s 8ms/step - loss: 0.4504 - accuracy: 0.9156\n",
            "Epoch 3/15\n",
            "281/281 [==============================] - 1s 4ms/step - loss: 0.3704 - accuracy: 0.9404\n",
            "Epoch 4/15\n",
            "281/281 [==============================] - 1s 4ms/step - loss: 0.3474 - accuracy: 0.9439\n",
            "Epoch 5/15\n",
            "281/281 [==============================] - 1s 4ms/step - loss: 0.3651 - accuracy: 0.9457\n",
            "Epoch 6/15\n",
            "281/281 [==============================] - 1s 4ms/step - loss: 0.3569 - accuracy: 0.9476\n",
            "Epoch 7/15\n",
            "281/281 [==============================] - 1s 4ms/step - loss: 0.3772 - accuracy: 0.9487\n",
            "Epoch 8/15\n",
            "281/281 [==============================] - 1s 4ms/step - loss: 0.3856 - accuracy: 0.9480\n",
            "Epoch 9/15\n",
            "281/281 [==============================] - 1s 4ms/step - loss: 0.3998 - accuracy: 0.9468\n",
            "Epoch 10/15\n",
            "281/281 [==============================] - 1s 4ms/step - loss: 0.3840 - accuracy: 0.9516\n",
            "Epoch 11/15\n",
            "281/281 [==============================] - 1s 4ms/step - loss: 0.3494 - accuracy: 0.9529\n",
            "Epoch 12/15\n",
            "281/281 [==============================] - 1s 5ms/step - loss: 0.4278 - accuracy: 0.9491\n",
            "Epoch 13/15\n",
            "281/281 [==============================] - 1s 5ms/step - loss: 0.4016 - accuracy: 0.9497\n",
            "Epoch 14/15\n",
            "281/281 [==============================] - 1s 4ms/step - loss: 0.3416 - accuracy: 0.9530\n",
            "Epoch 15/15\n",
            "281/281 [==============================] - 1s 4ms/step - loss: 0.3715 - accuracy: 0.9509\n"
          ]
        }
      ]
    },
    {
      "cell_type": "code",
      "source": [
        "hist5=modeladadelta.fit(xt_train, y_train, epochs=15)"
      ],
      "metadata": {
        "colab": {
          "base_uri": "https://localhost:8080/"
        },
        "id": "vMqmFfLuEOEr",
        "outputId": "e9bd131a-5b98-4a90-8aa9-f156b775480c"
      },
      "execution_count": 70,
      "outputs": [
        {
          "output_type": "stream",
          "name": "stdout",
          "text": [
            "Epoch 1/15\n",
            "281/281 [==============================] - 2s 4ms/step - loss: 4.0552 - accuracy: 0.0210\n",
            "Epoch 2/15\n",
            "281/281 [==============================] - 1s 4ms/step - loss: 3.9626 - accuracy: 0.0353\n",
            "Epoch 3/15\n",
            "281/281 [==============================] - 1s 4ms/step - loss: 3.8627 - accuracy: 0.0573\n",
            "Epoch 4/15\n",
            "281/281 [==============================] - 1s 4ms/step - loss: 3.7624 - accuracy: 0.0925\n",
            "Epoch 5/15\n",
            "281/281 [==============================] - 1s 4ms/step - loss: 3.6805 - accuracy: 0.1335\n",
            "Epoch 6/15\n",
            "281/281 [==============================] - 1s 5ms/step - loss: 3.5961 - accuracy: 0.1782\n",
            "Epoch 7/15\n",
            "281/281 [==============================] - 1s 5ms/step - loss: 3.5083 - accuracy: 0.2242\n",
            "Epoch 8/15\n",
            "281/281 [==============================] - 1s 4ms/step - loss: 3.4292 - accuracy: 0.2760\n",
            "Epoch 9/15\n",
            "281/281 [==============================] - 1s 4ms/step - loss: 3.3355 - accuracy: 0.3182\n",
            "Epoch 10/15\n",
            "281/281 [==============================] - 1s 4ms/step - loss: 3.2818 - accuracy: 0.3507\n",
            "Epoch 11/15\n",
            "281/281 [==============================] - 1s 4ms/step - loss: 3.2027 - accuracy: 0.3812\n",
            "Epoch 12/15\n",
            "281/281 [==============================] - 1s 4ms/step - loss: 3.1217 - accuracy: 0.4019\n",
            "Epoch 13/15\n",
            "281/281 [==============================] - 1s 4ms/step - loss: 3.0727 - accuracy: 0.4165\n",
            "Epoch 14/15\n",
            "281/281 [==============================] - 1s 4ms/step - loss: 2.9931 - accuracy: 0.4314\n",
            "Epoch 15/15\n",
            "281/281 [==============================] - 1s 4ms/step - loss: 2.9385 - accuracy: 0.4488\n"
          ]
        }
      ]
    },
    {
      "cell_type": "code",
      "source": [
        "hist6=modelsgd.fit(xt_train, y_train, epochs=15)"
      ],
      "metadata": {
        "colab": {
          "base_uri": "https://localhost:8080/"
        },
        "id": "vrREUQoUEYEC",
        "outputId": "958da170-cad8-4206-c34b-a8f520496a64"
      },
      "execution_count": 71,
      "outputs": [
        {
          "output_type": "stream",
          "name": "stdout",
          "text": [
            "Epoch 1/15\n",
            "281/281 [==============================] - 2s 5ms/step - loss: 1.8429 - accuracy: 0.6128\n",
            "Epoch 2/15\n",
            "281/281 [==============================] - 1s 4ms/step - loss: 1.0077 - accuracy: 0.7817\n",
            "Epoch 3/15\n",
            "281/281 [==============================] - 1s 4ms/step - loss: 0.7379 - accuracy: 0.8464\n",
            "Epoch 4/15\n",
            "281/281 [==============================] - 1s 4ms/step - loss: 0.5795 - accuracy: 0.8791\n",
            "Epoch 5/15\n",
            "281/281 [==============================] - 1s 4ms/step - loss: 0.4789 - accuracy: 0.8981\n",
            "Epoch 6/15\n",
            "281/281 [==============================] - 1s 4ms/step - loss: 0.4077 - accuracy: 0.9112\n",
            "Epoch 7/15\n",
            "281/281 [==============================] - 1s 4ms/step - loss: 0.3567 - accuracy: 0.9217\n",
            "Epoch 8/15\n",
            "281/281 [==============================] - 1s 4ms/step - loss: 0.3146 - accuracy: 0.9303\n",
            "Epoch 9/15\n",
            "281/281 [==============================] - 1s 4ms/step - loss: 0.2896 - accuracy: 0.9356\n",
            "Epoch 10/15\n",
            "281/281 [==============================] - 1s 4ms/step - loss: 0.2534 - accuracy: 0.9415\n",
            "Epoch 11/15\n",
            "281/281 [==============================] - 1s 4ms/step - loss: 0.2454 - accuracy: 0.9437\n",
            "Epoch 12/15\n",
            "281/281 [==============================] - 1s 5ms/step - loss: 0.2253 - accuracy: 0.9444\n",
            "Epoch 13/15\n",
            "281/281 [==============================] - 1s 5ms/step - loss: 0.2088 - accuracy: 0.9493\n",
            "Epoch 14/15\n",
            "281/281 [==============================] - 1s 4ms/step - loss: 0.2001 - accuracy: 0.9490\n",
            "Epoch 15/15\n",
            "281/281 [==============================] - 1s 4ms/step - loss: 0.1922 - accuracy: 0.9501\n"
          ]
        }
      ]
    },
    {
      "cell_type": "code",
      "source": [
        "ep=np.arange(2,20,2)"
      ],
      "metadata": {
        "id": "oH56PbwyEiiO"
      },
      "execution_count": 72,
      "outputs": []
    },
    {
      "cell_type": "code",
      "source": [
        "acc1=Hist1.history['accuracy']\n",
        "acc2=hist2.history['accuracy']\n",
        "acc3=hist3.history['accuracy']\n",
        "acc4=hist4.history['accuracy']\n",
        "acc5=hist5.history['accuracy']\n",
        "acc6=hist6.history['accuracy']\n",
        "\n",
        "\n",
        "list_of_tuples = list(zip(ep,acc1,acc2,acc3,acc4,acc5,acc6)) "
      ],
      "metadata": {
        "id": "IfbJUa0LEi7-"
      },
      "execution_count": 73,
      "outputs": []
    },
    {
      "cell_type": "code",
      "source": [
        "df = pd.DataFrame(list_of_tuples, columns = ['Epoch','onlyGD','Adagrad','RMSprop', 'ADAM','AdaDelta','SGD']) "
      ],
      "metadata": {
        "id": "Md6jznPJEkno"
      },
      "execution_count": 74,
      "outputs": []
    },
    {
      "cell_type": "code",
      "source": [
        "df.index = df['Epoch']\n",
        "df.plot(figsize=(10,10))\n",
        "plt.grid(True)\n",
        "plt.gca().set_ylim(0, 1) # set the vertical range to [0-1]\n",
        "plt.show()"
      ],
      "metadata": {
        "colab": {
          "base_uri": "https://localhost:8080/",
          "height": 628
        },
        "id": "IlZTSQXREmju",
        "outputId": "906ecd8d-ee19-4073-e6d9-854670d80445"
      },
      "execution_count": 75,
      "outputs": [
        {
          "output_type": "execute_result",
          "data": {
            "text/plain": [
              "<AxesSubplot:xlabel='Epoch'>"
            ]
          },
          "metadata": {},
          "execution_count": 75
        },
        {
          "output_type": "execute_result",
          "data": {
            "text/plain": [
              "(0.0, 1.0)"
            ]
          },
          "metadata": {},
          "execution_count": 75
        },
        {
          "output_type": "display_data",
          "data": {
            "text/plain": [
              "<Figure size 720x720 with 1 Axes>"
            ],
            "image/png": "[encoded data removed]"
          },
          "metadata": {
            "needs_background": "light"
          }
        }
      ]
    },
    {
      "cell_type": "code",
      "source": [
        "print(\"Gradient Descent:\")\n",
        "modelgd.evaluate(xt_test, y_test)\n",
        "print(\"\\n\")\n",
        "print(\"\\nAdgrad:\")\n",
        "modeladgrad.evaluate(xt_test, y_test)\n",
        "print(\"\\n\")\n",
        "print(\"\\nRMSProp:\")\n",
        "modelrms.evaluate(xt_test, y_test)\n",
        "print(\"\\n\")\n",
        "print(\"\\nADAM:\")\n",
        "modeladm.evaluate(xt_test, y_test)\n",
        "print(\"\\n\")\n",
        "print(\"\\nADADelta:\")\n",
        "modeladadelta.evaluate(xt_test, y_test)\n",
        "print(\"\\n\")\n",
        "print(\"\\nStochastic GD:\")\n",
        "modelsgd.evaluate(xt_test, y_test)"
      ],
      "metadata": {
        "colab": {
          "base_uri": "https://localhost:8080/"
        },
        "id": "-Q8JLPJSEosE",
        "outputId": "e2008783-828f-497a-c911-7f4ff2ba26ce"
      },
      "execution_count": 76,
      "outputs": [
        {
          "output_type": "stream",
          "name": "stdout",
          "text": [
            "Gradient Descent:\n",
            "71/71 [==============================] - 0s 3ms/step - loss: 1.7503 - accuracy: 0.8099\n"
          ]
        },
        {
          "output_type": "execute_result",
          "data": {
            "text/plain": [
              "[1.750252604484558, 0.809884250164032]"
            ]
          },
          "metadata": {},
          "execution_count": 76
        },
        {
          "output_type": "stream",
          "name": "stdout",
          "text": [
            "\n",
            "\n",
            "\n",
            "Adgrad:\n",
            "71/71 [==============================] - 0s 3ms/step - loss: 0.9155 - accuracy: 0.8094\n"
          ]
        },
        {
          "output_type": "execute_result",
          "data": {
            "text/plain": [
              "[0.9155397415161133, 0.8094390034675598]"
            ]
          },
          "metadata": {},
          "execution_count": 76
        },
        {
          "output_type": "stream",
          "name": "stdout",
          "text": [
            "\n",
            "\n",
            "\n",
            "RMSProp:\n",
            "71/71 [==============================] - 0s 3ms/step - loss: 2.0221 - accuracy: 0.8045\n"
          ]
        },
        {
          "output_type": "execute_result",
          "data": {
            "text/plain": [
              "[2.022062063217163, 0.8045414090156555]"
            ]
          },
          "metadata": {},
          "execution_count": 76
        },
        {
          "output_type": "stream",
          "name": "stdout",
          "text": [
            "\n",
            "\n",
            "\n",
            "ADAM:\n",
            "71/71 [==============================] - 0s 3ms/step - loss: 1.5320 - accuracy: 0.7979\n"
          ]
        },
        {
          "output_type": "execute_result",
          "data": {
            "text/plain": [
              "[1.5319664478302002, 0.7978628873825073]"
            ]
          },
          "metadata": {},
          "execution_count": 76
        },
        {
          "output_type": "stream",
          "name": "stdout",
          "text": [
            "\n",
            "\n",
            "\n",
            "ADADelta:\n",
            "71/71 [==============================] - 0s 3ms/step - loss: 2.8117 - accuracy: 0.5049\n"
          ]
        },
        {
          "output_type": "execute_result",
          "data": {
            "text/plain": [
              "[2.8116836547851562, 0.5048975944519043]"
            ]
          },
          "metadata": {},
          "execution_count": 76
        },
        {
          "output_type": "stream",
          "name": "stdout",
          "text": [
            "\n",
            "\n",
            "\n",
            "Stochastic GD:\n",
            "71/71 [==============================] - 0s 3ms/step - loss: 0.8674 - accuracy: 0.8232\n"
          ]
        },
        {
          "output_type": "execute_result",
          "data": {
            "text/plain": [
              "[0.8674330115318298, 0.8232412934303284]"
            ]
          },
          "metadata": {},
          "execution_count": 76
        }
      ]
    },
    {
      "cell_type": "code",
      "source": [],
      "metadata": {
        "id": "ikaoLWsqEqm0"
      },
      "execution_count": 76,
      "outputs": []
    }
  ]
}