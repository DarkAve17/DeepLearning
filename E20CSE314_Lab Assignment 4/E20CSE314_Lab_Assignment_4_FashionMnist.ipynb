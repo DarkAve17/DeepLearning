{
  "nbformat": 4,
  "nbformat_minor": 0,
  "metadata": {
    "colab": {
      "provenance": []
    },
    "kernelspec": {
      "name": "python3",
      "display_name": "Python 3"
    },
    "language_info": {
      "name": "python"
    }
  },
  "cells": [
    {
      "cell_type": "code",
      "execution_count": 2,
      "metadata": {
        "id": "SJxhDd-CS4BN"
      },
      "outputs": [],
      "source": [
        "import numpy as np\n",
        "import pandas as pd\n",
        "\n",
        "# \n",
        "import matplotlib.pyplot as plt\n",
        "\n",
        "# \n",
        "import tensorflow as tf\n",
        "from tensorflow import keras\n",
        "\n",
        "#\n",
        "import os\n",
        "for dirname, _, filenames in os.walk('/kaggle/input/fashionmnist'):\n",
        "    for filename in filenames:\n",
        "        print(os.path.join(dirname, filename))\n",
        "        \n",
        "import warnings\n",
        "warnings.filterwarnings('ignore') "
      ]
    },
    {
      "cell_type": "code",
      "source": [
        "from IPython.core.interactiveshell import InteractiveShell\n",
        "InteractiveShell.ast_node_interactivity = \"all\""
      ],
      "metadata": {
        "id": "rXRKBm9CZRQs"
      },
      "execution_count": 3,
      "outputs": []
    },
    {
      "cell_type": "code",
      "source": [
        "fashion_mnist = tf.keras.datasets.fashion_mnist\n",
        "\n",
        "(train_images, train_labels), (test_images, test_labels) = fashion_mnist.load_data()"
      ],
      "metadata": {
        "colab": {
          "base_uri": "https://localhost:8080/"
        },
        "id": "YHZoMlN2ZR-X",
        "outputId": "4b2b7511-e343-4c6f-adeb-088c1d7d6669"
      },
      "execution_count": 4,
      "outputs": [
        {
          "output_type": "stream",
          "name": "stdout",
          "text": [
            "Downloading data from https://storage.googleapis.com/tensorflow/tf-keras-datasets/train-labels-idx1-ubyte.gz\n",
            "29515/29515 [==============================] - 0s 0us/step\n",
            "Downloading data from https://storage.googleapis.com/tensorflow/tf-keras-datasets/train-images-idx3-ubyte.gz\n",
            "26421880/26421880 [==============================] - 0s 0us/step\n",
            "Downloading data from https://storage.googleapis.com/tensorflow/tf-keras-datasets/t10k-labels-idx1-ubyte.gz\n",
            "5148/5148 [==============================] - 0s 0us/step\n",
            "Downloading data from https://storage.googleapis.com/tensorflow/tf-keras-datasets/t10k-images-idx3-ubyte.gz\n",
            "4422102/4422102 [==============================] - 0s 0us/step\n"
          ]
        }
      ]
    },
    {
      "cell_type": "code",
      "source": [
        "fashion_mnist\n"
      ],
      "metadata": {
        "colab": {
          "base_uri": "https://localhost:8080/"
        },
        "id": "9dvIMqkzZVv0",
        "outputId": "2bea04a5-6bab-4219-adb9-2f08273db062"
      },
      "execution_count": 5,
      "outputs": [
        {
          "output_type": "execute_result",
          "data": {
            "text/plain": [
              "<module 'keras.api._v2.keras.datasets.fashion_mnist' from '/usr/local/lib/python3.8/dist-packages/keras/api/_v2/keras/datasets/fashion_mnist/__init__.py'>"
            ]
          },
          "metadata": {},
          "execution_count": 5
        }
      ]
    },
    {
      "cell_type": "code",
      "source": [
        "class_names = ['T-shirt/top', 'Trouser', 'Pullover', 'Dress', 'Coat',\n",
        "               'Sandal', 'Shirt', 'Sneaker', 'Bag', 'Ankle boot']\n"
      ],
      "metadata": {
        "id": "T9eBFZ4MZZ3U"
      },
      "execution_count": 6,
      "outputs": []
    },
    {
      "cell_type": "code",
      "source": [
        "train_images.shape"
      ],
      "metadata": {
        "colab": {
          "base_uri": "https://localhost:8080/"
        },
        "id": "5IS3stMeZh6_",
        "outputId": "bd11bf66-3f6e-486c-847d-94afe0ada6c9"
      },
      "execution_count": 7,
      "outputs": [
        {
          "output_type": "execute_result",
          "data": {
            "text/plain": [
              "(60000, 28, 28)"
            ]
          },
          "metadata": {},
          "execution_count": 7
        }
      ]
    },
    {
      "cell_type": "code",
      "source": [
        "len(train_labels)"
      ],
      "metadata": {
        "colab": {
          "base_uri": "https://localhost:8080/"
        },
        "id": "WJzpFauWZiQw",
        "outputId": "b8f5d7bd-dc2c-42b9-a67f-74227349e51c"
      },
      "execution_count": 8,
      "outputs": [
        {
          "output_type": "execute_result",
          "data": {
            "text/plain": [
              "60000"
            ]
          },
          "metadata": {},
          "execution_count": 8
        }
      ]
    },
    {
      "cell_type": "code",
      "source": [
        "train_labels "
      ],
      "metadata": {
        "colab": {
          "base_uri": "https://localhost:8080/"
        },
        "id": "lIHmYBT2ZlHl",
        "outputId": "9836e4be-a138-45b1-feb0-2b3766fda862"
      },
      "execution_count": 9,
      "outputs": [
        {
          "output_type": "execute_result",
          "data": {
            "text/plain": [
              "array([9, 0, 0, ..., 3, 0, 5], dtype=uint8)"
            ]
          },
          "metadata": {},
          "execution_count": 9
        }
      ]
    },
    {
      "cell_type": "code",
      "source": [
        "test_images.shape "
      ],
      "metadata": {
        "colab": {
          "base_uri": "https://localhost:8080/"
        },
        "id": "WM0P8KGkZnff",
        "outputId": "80231ee9-c382-4f24-cafb-ab877667b295"
      },
      "execution_count": 10,
      "outputs": [
        {
          "output_type": "execute_result",
          "data": {
            "text/plain": [
              "(10000, 28, 28)"
            ]
          },
          "metadata": {},
          "execution_count": 10
        }
      ]
    },
    {
      "cell_type": "code",
      "source": [
        "len(test_labels)"
      ],
      "metadata": {
        "colab": {
          "base_uri": "https://localhost:8080/"
        },
        "id": "J3r-cJ73ZqP7",
        "outputId": "57dc1db5-c6bf-4fe0-c1a0-00c370a0d772"
      },
      "execution_count": 12,
      "outputs": [
        {
          "output_type": "execute_result",
          "data": {
            "text/plain": [
              "10000"
            ]
          },
          "metadata": {},
          "execution_count": 12
        }
      ]
    },
    {
      "cell_type": "code",
      "source": [
        "plt.figure()\n",
        "plt.imshow(train_images[4543])\n",
        "plt.colorbar()\n",
        "plt.grid(False)\n",
        "plt.show()"
      ],
      "metadata": {
        "colab": {
          "base_uri": "https://localhost:8080/",
          "height": 283
        },
        "id": "snBRTDboZvmT",
        "outputId": "20db94a9-0ee0-40ca-82d3-aadbf0b54e74"
      },
      "execution_count": 15,
      "outputs": [
        {
          "output_type": "execute_result",
          "data": {
            "text/plain": [
              "<Figure size 432x288 with 0 Axes>"
            ]
          },
          "metadata": {},
          "execution_count": 15
        },
        {
          "output_type": "execute_result",
          "data": {
            "text/plain": [
              "<matplotlib.image.AxesImage at 0x7f46a13ba400>"
            ]
          },
          "metadata": {},
          "execution_count": 15
        },
        {
          "output_type": "execute_result",
          "data": {
            "text/plain": [
              "<matplotlib.colorbar.Colorbar at 0x7f46a1368b80>"
            ]
          },
          "metadata": {},
          "execution_count": 15
        },
        {
          "output_type": "display_data",
          "data": {
            "text/plain": [
              "<Figure size 432x288 with 2 Axes>"
            ],
            "image/png": "[encoded data removed]"
          },
          "metadata": {
            "needs_background": "light"
          }
        }
      ]
    },
    {
      "cell_type": "code",
      "source": [
        "plt.figure(figsize=(10,10));\n",
        "for i in range(25):\n",
        "    plt.subplot(5,5,i+1);\n",
        "    plt.xticks([]);\n",
        "    plt.yticks([]);\n",
        "    plt.grid(False);\n",
        "    plt.imshow(train_images[i], cmap=plt.cm.binary);\n",
        "    plt.xlabel(class_names[train_labels[i]]);\n",
        "plt.show();"
      ],
      "metadata": {
        "colab": {
          "base_uri": "https://localhost:8080/",
          "height": 589
        },
        "id": "kF2PfLe_Z35K",
        "outputId": "c601950a-0113-4196-b3f9-b00fd2c2eeab"
      },
      "execution_count": 16,
      "outputs": [
        {
          "output_type": "display_data",
          "data": {
            "text/plain": [
              "<Figure size 720x720 with 25 Axes>"
            ],
            "image/png": "[encoded data removed]"
          },
          "metadata": {}
        }
      ]
    },
    {
      "cell_type": "code",
      "source": [
        "#Standardizing Input\n",
        "\n",
        "train_images = train_images / 255.0\n",
        "\n",
        "test_images = test_images / 255.0"
      ],
      "metadata": {
        "id": "glY3FVmYZ9GD"
      },
      "execution_count": 18,
      "outputs": []
    },
    {
      "cell_type": "code",
      "source": [
        "#a)only gradient Descent\n",
        "\n",
        "modelgd= keras.Sequential([\n",
        "           keras.layers.Flatten(input_shape=(28,28)),\n",
        "           keras.layers.Dense(128, activation = 'relu'),\n",
        "           keras.layers.Dense(10)\n",
        "                            ])\n",
        "\n",
        "#b) ADAGRAD\n",
        "\n",
        "modeladgrad = keras.Sequential([\n",
        "               keras.layers.Flatten(input_shape=(28,28)),\n",
        "               keras.layers.Dense(128, activation = 'relu'),\n",
        "               keras.layers.Dense(10)\n",
        "                            ])\n",
        "\n",
        "#c) RMSPROP\n",
        "\n",
        "modelrms = keras.Sequential([\n",
        "           keras.layers.Flatten(input_shape=(28,28)),\n",
        "           keras.layers.Dense(128, activation = 'relu'),\n",
        "           keras.layers.Dense(10)\n",
        "                            ])\n",
        "\n",
        "#d) ADAM\n",
        "\n",
        "modeladm = keras.Sequential([\n",
        "           keras.layers.Flatten(input_shape=(28,28)),\n",
        "           keras.layers.Dense(128, activation = 'relu'),\n",
        "           keras.layers.Dense(10)\n",
        "                            ])\n",
        "\n",
        "\n",
        "\n",
        "\n",
        "\n",
        "#e) ADADELTA\n",
        "\n",
        "modeladadelta =  keras.Sequential([\n",
        "                 keras.layers.Flatten(input_shape=(28,28)),\n",
        "                 keras.layers.Dense(128, activation = 'relu'),\n",
        "                 keras.layers.Dense(10)\n",
        "                            ])\n",
        "           \n",
        "\n",
        "\n",
        "#f) SGD\n",
        "\n",
        "modelsgd = keras.Sequential([\n",
        "           keras.layers.Flatten(input_shape=(28,28)),\n",
        "           keras.layers.Dense(128, activation = 'relu'),\n",
        "           keras.layers.Dense(10)\n",
        "                            ])\n",
        "\n",
        "\n"
      ],
      "metadata": {
        "id": "Lk7xwZvYZ1nH"
      },
      "execution_count": 32,
      "outputs": []
    },
    {
      "cell_type": "code",
      "source": [
        "#compile for gd\n",
        "\n",
        "modelgd.compile(\n",
        "              loss=tf.keras.losses.SparseCategoricalCrossentropy(from_logits=True),\n",
        "              metrics=['accuracy'])\n",
        "\n",
        "\n",
        "#compile optimizer ADAGRAD\n",
        "\n",
        "modeladgrad.compile(optimizer='adagrad',\n",
        "              loss=tf.keras.losses.SparseCategoricalCrossentropy(from_logits=True),\n",
        "              metrics=['accuracy'])\n",
        "\n",
        "\n",
        "\n",
        "#compile optimizer RMSprop\n",
        "modelrms.compile(optimizer='RMSprop',\n",
        "              loss=tf.keras.losses.SparseCategoricalCrossentropy(from_logits=True),\n",
        "              metrics=['accuracy'])\n",
        "\n",
        "#compile optimizer ADAM\n",
        "\n",
        "modeladm.compile(optimizer='adam',\n",
        "              loss=tf.keras.losses.SparseCategoricalCrossentropy(from_logits=True),\n",
        "              metrics=['accuracy'])\n",
        "\n",
        "#compile optimizer ADADELTA\n",
        "\n",
        "modeladadelta.compile(optimizer='Adadelta',\n",
        "              loss=tf.keras.losses.SparseCategoricalCrossentropy(from_logits=True),\n",
        "              metrics=['accuracy'])\n",
        "\n",
        "#compile optimizer SGD\n",
        "\n",
        "modelsgd.compile(optimizer='SGD',\n",
        "              loss=tf.keras.losses.SparseCategoricalCrossentropy(from_logits=True),\n",
        "              metrics=['accuracy'])\n",
        "\n",
        "\n",
        "\n"
      ],
      "metadata": {
        "id": "qi2gOY-FZyof"
      },
      "execution_count": 35,
      "outputs": []
    },
    {
      "cell_type": "code",
      "source": [
        "Hist1=modelgd.fit(train_images, train_labels, epochs=10)"
      ],
      "metadata": {
        "colab": {
          "base_uri": "https://localhost:8080/"
        },
        "id": "beqC5HdZat1M",
        "outputId": "9ba5fc54-9aa4-4211-a812-3bfca542f1f0"
      },
      "execution_count": 36,
      "outputs": [
        {
          "output_type": "stream",
          "name": "stdout",
          "text": [
            "Epoch 1/10\n",
            "1875/1875 [==============================] - 6s 3ms/step - loss: 1.5011 - accuracy: 0.5469\n",
            "Epoch 2/10\n",
            "1875/1875 [==============================] - 7s 4ms/step - loss: 0.8451 - accuracy: 0.7099\n",
            "Epoch 3/10\n",
            "1875/1875 [==============================] - 7s 3ms/step - loss: 0.6995 - accuracy: 0.7447\n",
            "Epoch 4/10\n",
            "1875/1875 [==============================] - 8s 4ms/step - loss: 0.6370 - accuracy: 0.7657\n",
            "Epoch 5/10\n",
            "1875/1875 [==============================] - 6s 3ms/step - loss: 0.5968 - accuracy: 0.7815\n",
            "Epoch 6/10\n",
            "1875/1875 [==============================] - 9s 5ms/step - loss: 0.5658 - accuracy: 0.7944\n",
            "Epoch 7/10\n",
            "1875/1875 [==============================] - 6s 3ms/step - loss: 0.5414 - accuracy: 0.8062\n",
            "Epoch 8/10\n",
            "1875/1875 [==============================] - 7s 4ms/step - loss: 0.5215 - accuracy: 0.8138\n",
            "Epoch 9/10\n",
            "1875/1875 [==============================] - 7s 4ms/step - loss: 0.5052 - accuracy: 0.8202\n",
            "Epoch 10/10\n",
            "1875/1875 [==============================] - 6s 3ms/step - loss: 0.4920 - accuracy: 0.8272\n"
          ]
        }
      ]
    },
    {
      "cell_type": "code",
      "source": [
        "hist2=modeladgrad.fit(train_images, train_labels, epochs=10)"
      ],
      "metadata": {
        "colab": {
          "base_uri": "https://localhost:8080/"
        },
        "id": "_HMIO3kobFfM",
        "outputId": "3043c2aa-d6ed-4ac6-cae1-6b2d391aa0f9"
      },
      "execution_count": 37,
      "outputs": [
        {
          "output_type": "stream",
          "name": "stdout",
          "text": [
            "Epoch 1/10\n",
            "1875/1875 [==============================] - 7s 4ms/step - loss: 2.3007 - accuracy: 0.1957\n",
            "Epoch 2/10\n",
            "1875/1875 [==============================] - 7s 4ms/step - loss: 2.3003 - accuracy: 0.2365\n",
            "Epoch 3/10\n",
            "1875/1875 [==============================] - 7s 4ms/step - loss: 2.3000 - accuracy: 0.2699\n",
            "Epoch 4/10\n",
            "1875/1875 [==============================] - 5s 3ms/step - loss: 2.2997 - accuracy: 0.2607\n",
            "Epoch 5/10\n",
            "1875/1875 [==============================] - 7s 4ms/step - loss: 2.2994 - accuracy: 0.3206\n",
            "Epoch 6/10\n",
            "1875/1875 [==============================] - 5s 3ms/step - loss: 2.2991 - accuracy: 0.3138\n",
            "Epoch 7/10\n",
            "1875/1875 [==============================] - 6s 3ms/step - loss: 2.2988 - accuracy: 0.3693\n",
            "Epoch 8/10\n",
            "1875/1875 [==============================] - 6s 3ms/step - loss: 2.2985 - accuracy: 0.3802\n",
            "Epoch 9/10\n",
            "1875/1875 [==============================] - 5s 3ms/step - loss: 2.2981 - accuracy: 0.4218\n",
            "Epoch 10/10\n",
            "1875/1875 [==============================] - 7s 3ms/step - loss: 2.2978 - accuracy: 0.4169\n"
          ]
        }
      ]
    },
    {
      "cell_type": "code",
      "source": [
        "hist3=modelrms.fit(train_images, train_labels, epochs=10)"
      ],
      "metadata": {
        "colab": {
          "base_uri": "https://localhost:8080/"
        },
        "id": "BKwdqL-UbRFM",
        "outputId": "e7e7dde8-696f-4c0e-dba7-5724154218bd"
      },
      "execution_count": 38,
      "outputs": [
        {
          "output_type": "stream",
          "name": "stdout",
          "text": [
            "Epoch 1/10\n",
            "1875/1875 [==============================] - 6s 3ms/step - loss: 1.5150 - accuracy: 0.5254\n",
            "Epoch 2/10\n",
            "1875/1875 [==============================] - 8s 4ms/step - loss: 0.8520 - accuracy: 0.7095\n",
            "Epoch 3/10\n",
            "1875/1875 [==============================] - 6s 3ms/step - loss: 0.7025 - accuracy: 0.7442\n",
            "Epoch 4/10\n",
            "1875/1875 [==============================] - 7s 3ms/step - loss: 0.6404 - accuracy: 0.7640\n",
            "Epoch 5/10\n",
            "1875/1875 [==============================] - 5s 3ms/step - loss: 0.6002 - accuracy: 0.7778\n",
            "Epoch 6/10\n",
            "1875/1875 [==============================] - 7s 4ms/step - loss: 0.5694 - accuracy: 0.7933\n",
            "Epoch 7/10\n",
            "1875/1875 [==============================] - 6s 3ms/step - loss: 0.5449 - accuracy: 0.8047\n",
            "Epoch 8/10\n",
            "1875/1875 [==============================] - 7s 4ms/step - loss: 0.5251 - accuracy: 0.8124\n",
            "Epoch 9/10\n",
            "1875/1875 [==============================] - 5s 3ms/step - loss: 0.5092 - accuracy: 0.8199\n",
            "Epoch 10/10\n",
            "1875/1875 [==============================] - 7s 4ms/step - loss: 0.4957 - accuracy: 0.8250\n"
          ]
        }
      ]
    },
    {
      "cell_type": "code",
      "source": [
        "hist4=modeladm.fit(train_images, train_labels, epochs=10)"
      ],
      "metadata": {
        "colab": {
          "base_uri": "https://localhost:8080/"
        },
        "id": "wYdPm-LubmnJ",
        "outputId": "69bc691c-a449-4c3c-b8a5-66309ed92c91"
      },
      "execution_count": 39,
      "outputs": [
        {
          "output_type": "stream",
          "name": "stdout",
          "text": [
            "Epoch 1/10\n",
            "1875/1875 [==============================] - 7s 3ms/step - loss: 1.0816 - accuracy: 0.6651\n",
            "Epoch 2/10\n",
            "1875/1875 [==============================] - 7s 4ms/step - loss: 0.6378 - accuracy: 0.7702\n",
            "Epoch 3/10\n",
            "1875/1875 [==============================] - 6s 3ms/step - loss: 0.5639 - accuracy: 0.7983\n",
            "Epoch 4/10\n",
            "1875/1875 [==============================] - 7s 4ms/step - loss: 0.5219 - accuracy: 0.8142\n",
            "Epoch 5/10\n",
            "1875/1875 [==============================] - 7s 4ms/step - loss: 0.4939 - accuracy: 0.8252\n",
            "Epoch 6/10\n",
            "1875/1875 [==============================] - 7s 4ms/step - loss: 0.4735 - accuracy: 0.8332\n",
            "Epoch 7/10\n",
            "1875/1875 [==============================] - 8s 4ms/step - loss: 0.4589 - accuracy: 0.8388\n",
            "Epoch 8/10\n",
            "1875/1875 [==============================] - 6s 3ms/step - loss: 0.4467 - accuracy: 0.8426\n",
            "Epoch 9/10\n",
            "1875/1875 [==============================] - 8s 4ms/step - loss: 0.4369 - accuracy: 0.8462\n",
            "Epoch 10/10\n",
            "1875/1875 [==============================] - 6s 3ms/step - loss: 0.4279 - accuracy: 0.8487\n"
          ]
        }
      ]
    },
    {
      "cell_type": "code",
      "source": [
        "hist5=modeladadelta.fit(train_images, train_labels, epochs=10)"
      ],
      "metadata": {
        "colab": {
          "base_uri": "https://localhost:8080/"
        },
        "id": "1PoSgHHvbrtb",
        "outputId": "41ce2ab3-c2a7-44ea-e08d-a082fb250e42"
      },
      "execution_count": 40,
      "outputs": [
        {
          "output_type": "stream",
          "name": "stdout",
          "text": [
            "Epoch 1/10\n",
            "1875/1875 [==============================] - 9s 4ms/step - loss: 2.3022 - accuracy: 0.1338\n",
            "Epoch 2/10\n",
            "1875/1875 [==============================] - 8s 4ms/step - loss: 2.3017 - accuracy: 0.1531\n",
            "Epoch 3/10\n",
            "1875/1875 [==============================] - 7s 4ms/step - loss: 2.3015 - accuracy: 0.1708\n",
            "Epoch 4/10\n",
            "1875/1875 [==============================] - 10s 6ms/step - loss: 2.3013 - accuracy: 0.1805\n",
            "Epoch 5/10\n",
            "1875/1875 [==============================] - 8s 4ms/step - loss: 2.3012 - accuracy: 0.1868\n",
            "Epoch 6/10\n",
            "1875/1875 [==============================] - 7s 4ms/step - loss: 2.3011 - accuracy: 0.1933\n",
            "Epoch 7/10\n",
            "1875/1875 [==============================] - 8s 4ms/step - loss: 2.3009 - accuracy: 0.2030\n",
            "Epoch 8/10\n",
            "1875/1875 [==============================] - 7s 4ms/step - loss: 2.3009 - accuracy: 0.2053\n",
            "Epoch 9/10\n",
            "1875/1875 [==============================] - 8s 4ms/step - loss: 2.3008 - accuracy: 0.2085\n",
            "Epoch 10/10\n",
            "1875/1875 [==============================] - 7s 4ms/step - loss: 2.3007 - accuracy: 0.2086\n"
          ]
        }
      ]
    },
    {
      "cell_type": "code",
      "source": [
        "hist6=modelsgd.fit(train_images, train_labels, epochs=10)"
      ],
      "metadata": {
        "colab": {
          "base_uri": "https://localhost:8080/"
        },
        "id": "tMbU0-Vib3lz",
        "outputId": "35413841-3d4c-4e5d-926c-ba0bdb72b139"
      },
      "execution_count": 41,
      "outputs": [
        {
          "output_type": "stream",
          "name": "stdout",
          "text": [
            "Epoch 1/10\n",
            "1875/1875 [==============================] - 6s 3ms/step - loss: 2.3010 - accuracy: 0.1334\n",
            "Epoch 2/10\n",
            "1875/1875 [==============================] - 9s 5ms/step - loss: 2.3002 - accuracy: 0.1506\n",
            "Epoch 3/10\n",
            "1875/1875 [==============================] - 5s 3ms/step - loss: 2.2992 - accuracy: 0.1536\n",
            "Epoch 4/10\n",
            "1875/1875 [==============================] - 7s 4ms/step - loss: 2.2983 - accuracy: 0.1353\n",
            "Epoch 5/10\n",
            "1875/1875 [==============================] - 5s 3ms/step - loss: 2.2973 - accuracy: 0.2004\n",
            "Epoch 6/10\n",
            "1875/1875 [==============================] - 6s 3ms/step - loss: 2.2962 - accuracy: 0.2037\n",
            "Epoch 7/10\n",
            "1875/1875 [==============================] - 7s 4ms/step - loss: 2.2949 - accuracy: 0.2297\n",
            "Epoch 8/10\n",
            "1875/1875 [==============================] - 7s 4ms/step - loss: 2.2934 - accuracy: 0.2298\n",
            "Epoch 9/10\n",
            "1875/1875 [==============================] - 6s 3ms/step - loss: 2.2917 - accuracy: 0.2440\n",
            "Epoch 10/10\n",
            "1875/1875 [==============================] - 5s 2ms/step - loss: 2.2899 - accuracy: 0.2622\n"
          ]
        }
      ]
    },
    {
      "cell_type": "code",
      "source": [
        "ep=np.arange(2,20,2)"
      ],
      "metadata": {
        "id": "jlzvZJpCgBSl"
      },
      "execution_count": 43,
      "outputs": []
    },
    {
      "cell_type": "code",
      "source": [
        "acc1=Hist1.history['accuracy']\n",
        "acc2=hist2.history['accuracy']\n",
        "acc3=hist3.history['accuracy']\n",
        "acc4=hist4.history['accuracy']\n",
        "acc5=hist5.history['accuracy']\n",
        "acc6=hist6.history['accuracy']\n",
        "\n",
        "\n",
        "list_of_tuples = list(zip(ep,acc1,acc2,acc3,acc4,acc5,acc6)) "
      ],
      "metadata": {
        "id": "obHia1oKcckf"
      },
      "execution_count": 44,
      "outputs": []
    },
    {
      "cell_type": "code",
      "source": [
        "df = pd.DataFrame(list_of_tuples, columns = ['Epoch','onlyGD','Adagrad','RMSprop', 'ADAM','AdaDelta','SGD']) "
      ],
      "metadata": {
        "id": "JdIAuA9VffT_"
      },
      "execution_count": 45,
      "outputs": []
    },
    {
      "cell_type": "code",
      "source": [
        "df.index = df['Epoch']\n",
        "df.plot(figsize=(10,10))\n",
        "plt.grid(True)\n",
        "plt.gca().set_ylim(.1, 0.95) # set the vertical range to [0-1]\n",
        "plt.show()"
      ],
      "metadata": {
        "colab": {
          "base_uri": "https://localhost:8080/",
          "height": 624
        },
        "id": "10KMb3vBgGDI",
        "outputId": "7e6e3e14-e914-4403-bc45-d81b6396c254"
      },
      "execution_count": 47,
      "outputs": [
        {
          "output_type": "execute_result",
          "data": {
            "text/plain": [
              "<matplotlib.axes._subplots.AxesSubplot at 0x7f46a10b9fd0>"
            ]
          },
          "metadata": {},
          "execution_count": 47
        },
        {
          "output_type": "execute_result",
          "data": {
            "text/plain": [
              "(0.1, 0.95)"
            ]
          },
          "metadata": {},
          "execution_count": 47
        },
        {
          "output_type": "display_data",
          "data": {
            "text/plain": [
              "<Figure size 720x720 with 1 Axes>"
            ],
            "image/png": "[encoded data removed]"
          },
          "metadata": {
            "needs_background": "light"
          }
        }
      ]
    }
  ]
}