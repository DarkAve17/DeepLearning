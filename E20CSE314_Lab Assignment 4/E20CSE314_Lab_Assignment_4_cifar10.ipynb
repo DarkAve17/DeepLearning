{
  "nbformat": 4,
  "nbformat_minor": 0,
  "metadata": {
    "colab": {
      "provenance": []
    },
    "kernelspec": {
      "name": "python3",
      "display_name": "Python 3"
    },
    "language_info": {
      "name": "python"
    }
  },
  "cells": [
    {
      "cell_type": "code",
      "source": [
        "import numpy as np\n",
        "import pandas as pd\n",
        "\n",
        "# \n",
        "import matplotlib.pyplot as plt\n",
        "\n",
        "# \n",
        "import tensorflow as tf\n",
        "from tensorflow import keras\n",
        "\n",
        "#\n",
        "import os\n",
        "for dirname, _, filenames in os.walk('/kaggle/input/cifar10'):\n",
        "    for filename in filenames:\n",
        "        print(os.path.join(dirname, filename))\n",
        "        \n",
        "import warnings\n",
        "warnings.filterwarnings('ignore') "
      ],
      "metadata": {
        "id": "HdR9yMHNfSyj"
      },
      "execution_count": null,
      "outputs": []
    },
    {
      "cell_type": "code",
      "source": [
        "from IPython.core.interactiveshell import InteractiveShell\n",
        "InteractiveShell.ast_node_interactivity = \"all\""
      ],
      "metadata": {
        "id": "FrTZTYqsh3S1"
      },
      "execution_count": null,
      "outputs": []
    },
    {
      "cell_type": "code",
      "source": [
        "cifar10 = tf.keras.datasets.cifar10\n",
        "\n",
        "(train_images, train_labels), (test_images, test_labels) = cifar10.load_data()"
      ],
      "metadata": {
        "id": "YHZoMlN2ZR-X"
      },
      "execution_count": null,
      "outputs": []
    },
    {
      "cell_type": "code",
      "source": [
        "cifar10\n"
      ],
      "metadata": {
        "colab": {
          "base_uri": "https://localhost:8080/"
        },
        "id": "oT2NPVa7iLLR",
        "outputId": "ae51ca99-f82f-4e01-ee10-ce2680045e85"
      },
      "execution_count": null,
      "outputs": [
        {
          "output_type": "execute_result",
          "data": {
            "text/plain": [
              "<module 'keras.api._v2.keras.datasets.cifar10' from '/usr/local/lib/python3.8/dist-packages/keras/api/_v2/keras/datasets/cifar10/__init__.py'>"
            ]
          },
          "metadata": {},
          "execution_count": 83
        }
      ]
    },
    {
      "cell_type": "code",
      "source": [
        "train_images.shape\n"
      ],
      "metadata": {
        "colab": {
          "base_uri": "https://localhost:8080/"
        },
        "id": "Yr0wFfQViRQb",
        "outputId": "1a212709-abed-47a8-accb-4a1936ae36f3"
      },
      "execution_count": null,
      "outputs": [
        {
          "output_type": "execute_result",
          "data": {
            "text/plain": [
              "(50000, 32, 32, 3)"
            ]
          },
          "metadata": {},
          "execution_count": 84
        }
      ]
    },
    {
      "cell_type": "code",
      "source": [
        "#a)only gradient Descent\n",
        "\n",
        "modelgd= keras.Sequential([\n",
        "           keras.layers.Flatten(input_shape=(32,32,3)),\n",
        "           keras.layers.Dense(128, activation = 'relu'),\n",
        "           keras.layers.Dense(10,activation='softmax')\n",
        "                            ])\n",
        "\n",
        "#b) ADAGRAD\n",
        "\n",
        "modeladgrad = keras.Sequential([\n",
        "           keras.layers.Flatten(input_shape=(32,32,3)),\n",
        "           keras.layers.Dense(128, activation = 'relu'),\n",
        "           keras.layers.Dense(10,activation='softmax')\n",
        "                            ])\n",
        "\n",
        "#c) RMSPROP\n",
        "\n",
        "modelrms = keras.Sequential([\n",
        "           keras.layers.Flatten(input_shape=(32,32,3)),\n",
        "           keras.layers.Dense(128, activation = 'relu'),\n",
        "           keras.layers.Dense(10,activation='softmax')\n",
        "                            ])\n",
        "\n",
        "#d) ADAM\n",
        "\n",
        "modeladm = keras.Sequential([\n",
        "           keras.layers.Flatten(input_shape=(32,32,3)),\n",
        "           keras.layers.Dense(128, activation = 'relu'),\n",
        "           keras.layers.Dense(10,activation='softmax')\n",
        "                            ])\n",
        "\n",
        "\n",
        "\n",
        "\n",
        "\n",
        "#e) ADADELTA\n",
        "\n",
        "modeladadelta =  keras.Sequential([\n",
        "           keras.layers.Flatten(input_shape=(32,32,3)),\n",
        "           keras.layers.Dense(128, activation = 'relu'),\n",
        "           keras.layers.Dense(10,activation='softmax')\n",
        "                            ])\n",
        "           \n",
        "\n",
        "\n",
        "#f) SGD\n",
        "\n",
        "modelsgd = keras.Sequential([\n",
        "           keras.layers.Flatten(input_shape=(32,32,3)),\n",
        "           keras.layers.Dense(128, activation = 'relu'),\n",
        "           keras.layers.Dense(10,activation='softmax')\n",
        "                            ])\n",
        "\n"
      ],
      "metadata": {
        "id": "QJyWYz4HezCN"
      },
      "execution_count": null,
      "outputs": []
    },
    {
      "cell_type": "code",
      "source": [
        "#compile for gd\n",
        "\n",
        "modelgd.compile(\n",
        "              loss=tf.keras.losses.SparseCategoricalCrossentropy(from_logits=True),\n",
        "              metrics=['accuracy'])\n",
        "\n",
        "\n",
        "#compile optimizer ADAGRAD\n",
        "\n",
        "modeladgrad.compile(optimizer='adagrad',\n",
        "              loss=tf.keras.losses.SparseCategoricalCrossentropy(from_logits=True),\n",
        "              metrics=['accuracy'])\n",
        "\n",
        "\n",
        "\n",
        "#compile optimizer RMSprop\n",
        "modelrms.compile(optimizer='RMSprop',\n",
        "              loss=tf.keras.losses.SparseCategoricalCrossentropy(from_logits=True),\n",
        "              metrics=['accuracy'])\n",
        "\n",
        "#compile optimizer ADAM\n",
        "\n",
        "modeladm.compile(optimizer='adam',\n",
        "              loss=tf.keras.losses.SparseCategoricalCrossentropy(from_logits=True),\n",
        "              metrics=['accuracy'])\n",
        "\n",
        "#compile optimizer ADADELTA\n",
        "\n",
        "modeladadelta.compile(optimizer='Adadelta',\n",
        "              loss=tf.keras.losses.SparseCategoricalCrossentropy(from_logits=True),\n",
        "              metrics=['accuracy'])\n",
        "\n",
        "#compile optimizer SGD\n",
        "\n",
        "modelsgd.compile(optimizer='SGD',\n",
        "              loss=tf.keras.losses.SparseCategoricalCrossentropy(from_logits=True),\n",
        "              metrics=['accuracy'])\n",
        "\n",
        "\n"
      ],
      "metadata": {
        "id": "vhe5s0p0gwNG"
      },
      "execution_count": null,
      "outputs": []
    },
    {
      "cell_type": "code",
      "source": [
        "Hist1=modelgd.fit(x_train, train_labels, epochs=10)"
      ],
      "metadata": {
        "colab": {
          "base_uri": "https://localhost:8080/"
        },
        "id": "zjPs3owrhCoo",
        "outputId": "fdb8cbef-0e99-4b3d-b0d0-be286d6f56e8"
      },
      "execution_count": null,
      "outputs": [
        {
          "output_type": "stream",
          "name": "stdout",
          "text": [
            "Epoch 1/10\n",
            "1563/1563 [==============================] - 12s 7ms/step - loss: 1.9499 - accuracy: 0.3015\n",
            "Epoch 2/10\n",
            "1563/1563 [==============================] - 11s 7ms/step - loss: 1.7639 - accuracy: 0.3695\n",
            "Epoch 3/10\n",
            "1563/1563 [==============================] - 11s 7ms/step - loss: 1.7073 - accuracy: 0.3912\n",
            "Epoch 4/10\n",
            "1563/1563 [==============================] - 11s 7ms/step - loss: 1.6738 - accuracy: 0.4034\n",
            "Epoch 5/10\n",
            "1563/1563 [==============================] - 11s 7ms/step - loss: 1.6529 - accuracy: 0.4122\n",
            "Epoch 6/10\n",
            "1563/1563 [==============================] - 12s 7ms/step - loss: 1.6359 - accuracy: 0.4189\n",
            "Epoch 7/10\n",
            "1563/1563 [==============================] - 12s 7ms/step - loss: 1.6204 - accuracy: 0.4230\n",
            "Epoch 8/10\n",
            "1563/1563 [==============================] - 12s 7ms/step - loss: 1.6075 - accuracy: 0.4293\n",
            "Epoch 9/10\n",
            "1563/1563 [==============================] - 12s 7ms/step - loss: 1.5956 - accuracy: 0.4324\n",
            "Epoch 10/10\n",
            "1563/1563 [==============================] - 11s 7ms/step - loss: 1.5867 - accuracy: 0.4365\n"
          ]
        }
      ]
    },
    {
      "cell_type": "code",
      "source": [
        "hist2=modeladgrad.fit(train_images, train_labels, epochs=10)"
      ],
      "metadata": {
        "colab": {
          "base_uri": "https://localhost:8080/"
        },
        "id": "zcuA-Ym0jbe3",
        "outputId": "31f60dec-21c5-4936-ac50-309ec2a3ed45"
      },
      "execution_count": null,
      "outputs": [
        {
          "output_type": "stream",
          "name": "stdout",
          "text": [
            "Epoch 1/10\n",
            "1563/1563 [==============================] - 11s 7ms/step - loss: 36.2239 - accuracy: 0.2140\n",
            "Epoch 2/10\n",
            "1563/1563 [==============================] - 11s 7ms/step - loss: 20.9787 - accuracy: 0.2375\n",
            "Epoch 3/10\n",
            "1563/1563 [==============================] - 11s 7ms/step - loss: 18.0938 - accuracy: 0.2456\n",
            "Epoch 4/10\n",
            "1563/1563 [==============================] - 11s 7ms/step - loss: 16.3120 - accuracy: 0.2528\n",
            "Epoch 5/10\n",
            "1563/1563 [==============================] - 10s 6ms/step - loss: 15.0804 - accuracy: 0.2571\n",
            "Epoch 6/10\n",
            "1563/1563 [==============================] - 12s 8ms/step - loss: 14.1834 - accuracy: 0.2617\n",
            "Epoch 7/10\n",
            "1563/1563 [==============================] - 11s 7ms/step - loss: 13.4538 - accuracy: 0.2655\n",
            "Epoch 8/10\n",
            "1563/1563 [==============================] - 11s 7ms/step - loss: 12.8433 - accuracy: 0.2711\n",
            "Epoch 9/10\n",
            "1563/1563 [==============================] - 11s 7ms/step - loss: 12.3379 - accuracy: 0.2734\n",
            "Epoch 10/10\n",
            "1563/1563 [==============================] - 10s 7ms/step - loss: 11.8898 - accuracy: 0.2780\n"
          ]
        }
      ]
    },
    {
      "cell_type": "code",
      "source": [
        "hist3=modelrms.fit(train_images, train_labels, epochs=10)"
      ],
      "metadata": {
        "colab": {
          "base_uri": "https://localhost:8080/"
        },
        "id": "yTmO1v0ZQAAn",
        "outputId": "39fc9d99-39d4-4432-96df-e5fc8cb06ca3"
      },
      "execution_count": null,
      "outputs": [
        {
          "output_type": "stream",
          "name": "stdout",
          "text": [
            "Epoch 1/10\n",
            "1563/1563 [==============================] - 12s 7ms/step - loss: 55.4833 - accuracy: 0.1237\n",
            "Epoch 2/10\n",
            "1563/1563 [==============================] - 11s 7ms/step - loss: 2.5618 - accuracy: 0.0982\n",
            "Epoch 3/10\n",
            "1563/1563 [==============================] - 10s 7ms/step - loss: 2.3499 - accuracy: 0.0961\n",
            "Epoch 4/10\n",
            "1563/1563 [==============================] - 11s 7ms/step - loss: 2.3060 - accuracy: 0.0971\n",
            "Epoch 5/10\n",
            "1563/1563 [==============================] - 11s 7ms/step - loss: 2.3061 - accuracy: 0.0979\n",
            "Epoch 6/10\n",
            "1563/1563 [==============================] - 11s 7ms/step - loss: 2.3035 - accuracy: 0.1003\n",
            "Epoch 7/10\n",
            "1563/1563 [==============================] - 11s 7ms/step - loss: 2.3031 - accuracy: 0.0997\n",
            "Epoch 8/10\n",
            "1563/1563 [==============================] - 11s 7ms/step - loss: 2.3026 - accuracy: 0.0983\n",
            "Epoch 9/10\n",
            "1563/1563 [==============================] - 11s 7ms/step - loss: 2.3035 - accuracy: 0.0982\n",
            "Epoch 10/10\n",
            "1563/1563 [==============================] - 10s 7ms/step - loss: 2.3023 - accuracy: 0.0972\n"
          ]
        }
      ]
    },
    {
      "cell_type": "code",
      "source": [
        "hist4=modeladm.fit(train_images, train_labels, epochs=10)"
      ],
      "metadata": {
        "colab": {
          "base_uri": "https://localhost:8080/"
        },
        "id": "SgwZfiNojiYp",
        "outputId": "c11802a5-917d-447d-a95b-e06a78ddbef2"
      },
      "execution_count": null,
      "outputs": [
        {
          "output_type": "stream",
          "name": "stdout",
          "text": [
            "Epoch 1/10\n",
            "1563/1563 [==============================] - 13s 8ms/step - loss: 9.1055 - accuracy: 0.1001\n",
            "Epoch 2/10\n",
            "1563/1563 [==============================] - 12s 8ms/step - loss: 2.3029 - accuracy: 0.0983\n",
            "Epoch 3/10\n",
            "1563/1563 [==============================] - 13s 8ms/step - loss: 2.3028 - accuracy: 0.0984\n",
            "Epoch 4/10\n",
            "1563/1563 [==============================] - 12s 8ms/step - loss: 2.3027 - accuracy: 0.0966\n",
            "Epoch 5/10\n",
            "1563/1563 [==============================] - 13s 8ms/step - loss: 2.3029 - accuracy: 0.0971\n",
            "Epoch 6/10\n",
            "1563/1563 [==============================] - 12s 8ms/step - loss: 2.3027 - accuracy: 0.1006\n",
            "Epoch 7/10\n",
            "1563/1563 [==============================] - 12s 8ms/step - loss: 2.3028 - accuracy: 0.0994\n",
            "Epoch 8/10\n",
            "1563/1563 [==============================] - 12s 8ms/step - loss: 2.3030 - accuracy: 0.0976\n",
            "Epoch 9/10\n",
            "1563/1563 [==============================] - 12s 8ms/step - loss: 2.3028 - accuracy: 0.0973\n",
            "Epoch 10/10\n",
            "1563/1563 [==============================] - 12s 8ms/step - loss: 2.3028 - accuracy: 0.0968\n"
          ]
        }
      ]
    },
    {
      "cell_type": "code",
      "source": [
        "hist5=modeladadelta.fit(train_images, train_labels, epochs=10)"
      ],
      "metadata": {
        "colab": {
          "base_uri": "https://localhost:8080/"
        },
        "id": "gJV2iILWjj48",
        "outputId": "edf152a3-30a9-4207-dc56-425931e70601"
      },
      "execution_count": null,
      "outputs": [
        {
          "output_type": "stream",
          "name": "stdout",
          "text": [
            "Epoch 1/10\n",
            "1563/1563 [==============================] - 15s 9ms/step - loss: 70.2288 - accuracy: 0.1367\n",
            "Epoch 2/10\n",
            "1563/1563 [==============================] - 14s 9ms/step - loss: 47.7673 - accuracy: 0.1725\n",
            "Epoch 3/10\n",
            "1563/1563 [==============================] - 14s 9ms/step - loss: 40.3271 - accuracy: 0.1935\n",
            "Epoch 4/10\n",
            "1563/1563 [==============================] - 14s 9ms/step - loss: 36.3975 - accuracy: 0.2031\n",
            "Epoch 5/10\n",
            "1563/1563 [==============================] - 14s 9ms/step - loss: 33.5337 - accuracy: 0.2073\n",
            "Epoch 6/10\n",
            "1563/1563 [==============================] - 14s 9ms/step - loss: 31.3592 - accuracy: 0.2080\n",
            "Epoch 7/10\n",
            "1563/1563 [==============================] - 14s 9ms/step - loss: 29.4894 - accuracy: 0.2129\n",
            "Epoch 8/10\n",
            "1563/1563 [==============================] - 14s 9ms/step - loss: 28.1140 - accuracy: 0.2164\n",
            "Epoch 9/10\n",
            "1563/1563 [==============================] - 14s 9ms/step - loss: 26.9984 - accuracy: 0.2185\n",
            "Epoch 10/10\n",
            "1563/1563 [==============================] - 14s 9ms/step - loss: 26.0520 - accuracy: 0.2216\n"
          ]
        }
      ]
    },
    {
      "cell_type": "code",
      "source": [
        "hist6=modelsgd.fit(train_images, train_labels, epochs=10)"
      ],
      "metadata": {
        "colab": {
          "base_uri": "https://localhost:8080/"
        },
        "id": "ZVo9cOjRjlkQ",
        "outputId": "bfac9d6b-5549-4420-9d17-18edd3e81326"
      },
      "execution_count": null,
      "outputs": [
        {
          "output_type": "stream",
          "name": "stdout",
          "text": [
            "Epoch 1/10\n",
            "1563/1563 [==============================] - 8s 5ms/step - loss: 3144.5500 - accuracy: 0.0983\n",
            "Epoch 2/10\n",
            "1563/1563 [==============================] - 9s 6ms/step - loss: 2.3027 - accuracy: 0.0969\n",
            "Epoch 3/10\n",
            "1563/1563 [==============================] - 8s 5ms/step - loss: 2.3027 - accuracy: 0.0983\n",
            "Epoch 4/10\n",
            "1563/1563 [==============================] - 7s 5ms/step - loss: 2.3027 - accuracy: 0.0982\n",
            "Epoch 5/10\n",
            "1563/1563 [==============================] - 8s 5ms/step - loss: 2.3027 - accuracy: 0.0989\n",
            "Epoch 6/10\n",
            "1563/1563 [==============================] - 8s 5ms/step - loss: 2.3027 - accuracy: 0.0993\n",
            "Epoch 7/10\n",
            "1563/1563 [==============================] - 7s 5ms/step - loss: 2.3027 - accuracy: 0.0969\n",
            "Epoch 8/10\n",
            "1563/1563 [==============================] - 8s 5ms/step - loss: 2.3027 - accuracy: 0.0988\n",
            "Epoch 9/10\n",
            "1563/1563 [==============================] - 7s 5ms/step - loss: 2.3027 - accuracy: 0.0987\n",
            "Epoch 10/10\n",
            "1563/1563 [==============================] - 8s 5ms/step - loss: 2.3027 - accuracy: 0.0981\n"
          ]
        }
      ]
    },
    {
      "cell_type": "code",
      "source": [
        "ep=np.arange(2,20,2)"
      ],
      "metadata": {
        "id": "ODqhw8xhjnT_"
      },
      "execution_count": null,
      "outputs": []
    },
    {
      "cell_type": "code",
      "source": [
        "acc1=Hist1.history['accuracy']\n",
        "acc2=hist2.history['accuracy']\n",
        "acc3=hist3.history['accuracy']\n",
        "acc4=hist4.history['accuracy']\n",
        "acc5=hist5.history['accuracy']\n",
        "acc6=hist6.history['accuracy']\n",
        "\n",
        "\n",
        "list_of_tuples = list(zip(ep,acc1,acc2,acc3,acc4,acc5,acc6)) "
      ],
      "metadata": {
        "id": "2pMMu14ijtP-"
      },
      "execution_count": null,
      "outputs": []
    },
    {
      "cell_type": "code",
      "source": [
        "df = pd.DataFrame(list_of_tuples, columns = ['Epoch','onlyGD','Adagrad','RMSprop', 'ADAM','AdaDelta','SGD']) "
      ],
      "metadata": {
        "id": "KRp6S3Bvju74"
      },
      "execution_count": null,
      "outputs": []
    },
    {
      "cell_type": "code",
      "source": [
        "df.index = df['Epoch']\n",
        "df.plot(figsize=(10,10))\n",
        "plt.grid(True)\n",
        "plt.gca().set_ylim(.1, 0.95) # set the vertical range to [0-1]\n",
        "plt.show()"
      ],
      "metadata": {
        "colab": {
          "base_uri": "https://localhost:8080/",
          "height": 624
        },
        "id": "mwuYlq5gjxBG",
        "outputId": "f923451b-c584-495e-ef29-a23c897e4c48"
      },
      "execution_count": null,
      "outputs": [
        {
          "output_type": "execute_result",
          "data": {
            "text/plain": [
              "<matplotlib.axes._subplots.AxesSubplot at 0x7f95d6048b50>"
            ]
          },
          "metadata": {},
          "execution_count": 96
        },
        {
          "output_type": "execute_result",
          "data": {
            "text/plain": [
              "(0.1, 0.95)"
            ]
          },
          "metadata": {},
          "execution_count": 96
        },
        {
          "output_type": "display_data",
          "data": {
            "text/plain": [
              "<Figure size 720x720 with 1 Axes>"
            ],
            "image/png": "[encoded data removed]"
          },
          "metadata": {
            "needs_background": "light"
          }
        }
      ]
    },
    {
      "cell_type": "code",
      "source": [
        "print(\"Gradient Descent:\")\n",
        "modelgd.evaluate(test_images, test_labels)\n",
        "print(\"\\n\")\n",
        "print(\"\\nAdgrad:\")\n",
        "modeladgrad.evaluate(test_images, test_labels)\n",
        "print(\"\\n\")\n",
        "print(\"\\nRMSProp:\")\n",
        "modelrms.evaluate(test_images, test_labels)\n",
        "print(\"\\n\")\n",
        "print(\"\\nADAM:\")\n",
        "modeladm.evaluate(test_images, test_labels)\n",
        "print(\"\\n\")\n",
        "print(\"\\nADADelta:\")\n",
        "modeladadelta.evaluate(test_images, test_labels)\n",
        "print(\"\\n\")\n",
        "print(\"\\nStochastic GD:\")\n",
        "modelsgd.evaluate(test_images, test_labels)"
      ],
      "metadata": {
        "colab": {
          "base_uri": "https://localhost:8080/"
        },
        "id": "BwRnEDMbjyha",
        "outputId": "4d832775-8772-4cbd-b934-71af114d212e"
      },
      "execution_count": null,
      "outputs": [
        {
          "output_type": "stream",
          "name": "stdout",
          "text": [
            "Gradient Descent:\n",
            "313/313 [==============================] - 1s 3ms/step - loss: 213.4256 - accuracy: 0.3869\n"
          ]
        },
        {
          "output_type": "execute_result",
          "data": {
            "text/plain": [
              "[213.42562866210938, 0.38690000772476196]"
            ]
          },
          "metadata": {},
          "execution_count": 97
        },
        {
          "output_type": "stream",
          "name": "stdout",
          "text": [
            "\n",
            "\n",
            "\n",
            "Adgrad:\n",
            "313/313 [==============================] - 1s 3ms/step - loss: 13.1316 - accuracy: 0.2586\n"
          ]
        },
        {
          "output_type": "execute_result",
          "data": {
            "text/plain": [
              "[13.131635665893555, 0.25859999656677246]"
            ]
          },
          "metadata": {},
          "execution_count": 97
        },
        {
          "output_type": "stream",
          "name": "stdout",
          "text": [
            "\n",
            "\n",
            "\n",
            "RMSProp:\n",
            "313/313 [==============================] - 1s 3ms/step - loss: 2.3094 - accuracy: 0.1001\n"
          ]
        },
        {
          "output_type": "execute_result",
          "data": {
            "text/plain": [
              "[2.309354782104492, 0.10010000318288803]"
            ]
          },
          "metadata": {},
          "execution_count": 97
        },
        {
          "output_type": "stream",
          "name": "stdout",
          "text": [
            "\n",
            "\n",
            "\n",
            "ADAM:\n",
            "313/313 [==============================] - 2s 4ms/step - loss: 2.3025 - accuracy: 0.1000\n"
          ]
        },
        {
          "output_type": "execute_result",
          "data": {
            "text/plain": [
              "[2.3025126457214355, 0.10000000149011612]"
            ]
          },
          "metadata": {},
          "execution_count": 97
        },
        {
          "output_type": "stream",
          "name": "stdout",
          "text": [
            "\n",
            "\n",
            "\n",
            "ADADelta:\n",
            "313/313 [==============================] - 1s 3ms/step - loss: 26.2073 - accuracy: 0.2194\n"
          ]
        },
        {
          "output_type": "execute_result",
          "data": {
            "text/plain": [
              "[26.207345962524414, 0.21940000355243683]"
            ]
          },
          "metadata": {},
          "execution_count": 97
        },
        {
          "output_type": "stream",
          "name": "stdout",
          "text": [
            "\n",
            "\n",
            "\n",
            "Stochastic GD:\n",
            "313/313 [==============================] - 1s 3ms/step - loss: 2.3026 - accuracy: 0.1000\n"
          ]
        },
        {
          "output_type": "execute_result",
          "data": {
            "text/plain": [
              "[2.302595615386963, 0.10000000149011612]"
            ]
          },
          "metadata": {},
          "execution_count": 97
        }
      ]
    }
  ]
}