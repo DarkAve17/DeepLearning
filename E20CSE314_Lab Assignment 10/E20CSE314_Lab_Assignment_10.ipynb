{
  "nbformat": 4,
  "nbformat_minor": 0,
  "metadata": {
    "colab": {
      "provenance": [],
      "gpuType": "T4"
    },
    "kernelspec": {
      "name": "python3",
      "display_name": "Python 3"
    },
    "language_info": {
      "name": "python"
    },
    "accelerator": "GPU",
    "gpuClass": "standard"
  },
  "cells": [
    {
      "cell_type": "markdown",
      "source": [
        "##Importing and Base Model"
      ],
      "metadata": {
        "id": "9QEJEvUX4_Gl"
      }
    },
    {
      "cell_type": "code",
      "execution_count": null,
      "metadata": {
        "id": "HORdcLP8mav_"
      },
      "outputs": [],
      "source": [
        "from keras.models import Sequential\n",
        "from keras.layers import Dense\n",
        "import tensorflow as tf\n",
        "import h5py\n",
        "import cv2\n",
        "import keras\n",
        "import numpy as np\n",
        "from keras.datasets import mnist\n",
        "from tensorflow.keras.applications.vgg19 import preprocess_input\n",
        "from tensorflow.keras.utils import to_categorical"
      ]
    },
    {
      "cell_type": "code",
      "source": [
        "#loading and preprocessing MNIST\n",
        "mnist = tf.keras.datasets.mnist\n",
        "\n",
        "(x_train, y_train), (x_test, y_test) = mnist.load_data()"
      ],
      "metadata": {
        "id": "vIv8ImuwrSyW",
        "colab": {
          "base_uri": "https://localhost:8080/"
        },
        "outputId": "a4ed1ec2-f848-455b-f20b-827af03f8f59"
      },
      "execution_count": null,
      "outputs": [
        {
          "output_type": "stream",
          "name": "stdout",
          "text": [
            "Downloading data from https://storage.googleapis.com/tensorflow/tf-keras-datasets/mnist.npz\n",
            "11490434/11490434 [==============================] - 1s 0us/step\n"
          ]
        }
      ]
    },
    {
      "cell_type": "code",
      "source": [
        "#normalizing the Data\n",
        "X= x_train/255\n",
        "x_test= x_test/255\n",
        "\n"
      ],
      "metadata": {
        "id": "DKKzwMZgsHLy"
      },
      "execution_count": null,
      "outputs": []
    },
    {
      "cell_type": "code",
      "source": [
        "X.shape"
      ],
      "metadata": {
        "colab": {
          "base_uri": "https://localhost:8080/"
        },
        "id": "klksMGWIt52-",
        "outputId": "c5ae3d31-713d-4eea-84a1-c9f8204c0b0d"
      },
      "execution_count": null,
      "outputs": [
        {
          "output_type": "execute_result",
          "data": {
            "text/plain": [
              "(60000, 28, 28)"
            ]
          },
          "metadata": {},
          "execution_count": 5
        }
      ]
    },
    {
      "cell_type": "code",
      "source": [
        "# Define the model\n",
        "model = keras.Sequential([\n",
        "           keras.layers.Flatten(input_shape=(28,28)),\n",
        "           keras.layers.Dense(8,activation = 'relu'),\n",
        "           keras.layers.Dense(16, activation = 'relu'),\n",
        "           keras.layers.Dense(10,activation= 'softmax')\n",
        "                            ])\n",
        "#compile the model\n",
        "model.compile(optimizer='adam',\n",
        "              loss='sparse_categorical_crossentropy',\n",
        "              metrics=['accuracy'])"
      ],
      "metadata": {
        "id": "TuaIFUrAqgoh"
      },
      "execution_count": null,
      "outputs": []
    },
    {
      "cell_type": "code",
      "source": [
        "model.fit(X, y_train, epochs=10)"
      ],
      "metadata": {
        "colab": {
          "base_uri": "https://localhost:8080/"
        },
        "id": "D60sCfU1qh4u",
        "outputId": "44be9a13-f599-421a-f895-2921b46edf47"
      },
      "execution_count": null,
      "outputs": [
        {
          "output_type": "stream",
          "name": "stdout",
          "text": [
            "Epoch 1/10\n",
            "1875/1875 [==============================] - 10s 3ms/step - loss: 0.5722 - accuracy: 0.8239\n",
            "Epoch 2/10\n",
            "1875/1875 [==============================] - 6s 3ms/step - loss: 0.3092 - accuracy: 0.9092\n",
            "Epoch 3/10\n",
            "1875/1875 [==============================] - 5s 3ms/step - loss: 0.2770 - accuracy: 0.9191\n",
            "Epoch 4/10\n",
            "1875/1875 [==============================] - 6s 3ms/step - loss: 0.2582 - accuracy: 0.9241\n",
            "Epoch 5/10\n",
            "1875/1875 [==============================] - 5s 3ms/step - loss: 0.2489 - accuracy: 0.9276\n",
            "Epoch 6/10\n",
            "1875/1875 [==============================] - 5s 3ms/step - loss: 0.2399 - accuracy: 0.9301\n",
            "Epoch 7/10\n",
            "1875/1875 [==============================] - 6s 3ms/step - loss: 0.2350 - accuracy: 0.9316\n",
            "Epoch 8/10\n",
            "1875/1875 [==============================] - 5s 3ms/step - loss: 0.2290 - accuracy: 0.9337\n",
            "Epoch 9/10\n",
            "1875/1875 [==============================] - 6s 3ms/step - loss: 0.2250 - accuracy: 0.9342\n",
            "Epoch 10/10\n",
            "1875/1875 [==============================] - 5s 3ms/step - loss: 0.2201 - accuracy: 0.9359\n"
          ]
        },
        {
          "output_type": "execute_result",
          "data": {
            "text/plain": [
              "<keras.callbacks.History at 0x7f53d3bceb50>"
            ]
          },
          "metadata": {},
          "execution_count": 7
        }
      ]
    },
    {
      "cell_type": "markdown",
      "source": [
        "##Question 1"
      ],
      "metadata": {
        "id": "H4S2m3ov5E1T"
      }
    },
    {
      "cell_type": "code",
      "source": [
        "old_loss, old_acc = model.evaluate(x_test, y_test)"
      ],
      "metadata": {
        "colab": {
          "base_uri": "https://localhost:8080/"
        },
        "id": "nVg2eZIS-uZH",
        "outputId": "cbf1490d-c3db-40d6-e308-b01fd86d2b42"
      },
      "execution_count": null,
      "outputs": [
        {
          "output_type": "stream",
          "name": "stdout",
          "text": [
            "313/313 [==============================] - 1s 2ms/step - loss: 0.2314 - accuracy: 0.9343\n"
          ]
        }
      ]
    },
    {
      "cell_type": "code",
      "source": [
        "# Save the weights\n",
        "model.save_weights('my_model_weights.h5')"
      ],
      "metadata": {
        "id": "BVuErbp6qj4Z"
      },
      "execution_count": null,
      "outputs": []
    },
    {
      "cell_type": "code",
      "source": [
        "# Load the weights\n",
        "model.load_weights('my_model_weights.h5')"
      ],
      "metadata": {
        "id": "6yKNJeHYq6H9"
      },
      "execution_count": null,
      "outputs": []
    },
    {
      "cell_type": "code",
      "source": [
        "# Get the current weights\n",
        "ogweights = model.get_weights()"
      ],
      "metadata": {
        "id": "9ULlMUrrxb0h"
      },
      "execution_count": null,
      "outputs": []
    },
    {
      "cell_type": "code",
      "source": [
        "# Set any weights less than 0 to 0 and any weights greater than 0 to 1\n",
        "new_weights0 = [np.where(w < 0, 0, 1) for w in ogweights]"
      ],
      "metadata": {
        "id": "iV7l9SPOyNuo"
      },
      "execution_count": null,
      "outputs": []
    },
    {
      "cell_type": "code",
      "source": [
        "# Set the new weights\n",
        "model.set_weights(new_weights0)"
      ],
      "metadata": {
        "id": "_Uues079yPWi"
      },
      "execution_count": null,
      "outputs": []
    },
    {
      "cell_type": "code",
      "source": [
        "for w in ogweights:\n",
        "  print(w)"
      ],
      "metadata": {
        "colab": {
          "base_uri": "https://localhost:8080/"
        },
        "id": "qSDDUIEoyRCm",
        "outputId": "31cfa1d2-8ef7-4613-a4d8-a46b2eacbb45"
      },
      "execution_count": null,
      "outputs": [
        {
          "output_type": "stream",
          "name": "stdout",
          "text": [
            "[[-0.03159413 -0.06214216  0.08517782 ... -0.07799149  0.06888369\n",
            "   0.00113956]\n",
            " [ 0.02584756 -0.04461527 -0.04302752 ... -0.07847926  0.08251494\n",
            "  -0.0828396 ]\n",
            " [-0.06120673 -0.05895248 -0.07485    ... -0.00985698 -0.02898942\n",
            "  -0.01278915]\n",
            " ...\n",
            " [-0.00822426 -0.0793654   0.08328699 ...  0.05069119  0.05061263\n",
            "  -0.04832891]\n",
            " [-0.00314463 -0.04941131 -0.01194549 ...  0.08203328 -0.03172798\n",
            "  -0.02527577]\n",
            " [-0.01591643 -0.0565291  -0.06027625 ... -0.08654116  0.03693574\n",
            "  -0.04287132]]\n",
            "[ 0.27755988  0.37061834 -0.15812984  0.13914852  0.29569384  0.2272889\n",
            "  0.01819601  0.07710867]\n",
            "[[ 4.70321596e-01 -1.33464962e-01  6.62703991e-01  3.96862507e-01\n",
            "  -9.38432589e-02  6.80372477e-01  2.28520289e-01  5.05725980e-01\n",
            "  -5.01406565e-03  4.83847409e-01  1.75680950e-01  1.06978774e-01\n",
            "  -3.37554604e-01 -5.68998337e-01  7.14039207e-01 -2.33535185e-01]\n",
            " [ 6.54727817e-01 -6.28179550e-01 -6.32104993e-01  5.22172511e-01\n",
            "   7.39932716e-01  1.63301766e-01 -2.09055901e-01 -1.91811308e-01\n",
            "  -3.73205245e-02  6.74557984e-01 -2.37769738e-01  2.47526601e-01\n",
            "  -1.66730940e-01 -3.14819306e-01 -2.68651545e-01 -3.38691026e-01]\n",
            " [-2.02933908e-01 -1.82281271e-01  9.15109962e-02  1.31625906e-01\n",
            "   6.82788789e-01  1.49750486e-01  4.63164240e-01  3.91891956e-01\n",
            "   8.31701696e-01  4.31231916e-01  5.43829560e-01  4.63139504e-01\n",
            "  -2.41817236e-01  3.13582361e-01  3.69495064e-01  5.56593239e-01]\n",
            " [-1.34211853e-01  2.89688915e-01  1.11222357e-01  5.51543355e-01\n",
            "   1.65637180e-01 -5.10390997e-01 -1.19564489e-01  5.87233782e-01\n",
            "  -5.99484503e-01 -2.51341879e-01  1.13029964e-01 -2.73367316e-01\n",
            "   7.35302567e-01 -3.48260067e-02 -8.81921947e-02  2.89373338e-01]\n",
            " [ 1.22969724e-01  7.09951282e-01  7.34984577e-01  4.81219143e-02\n",
            "  -3.93559456e-01  6.50783107e-02  4.85039502e-01 -3.39217633e-01\n",
            "  -2.46986881e-01  1.17870629e-01 -6.56004906e-01  3.60006958e-01\n",
            "   4.45486218e-01  4.37995702e-01  3.00514758e-01  2.69677669e-01]\n",
            " [ 9.28998441e-02  5.72068751e-01 -3.93339545e-02 -4.55373675e-01\n",
            "  -5.78465723e-02 -8.55614543e-02 -1.71356589e-01 -6.40674531e-01\n",
            "   2.23119929e-01 -7.51698241e-02 -5.41069312e-03  3.76888514e-01\n",
            "   1.81204334e-01 -1.09971964e+00 -7.00754464e-01 -1.41490802e-01]\n",
            " [-6.59908876e-02  5.09399891e-01 -3.15971553e-01 -1.34518653e-01\n",
            "   4.82248098e-01  2.68492877e-01 -2.70986985e-02 -9.04962957e-01\n",
            "  -2.73924265e-02  3.33691388e-01  3.82335484e-01 -2.88579762e-01\n",
            "  -4.42541867e-01  4.81787443e-01  5.58638305e-04 -5.82944751e-01]\n",
            " [ 2.13815466e-01  3.51259112e-01  3.15431446e-01  4.36183423e-01\n",
            "   1.24132246e-01  3.58061075e-01 -5.80909908e-01 -4.23286930e-02\n",
            "  -6.03666186e-01 -4.56231922e-01  6.79722488e-01 -1.32907376e-01\n",
            "   2.84203172e-01  4.61883932e-01 -4.69732076e-01  7.32079446e-01]]\n",
            "[ 0.16521835 -0.4149957  -0.50659335  0.5186804   0.01115279  0.5606566\n",
            " -0.06667346  0.02210507  0.34948137 -0.334467   -0.8494383  -0.01420275\n",
            "  0.6892423   0.29115003  0.04156648 -0.01922761]\n",
            "[[-0.16504586 -0.7816709  -0.09231584 -0.14117527 -0.3222703  -0.21239623\n",
            "  -0.18634318  0.4439889  -0.56580293  0.3122214 ]\n",
            " [ 0.71480155 -1.0218195  -0.27627778  0.19413061  0.27600706 -0.26186576\n",
            "   0.35243735 -0.27244145 -0.48344752  0.01464451]\n",
            " [-0.06213738 -0.6622935  -0.291684   -0.61538386  0.5625395  -0.4471862\n",
            "  -0.03489221  0.3604612   0.40507632  0.27174672]\n",
            " [-0.47957447  0.3087493  -0.7279131   0.09532105 -0.13136421  0.46738237\n",
            "  -0.41246247  0.06597495  0.06619581  0.04204813]\n",
            " [ 0.51148355  0.55958915  0.26861554  0.4588504  -1.006995    0.60239244\n",
            "   0.27948728 -0.05345726  0.37618652  0.1989879 ]\n",
            " [ 0.28263927 -0.3640073   0.3953755  -0.37229958  0.18257746  0.04825746\n",
            "  -0.7007958   0.45240316  0.00452064 -0.1501452 ]\n",
            " [-0.02285727 -0.16714936  0.21560815  0.36991245  0.19009206 -0.749882\n",
            "  -0.3583807   0.1071759  -0.21003035  0.46363178]\n",
            " [ 0.26322076  0.5298444  -0.530598   -1.2883021   0.38861215 -0.920651\n",
            "   0.06390069  0.22025208 -0.24285294 -0.02391708]\n",
            " [-0.54095536  0.63471663  0.5733597   0.30682644 -0.0908951   0.27953157\n",
            "   0.11926292  0.6878835  -0.12372694 -1.42555   ]\n",
            " [-0.39469698 -0.2516011   0.31144866  0.19559541 -0.6125666  -0.2319238\n",
            "  -1.4588017   0.22399661 -0.01332339  0.1952276 ]\n",
            " [ 0.53942955 -0.24283192 -0.00301109  0.15948933 -0.44833764  0.10926397\n",
            "  -0.13042228 -0.24137166  0.44169992 -0.28722945]\n",
            " [-0.43466502  0.4851447   0.36196867  0.12309918 -0.20570768 -0.3259688\n",
            "   0.3853504  -0.5363504  -0.08600082  0.3482228 ]\n",
            " [-0.04118514 -0.12419364 -0.3498191  -0.1209823   0.12109188  0.3688112\n",
            "   0.6418123  -0.69224447 -0.66076857 -0.46124294]\n",
            " [-1.4626316  -0.5731622  -0.07712908  0.53462744  0.13964231  0.6946126\n",
            "  -0.6340956  -0.81177604  0.03751606  0.15268174]\n",
            " [-0.13901313  0.3973991  -0.8618847   0.39298055  0.1390356  -0.84785396\n",
            "  -0.38152805  0.4583555  -0.34870017  0.02189445]\n",
            " [-0.5857214  -0.33264577  0.09241988 -0.41429943  0.14771326 -0.09672351\n",
            "   0.42370915 -0.86506766  0.46797946 -0.20179413]]\n",
            "[-0.6587127   0.4370559   0.40511784 -0.3561262   0.42674702  1.0978196\n",
            " -0.01554009  0.26761222 -0.8996641  -0.8464863 ]\n"
          ]
        }
      ]
    },
    {
      "cell_type": "code",
      "source": [
        "for w in new_weights0:\n",
        "  print(w)"
      ],
      "metadata": {
        "colab": {
          "base_uri": "https://localhost:8080/"
        },
        "id": "6MHG4mmlycr4",
        "outputId": "dc9fc8cb-093f-4748-ab7d-fb4050f935a1"
      },
      "execution_count": null,
      "outputs": [
        {
          "output_type": "stream",
          "name": "stdout",
          "text": [
            "[[0 0 1 ... 0 1 1]\n",
            " [1 0 0 ... 0 1 0]\n",
            " [0 0 0 ... 0 0 0]\n",
            " ...\n",
            " [0 0 1 ... 1 1 0]\n",
            " [0 0 0 ... 1 0 0]\n",
            " [0 0 0 ... 0 1 0]]\n",
            "[1 1 0 1 1 1 1 1]\n",
            "[[1 0 1 1 0 1 1 1 0 1 1 1 0 0 1 0]\n",
            " [1 0 0 1 1 1 0 0 0 1 0 1 0 0 0 0]\n",
            " [0 0 1 1 1 1 1 1 1 1 1 1 0 1 1 1]\n",
            " [0 1 1 1 1 0 0 1 0 0 1 0 1 0 0 1]\n",
            " [1 1 1 1 0 1 1 0 0 1 0 1 1 1 1 1]\n",
            " [1 1 0 0 0 0 0 0 1 0 0 1 1 0 0 0]\n",
            " [0 1 0 0 1 1 0 0 0 1 1 0 0 1 1 0]\n",
            " [1 1 1 1 1 1 0 0 0 0 1 0 1 1 0 1]]\n",
            "[1 0 0 1 1 1 0 1 1 0 0 0 1 1 1 0]\n",
            "[[0 0 0 0 0 0 0 1 0 1]\n",
            " [1 0 0 1 1 0 1 0 0 1]\n",
            " [0 0 0 0 1 0 0 1 1 1]\n",
            " [0 1 0 1 0 1 0 1 1 1]\n",
            " [1 1 1 1 0 1 1 0 1 1]\n",
            " [1 0 1 0 1 1 0 1 1 0]\n",
            " [0 0 1 1 1 0 0 1 0 1]\n",
            " [1 1 0 0 1 0 1 1 0 0]\n",
            " [0 1 1 1 0 1 1 1 0 0]\n",
            " [0 0 1 1 0 0 0 1 0 1]\n",
            " [1 0 0 1 0 1 0 0 1 0]\n",
            " [0 1 1 1 0 0 1 0 0 1]\n",
            " [0 0 0 0 1 1 1 0 0 0]\n",
            " [0 0 0 1 1 1 0 0 1 1]\n",
            " [0 1 0 1 1 0 0 1 0 1]\n",
            " [0 0 1 0 1 0 1 0 1 0]]\n",
            "[0 1 1 0 1 1 0 1 0 0]\n"
          ]
        }
      ]
    },
    {
      "cell_type": "code",
      "source": [
        "model.set_weights(ogweights)\n"
      ],
      "metadata": {
        "id": "r8CNmEQ0yhgc"
      },
      "execution_count": null,
      "outputs": []
    },
    {
      "cell_type": "code",
      "source": [
        "model.set_weights(new_weights0)\n",
        "new_loss0, new_acc0 = model.evaluate(x_test,y_test)"
      ],
      "metadata": {
        "colab": {
          "base_uri": "https://localhost:8080/"
        },
        "id": "diEcqmCm0C-T",
        "outputId": "f8734f62-ad19-4447-9b2e-3ff11ec97506"
      },
      "execution_count": null,
      "outputs": [
        {
          "output_type": "stream",
          "name": "stdout",
          "text": [
            "313/313 [==============================] - 1s 2ms/step - loss: 756.6269 - accuracy: 0.1009\n"
          ]
        }
      ]
    },
    {
      "cell_type": "markdown",
      "source": [
        "##Question 2"
      ],
      "metadata": {
        "id": "Y-UAMwUz5I6a"
      }
    },
    {
      "cell_type": "code",
      "source": [
        "# Set any weights less than 0 to -1 and any weights greater than 0 to 1\n",
        "new_weights1 = [np.where(w < 0, -1, 1) for w in ogweights]"
      ],
      "metadata": {
        "id": "ngsmfXUg0rka"
      },
      "execution_count": null,
      "outputs": []
    },
    {
      "cell_type": "code",
      "source": [
        "for w in new_weights1:\n",
        "  print(w)"
      ],
      "metadata": {
        "colab": {
          "base_uri": "https://localhost:8080/"
        },
        "id": "W_ucTUb52GC7",
        "outputId": "ef5c6fce-ce67-4296-f2f8-254eaef31248"
      },
      "execution_count": null,
      "outputs": [
        {
          "output_type": "stream",
          "name": "stdout",
          "text": [
            "[[-1 -1  1 ... -1  1  1]\n",
            " [ 1 -1 -1 ... -1  1 -1]\n",
            " [-1 -1 -1 ... -1 -1 -1]\n",
            " ...\n",
            " [-1 -1  1 ...  1  1 -1]\n",
            " [-1 -1 -1 ...  1 -1 -1]\n",
            " [-1 -1 -1 ... -1  1 -1]]\n",
            "[ 1  1 -1  1  1  1  1  1]\n",
            "[[ 1 -1  1  1 -1  1  1  1 -1  1  1  1 -1 -1  1 -1]\n",
            " [ 1 -1 -1  1  1  1 -1 -1 -1  1 -1  1 -1 -1 -1 -1]\n",
            " [-1 -1  1  1  1  1  1  1  1  1  1  1 -1  1  1  1]\n",
            " [-1  1  1  1  1 -1 -1  1 -1 -1  1 -1  1 -1 -1  1]\n",
            " [ 1  1  1  1 -1  1  1 -1 -1  1 -1  1  1  1  1  1]\n",
            " [ 1  1 -1 -1 -1 -1 -1 -1  1 -1 -1  1  1 -1 -1 -1]\n",
            " [-1  1 -1 -1  1  1 -1 -1 -1  1  1 -1 -1  1  1 -1]\n",
            " [ 1  1  1  1  1  1 -1 -1 -1 -1  1 -1  1  1 -1  1]]\n",
            "[ 1 -1 -1  1  1  1 -1  1  1 -1 -1 -1  1  1  1 -1]\n",
            "[[-1 -1 -1 -1 -1 -1 -1  1 -1  1]\n",
            " [ 1 -1 -1  1  1 -1  1 -1 -1  1]\n",
            " [-1 -1 -1 -1  1 -1 -1  1  1  1]\n",
            " [-1  1 -1  1 -1  1 -1  1  1  1]\n",
            " [ 1  1  1  1 -1  1  1 -1  1  1]\n",
            " [ 1 -1  1 -1  1  1 -1  1  1 -1]\n",
            " [-1 -1  1  1  1 -1 -1  1 -1  1]\n",
            " [ 1  1 -1 -1  1 -1  1  1 -1 -1]\n",
            " [-1  1  1  1 -1  1  1  1 -1 -1]\n",
            " [-1 -1  1  1 -1 -1 -1  1 -1  1]\n",
            " [ 1 -1 -1  1 -1  1 -1 -1  1 -1]\n",
            " [-1  1  1  1 -1 -1  1 -1 -1  1]\n",
            " [-1 -1 -1 -1  1  1  1 -1 -1 -1]\n",
            " [-1 -1 -1  1  1  1 -1 -1  1  1]\n",
            " [-1  1 -1  1  1 -1 -1  1 -1  1]\n",
            " [-1 -1  1 -1  1 -1  1 -1  1 -1]]\n",
            "[-1  1  1 -1  1  1 -1  1 -1 -1]\n"
          ]
        }
      ]
    },
    {
      "cell_type": "code",
      "source": [
        "model.set_weights(new_weights1)\n",
        "new_loss1, new_acc1 = model.evaluate(x_test,y_test)"
      ],
      "metadata": {
        "colab": {
          "base_uri": "https://localhost:8080/"
        },
        "id": "0ws3xlwF2MOM",
        "outputId": "31d49b49-db0b-417b-a0b1-1bbe5102fb8e"
      },
      "execution_count": null,
      "outputs": [
        {
          "output_type": "stream",
          "name": "stdout",
          "text": [
            "313/313 [==============================] - 1s 3ms/step - loss: 116.6102 - accuracy: 0.3537\n"
          ]
        }
      ]
    },
    {
      "cell_type": "markdown",
      "source": [
        "##Question 3"
      ],
      "metadata": {
        "id": "poD-Zvbo5piN"
      }
    },
    {
      "cell_type": "code",
      "source": [
        "#converting all float type weights to type int\n",
        "new_weightsint = [w.astype(np.int32) for w in ogweights]"
      ],
      "metadata": {
        "id": "O6KDRaDL8HSS"
      },
      "execution_count": null,
      "outputs": []
    },
    {
      "cell_type": "code",
      "source": [
        "for w in new_weightsint:\n",
        "  print(w)"
      ],
      "metadata": {
        "colab": {
          "base_uri": "https://localhost:8080/"
        },
        "id": "yl_UK_eE9i-4",
        "outputId": "4393c24b-3486-49c9-877f-40661d158575"
      },
      "execution_count": null,
      "outputs": [
        {
          "output_type": "stream",
          "name": "stdout",
          "text": [
            "[[0 0 0 ... 0 0 0]\n",
            " [0 0 0 ... 0 0 0]\n",
            " [0 0 0 ... 0 0 0]\n",
            " ...\n",
            " [0 0 0 ... 0 0 0]\n",
            " [0 0 0 ... 0 0 0]\n",
            " [0 0 0 ... 0 0 0]]\n",
            "[0 0 0 0 0 0 0 0]\n",
            "[[ 0  0  0  0  0  0  0  0  0  0  0  0  0  0  0  0]\n",
            " [ 0  0  0  0  0  0  0  0  0  0  0  0  0  0  0  0]\n",
            " [ 0  0  0  0  0  0  0  0  0  0  0  0  0  0  0  0]\n",
            " [ 0  0  0  0  0  0  0  0  0  0  0  0  0  0  0  0]\n",
            " [ 0  0  0  0  0  0  0  0  0  0  0  0  0  0  0  0]\n",
            " [ 0  0  0  0  0  0  0  0  0  0  0  0  0 -1  0  0]\n",
            " [ 0  0  0  0  0  0  0  0  0  0  0  0  0  0  0  0]\n",
            " [ 0  0  0  0  0  0  0  0  0  0  0  0  0  0  0  0]]\n",
            "[0 0 0 0 0 0 0 0 0 0 0 0 0 0 0 0]\n",
            "[[ 0  0  0  0  0  0  0  0  0  0]\n",
            " [ 0 -1  0  0  0  0  0  0  0  0]\n",
            " [ 0  0  0  0  0  0  0  0  0  0]\n",
            " [ 0  0  0  0  0  0  0  0  0  0]\n",
            " [ 0  0  0  0 -1  0  0  0  0  0]\n",
            " [ 0  0  0  0  0  0  0  0  0  0]\n",
            " [ 0  0  0  0  0  0  0  0  0  0]\n",
            " [ 0  0  0 -1  0  0  0  0  0  0]\n",
            " [ 0  0  0  0  0  0  0  0  0 -1]\n",
            " [ 0  0  0  0  0  0 -1  0  0  0]\n",
            " [ 0  0  0  0  0  0  0  0  0  0]\n",
            " [ 0  0  0  0  0  0  0  0  0  0]\n",
            " [ 0  0  0  0  0  0  0  0  0  0]\n",
            " [-1  0  0  0  0  0  0  0  0  0]\n",
            " [ 0  0  0  0  0  0  0  0  0  0]\n",
            " [ 0  0  0  0  0  0  0  0  0  0]]\n",
            "[0 0 0 0 0 1 0 0 0 0]\n"
          ]
        }
      ]
    },
    {
      "cell_type": "code",
      "source": [
        "model.set_weights(new_weightsint)\n",
        "new_lossint, new_accint = model.evaluate(x_test,y_test)"
      ],
      "metadata": {
        "colab": {
          "base_uri": "https://localhost:8080/"
        },
        "id": "ksat-3xX9lxa",
        "outputId": "5b6ff38e-b27b-4390-b839-212da604e461"
      },
      "execution_count": null,
      "outputs": [
        {
          "output_type": "stream",
          "name": "stdout",
          "text": [
            "313/313 [==============================] - 1s 4ms/step - loss: 2.3719 - accuracy: 0.0892\n"
          ]
        }
      ]
    },
    {
      "cell_type": "markdown",
      "source": [
        "##Question 4"
      ],
      "metadata": {
        "id": "aCFOEWUWASM0"
      }
    },
    {
      "cell_type": "code",
      "source": [
        "model.set_weights(ogweights)"
      ],
      "metadata": {
        "id": "ePVW-d_chwt4"
      },
      "execution_count": null,
      "outputs": []
    },
    {
      "cell_type": "code",
      "source": [
        "# Convert the model weights to a list of numpy arrays\n",
        "weights_list = [x.numpy() for x in model.weights]\n",
        "\n",
        "# Quantize the weights\n",
        "new_weightsquant = []\n",
        "for weight in weights_list:\n",
        "    max_val = np.abs(weight).max()\n",
        "    scale = max_val / ((2 ** 8) - 1)\n",
        "    quant_weight = np.round(weight / scale).astype(np.int8)\n",
        "    new_weightsquant.append(quant_weight * scale)"
      ],
      "metadata": {
        "id": "zPxUkiB1ARkW"
      },
      "execution_count": null,
      "outputs": []
    },
    {
      "cell_type": "code",
      "source": [
        "# During runtime, compute the weights values\n",
        "runtime_weights = [w/scale for w in quant_weight]"
      ],
      "metadata": {
        "id": "f0jrl27YhOEE"
      },
      "execution_count": null,
      "outputs": []
    },
    {
      "cell_type": "code",
      "source": [
        "for w in quant_weight:\n",
        "  print(w)"
      ],
      "metadata": {
        "colab": {
          "base_uri": "https://localhost:8080/"
        },
        "id": "1jGYm6YdjQjD",
        "outputId": "aa06965f-1a71-4343-bafc-da60ea3a894a"
      },
      "execution_count": null,
      "outputs": [
        {
          "output_type": "stream",
          "name": "stdout",
          "text": [
            "103\n",
            "102\n",
            "94\n",
            "-83\n",
            "99\n",
            "-1\n",
            "-4\n",
            "62\n",
            "47\n",
            "59\n"
          ]
        }
      ]
    },
    {
      "cell_type": "code",
      "source": [
        "# Set the quantized weights on the model\n",
        "model.set_weights(new_weightsquant)"
      ],
      "metadata": {
        "id": "Qe5gEF5EB-6m"
      },
      "execution_count": null,
      "outputs": []
    },
    {
      "cell_type": "code",
      "source": [
        "# Evaluate the model on test data to get loss and accuracy\n",
        "new_lossquant, new_accquant = model.evaluate(x_test,y_test)\n"
      ],
      "metadata": {
        "colab": {
          "base_uri": "https://localhost:8080/"
        },
        "id": "rS0iipd8vqnE",
        "outputId": "0bf8f720-21ba-4772-f9cb-d7edb74300ff"
      },
      "execution_count": null,
      "outputs": [
        {
          "output_type": "stream",
          "name": "stdout",
          "text": [
            "313/313 [==============================] - 1s 2ms/step - loss: 9.7719 - accuracy: 0.0773\n"
          ]
        }
      ]
    },
    {
      "cell_type": "markdown",
      "source": [
        "##Results"
      ],
      "metadata": {
        "id": "o_NylvKl994L"
      }
    },
    {
      "cell_type": "code",
      "source": [
        "print('Old loss:', old_loss, 'Old accuracy:', old_acc)\n",
        "print('New loss with 0:', new_loss0, 'New accuracy with 0:', new_acc0)\n",
        "print('New loss with -1:', new_loss1, 'New accuracy with -1:', new_acc1)\n",
        "print('New loss with typecast:', new_lossint, 'New accuracy with typecast:', new_accint)\n",
        "print('New loss with Quantisation:', new_lossquant, 'New accuracy with quantization:', new_accquant)"
      ],
      "metadata": {
        "colab": {
          "base_uri": "https://localhost:8080/"
        },
        "id": "eVYIBJIR9v3F",
        "outputId": "307fc726-c61d-4b0e-edd1-3ae622c958c9"
      },
      "execution_count": null,
      "outputs": [
        {
          "output_type": "stream",
          "name": "stdout",
          "text": [
            "Old loss: 0.23142068088054657 Old accuracy: 0.9343000054359436\n",
            "New loss with 0: 756.6268920898438 New accuracy with 0: 0.10090000182390213\n",
            "New loss with -1: 116.61021423339844 New accuracy with -1: 0.35370001196861267\n",
            "New loss with typecast: 2.371941566467285 New accuracy with typecast: 0.08919999748468399\n",
            "New loss with Quantisation: 9.771871566772461 New accuracy with quantization: 0.07729999721050262\n"
          ]
        }
      ]
    },
    {
      "cell_type": "code",
      "source": [],
      "metadata": {
        "id": "eWt34fNs96MV"
      },
      "execution_count": null,
      "outputs": []
    }
  ]
}